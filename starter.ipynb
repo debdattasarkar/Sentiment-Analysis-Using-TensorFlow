{
  "cells": [
    {
      "cell_type": "markdown",
      "id": "994d6af3-4290-4ae5-b7a4-10c25a9f9943",
      "metadata": {
        "id": "994d6af3-4290-4ae5-b7a4-10c25a9f9943"
      },
      "source": [
        "# Task 1 : Create a DataFrame from a Text File with Sentence-Label Pairs"
      ]
    },
    {
      "cell_type": "code",
      "execution_count": 4,
      "id": "093ad54e-e1df-4634-b21d-18e7abbc18b2",
      "metadata": {
        "id": "093ad54e-e1df-4634-b21d-18e7abbc18b2"
      },
      "outputs": [],
      "source": []
    },
    {
      "cell_type": "markdown",
      "id": "38b1c426-3cfd-42a6-9da9-321a9d66b2c3",
      "metadata": {
        "id": "38b1c426-3cfd-42a6-9da9-321a9d66b2c3"
      },
      "source": [
        "<div class=\"task-panel-v2--description--15n8T\"><div data-purpose=\"safely-set-inner-html:rich-text-viewer:html\" class=\"lab-rich-text-viewer--lab-html-content--22XsM rt-scaffolding\"><p>Construct a Pandas DataFrame from a text file that contains sentence-label pairs. Each line in the text file follows the format <code><strong>sentence@label</strong></code>. This task involves:</p><ul><li><p>Reading data from 'Sentences_75Agree_sample.txt'.</p></li><li><p>Parsing each line to separate sentences from labels.</p></li><li><p>Creating a DataFrame with two columns: 'Sentence' and 'Label'.</p><p><br></p></li></ul></div></div>\n",
        "<div data-purpose=\"safely-set-inner-html:rich-text-viewer:html\" class=\"lab-rich-text-viewer--lab-html-content--22XsM rt-scaffolding\"><ol><li><p>Import the Pandas library:</p><div class=\"ud-component--base-components--code-block\"><div><pre class=\"prettyprint linenums prettyprinted\" role=\"presentation\" style=\"\"><ol class=\"linenums\"><li class=\"L0\"><span class=\"com\"># Import Pandas for data manipulation</span></li><li class=\"L1\"><span class=\"kwd\">import</span><span class=\"pln\"> pandas </span><span class=\"kwd\">as</span><span class=\"pln\"> pd</span></li></ol></pre></div></div><p><br></p></li><li><p>Read data from the text file:</p><div class=\"ud-component--base-components--code-block\"><div><pre class=\"prettyprint linenums prettyprinted\" role=\"presentation\" style=\"\"><ol class=\"linenums\"><li class=\"L0\"><span class=\"com\"># Open the text file and read all lines</span></li><li class=\"L1\"><span class=\"kwd\">with</span><span class=\"pln\"> open</span><span class=\"pun\">(</span><span class=\"str\">'Sentences_75Agree_sample.txt'</span><span class=\"pun\">,</span><span class=\"pln\"> </span><span class=\"str\">'r'</span><span class=\"pun\">,</span><span class=\"pln\"> encoding</span><span class=\"pun\">=</span><span class=\"str\">'latin1'</span><span class=\"pun\">)</span><span class=\"pln\"> </span><span class=\"kwd\">as</span><span class=\"pln\"> file</span><span class=\"pun\">:</span></li><li class=\"L2\"><span class=\"pln\">    lines </span><span class=\"pun\">=</span><span class=\"pln\"> file</span><span class=\"pun\">.</span><span class=\"pln\">readlines</span><span class=\"pun\">()</span></li><li class=\"L3\"><span class=\"pln\">lines</span><span class=\"pun\">[:</span><span class=\"lit\">5</span><span class=\"pun\">]</span></li></ol></pre></div></div><figure><img align=\"middle\" src=\"https://udemy-images.s3.amazonaws.com:443/redactor/raw/create_lab_editor/2023-11-03_10-05-40-ee8dfeb38fd4a35edce93efe1050031f.png\" style=\"display: none;\"><span class=\"ud-component--base-components--open-full-size-image\"><div class=\"open-full-size-image--wrapper--2kvh_\" data-purpose=\"open-full-size-image\"><img src=\"https://udemy-images.s3.amazonaws.com:443/redactor/raw/create_lab_editor/2023-11-03_10-05-40-ee8dfeb38fd4a35edce93efe1050031f.png\" alt=\"\" loading=\"eager\"><button type=\"button\" class=\"ud-btn ud-btn-large ud-btn-link ud-heading-md open-full-size-image--backdrop--20cbM\"><svg aria-label=\"Larger image\" role=\"img\" focusable=\"false\" class=\"ud-icon ud-icon-large ud-icon-color-neutral\"><use xlink:href=\"#icon-search\"></use></svg></button></div></span></figure></li><li><p>Parse each line into sentence and label:</p><div class=\"ud-component--base-components--code-block\"><div><pre class=\"prettyprint linenums prettyprinted\" role=\"presentation\" style=\"\"><ol class=\"linenums\"><li class=\"L0\"><span class=\"com\"># Split each line at '@' to separate sentences and labels and strip whitespace</span></li><li class=\"L1\"><span class=\"pln\">data </span><span class=\"pun\">=</span><span class=\"pln\"> </span><span class=\"pun\">[</span><span class=\"pln\">line</span><span class=\"pun\">.</span><span class=\"pln\">strip</span><span class=\"pun\">().</span><span class=\"pln\">split</span><span class=\"pun\">(</span><span class=\"str\">'@'</span><span class=\"pun\">)</span><span class=\"pln\"> </span><span class=\"kwd\">for</span><span class=\"pln\"> line </span><span class=\"kwd\">in</span><span class=\"pln\"> lines</span><span class=\"pun\">]</span></li></ol></pre></div></div><figure><img align=\"middle\" src=\"https://udemy-images.s3.amazonaws.com:443/redactor/raw/create_lab_editor/2023-11-03_10-05-41-900a1f3f5f7ea0ee34e10981518d097c.png\" style=\"display: none;\"><span class=\"ud-component--base-components--open-full-size-image\"><div class=\"open-full-size-image--wrapper--2kvh_\" data-purpose=\"open-full-size-image\"><img src=\"https://udemy-images.s3.amazonaws.com:443/redactor/raw/create_lab_editor/2023-11-03_10-05-41-900a1f3f5f7ea0ee34e10981518d097c.png\" alt=\"\" loading=\"eager\"><button type=\"button\" class=\"ud-btn ud-btn-large ud-btn-link ud-heading-md open-full-size-image--backdrop--20cbM\"><svg aria-label=\"Larger image\" role=\"img\" focusable=\"false\" class=\"ud-icon ud-icon-large ud-icon-color-neutral\"><use xlink:href=\"#icon-search\"></use></svg></button></div></span></figure></li><li><p>Create a DataFrame from the parsed data:</p><div class=\"ud-component--base-components--code-block\"><div><pre class=\"prettyprint linenums prettyprinted\" role=\"presentation\" style=\"\"><ol class=\"linenums\"><li class=\"L0\"><span class=\"com\"># Define column names and create a DataFrame</span></li><li class=\"L1\"><span class=\"pln\">df </span><span class=\"pun\">=</span><span class=\"pln\"> pd</span><span class=\"pun\">.</span><span class=\"typ\">DataFrame</span><span class=\"pun\">(</span><span class=\"pln\">data</span><span class=\"pun\">,</span><span class=\"pln\"> columns</span><span class=\"pun\">=[</span><span class=\"str\">'Sentence'</span><span class=\"pun\">,</span><span class=\"pln\"> </span><span class=\"str\">'Label'</span><span class=\"pun\">])</span></li></ol></pre></div></div><p><br></p></li><li><p>Display the first few rows of the DataFrame:</p><div class=\"ud-component--base-components--code-block\"><div><pre class=\"prettyprint linenums prettyprinted\" role=\"presentation\" style=\"\"><ol class=\"linenums\"><li class=\"L0\"><span class=\"com\"># Display the top rows of the DataFrame to ensure it is structured correctly</span></li><li class=\"L1\"><span class=\"pln\">df</span><span class=\"pun\">.</span><span class=\"pln\">head</span><span class=\"pun\">()</span></li></ol></pre></div></div><figure><img align=\"middle\" src=\"https://udemy-images.s3.amazonaws.com:443/redactor/raw/create_lab_editor/2023-11-03_10-05-41-9139082a0eea554184bf4c190e3800c9.png\" style=\"display: none;\"><span class=\"ud-component--base-components--open-full-size-image\"><div class=\"open-full-size-image--wrapper--2kvh_\" data-purpose=\"open-full-size-image\"><img src=\"https://udemy-images.s3.amazonaws.com:443/redactor/raw/create_lab_editor/2023-11-03_10-05-41-9139082a0eea554184bf4c190e3800c9.png\" alt=\"\" loading=\"eager\"><button type=\"button\" class=\"ud-btn ud-btn-large ud-btn-link ud-heading-md open-full-size-image--backdrop--20cbM\"><svg aria-label=\"Larger image\" role=\"img\" focusable=\"false\" class=\"ud-icon ud-icon-large ud-icon-color-neutral\"><use xlink:href=\"#icon-search\"></use></svg></button></div></span></figure></li></ol></div>"
      ]
    },
    {
      "cell_type": "code",
      "execution_count": 5,
      "id": "e819d824-252a-4df0-9612-c24190504a8e",
      "metadata": {
        "id": "e819d824-252a-4df0-9612-c24190504a8e"
      },
      "outputs": [],
      "source": [
        "# import pandas for data manipulation\n",
        "import pandas as pd"
      ]
    },
    {
      "cell_type": "code",
      "execution_count": 6,
      "id": "fd02a5d9-0ddc-462d-adf3-096d657811f3",
      "metadata": {
        "id": "fd02a5d9-0ddc-462d-adf3-096d657811f3",
        "outputId": "0899ad2b-5b6c-44a7-c1d9-96c319953e1a",
        "colab": {
          "base_uri": "https://localhost:8080/"
        }
      },
      "outputs": [
        {
          "output_type": "execute_result",
          "data": {
            "text/plain": [
              "['According to Gran , the company has no plans to move all production to Russia , although that is where the company is growing .@neutral\\n',\n",
              " 'With the new production plant the company would increase its capacity to meet the expected increase in demand and would improve the use of raw materials and therefore increase the production profitability .@positive\\n',\n",
              " \"For the last quarter of 2010 , Componenta 's net sales doubled to EUR131m from EUR76m for the same period a year earlier , while it moved to a zero pre-tax profit from a pre-tax loss of EUR7m .@positive\\n\",\n",
              " 'In the third quarter of 2010 , net sales increased by 5.2 % to EUR 205.5 mn , and operating profit by 34.9 % to EUR 23.5 mn .@positive\\n',\n",
              " 'Operating profit rose to EUR 13.1 mn from EUR 8.7 mn in the corresponding period in 2007 representing 7.7 % of net sales .@positive\\n']"
            ]
          },
          "metadata": {},
          "execution_count": 6
        }
      ],
      "source": [
        "# Open the text file and read all lines\n",
        "with open('Sentences_75Agree_sample.txt', 'r', encoding='latin1') as file:\n",
        "    lines = file.readlines()\n",
        "lines[:5]\n",
        "\n",
        "# To close the file automatically without calling the close() method, you use the 'with' statement as here\n",
        "# '''\n",
        "# https://www.pythontutorial.net/python-basics/python-read-text-file/\n",
        "# The code in the previous examples works fine with ASCII text files. However, if you’re dealing with other languages such as Japanese, Chinese, and\n",
        "# Korean, the text file is not a simple ASCII text file. And it’s likely a UTF-8 file that uses more than just the standard ASCII text characters.\n",
        "\n",
        "# To open a UTF-8 text file, you need to pass the encoding='utf-8' to the open() function to instruct it to expect UTF-8 characters from the file.\n",
        "# '''"
      ]
    },
    {
      "cell_type": "code",
      "execution_count": 7,
      "id": "39c45138-3382-463c-81ad-236db565e977",
      "metadata": {
        "id": "39c45138-3382-463c-81ad-236db565e977"
      },
      "outputs": [],
      "source": [
        "# Split each linr at '@' to separate sentences and labels and strip whitespaces\n",
        "data = [line.strip().split('@') for line in lines]"
      ]
    },
    {
      "cell_type": "code",
      "execution_count": 8,
      "id": "2efe112d-c4de-44c8-9928-5f5eb9de1656",
      "metadata": {
        "id": "2efe112d-c4de-44c8-9928-5f5eb9de1656",
        "outputId": "19d50eb6-3641-4317-e334-04d564592ae0",
        "colab": {
          "base_uri": "https://localhost:8080/"
        }
      },
      "outputs": [
        {
          "output_type": "execute_result",
          "data": {
            "text/plain": [
              "[['According to Gran , the company has no plans to move all production to Russia , although that is where the company is growing .',\n",
              "  'neutral'],\n",
              " ['With the new production plant the company would increase its capacity to meet the expected increase in demand and would improve the use of raw materials and therefore increase the production profitability .',\n",
              "  'positive'],\n",
              " [\"For the last quarter of 2010 , Componenta 's net sales doubled to EUR131m from EUR76m for the same period a year earlier , while it moved to a zero pre-tax profit from a pre-tax loss of EUR7m .\",\n",
              "  'positive']]"
            ]
          },
          "metadata": {},
          "execution_count": 8
        }
      ],
      "source": [
        "data[:3]"
      ]
    },
    {
      "cell_type": "code",
      "execution_count": 9,
      "id": "1432909e-a81d-421a-b794-9b3c584ed46b",
      "metadata": {
        "id": "1432909e-a81d-421a-b794-9b3c584ed46b"
      },
      "outputs": [],
      "source": [
        "df = pd.DataFrame(data, columns=['Sentence', 'Label'])"
      ]
    },
    {
      "cell_type": "code",
      "execution_count": 10,
      "id": "db040921-3674-4d04-9ef8-57563fa48864",
      "metadata": {
        "id": "db040921-3674-4d04-9ef8-57563fa48864",
        "outputId": "0dce79cd-5980-454c-948c-b05c61fd8420",
        "colab": {
          "base_uri": "https://localhost:8080/",
          "height": 206
        }
      },
      "outputs": [
        {
          "output_type": "execute_result",
          "data": {
            "text/plain": [
              "                                            Sentence     Label\n",
              "0  According to Gran , the company has no plans t...   neutral\n",
              "1  With the new production plant the company woul...  positive\n",
              "2  For the last quarter of 2010 , Componenta 's n...  positive\n",
              "3  In the third quarter of 2010 , net sales incre...  positive\n",
              "4  Operating profit rose to EUR 13.1 mn from EUR ...  positive"
            ],
            "text/html": [
              "\n",
              "  <div id=\"df-115c631e-2029-468d-b7c1-60fe30c7e8b5\" class=\"colab-df-container\">\n",
              "    <div>\n",
              "<style scoped>\n",
              "    .dataframe tbody tr th:only-of-type {\n",
              "        vertical-align: middle;\n",
              "    }\n",
              "\n",
              "    .dataframe tbody tr th {\n",
              "        vertical-align: top;\n",
              "    }\n",
              "\n",
              "    .dataframe thead th {\n",
              "        text-align: right;\n",
              "    }\n",
              "</style>\n",
              "<table border=\"1\" class=\"dataframe\">\n",
              "  <thead>\n",
              "    <tr style=\"text-align: right;\">\n",
              "      <th></th>\n",
              "      <th>Sentence</th>\n",
              "      <th>Label</th>\n",
              "    </tr>\n",
              "  </thead>\n",
              "  <tbody>\n",
              "    <tr>\n",
              "      <th>0</th>\n",
              "      <td>According to Gran , the company has no plans t...</td>\n",
              "      <td>neutral</td>\n",
              "    </tr>\n",
              "    <tr>\n",
              "      <th>1</th>\n",
              "      <td>With the new production plant the company woul...</td>\n",
              "      <td>positive</td>\n",
              "    </tr>\n",
              "    <tr>\n",
              "      <th>2</th>\n",
              "      <td>For the last quarter of 2010 , Componenta 's n...</td>\n",
              "      <td>positive</td>\n",
              "    </tr>\n",
              "    <tr>\n",
              "      <th>3</th>\n",
              "      <td>In the third quarter of 2010 , net sales incre...</td>\n",
              "      <td>positive</td>\n",
              "    </tr>\n",
              "    <tr>\n",
              "      <th>4</th>\n",
              "      <td>Operating profit rose to EUR 13.1 mn from EUR ...</td>\n",
              "      <td>positive</td>\n",
              "    </tr>\n",
              "  </tbody>\n",
              "</table>\n",
              "</div>\n",
              "    <div class=\"colab-df-buttons\">\n",
              "\n",
              "  <div class=\"colab-df-container\">\n",
              "    <button class=\"colab-df-convert\" onclick=\"convertToInteractive('df-115c631e-2029-468d-b7c1-60fe30c7e8b5')\"\n",
              "            title=\"Convert this dataframe to an interactive table.\"\n",
              "            style=\"display:none;\">\n",
              "\n",
              "  <svg xmlns=\"http://www.w3.org/2000/svg\" height=\"24px\" viewBox=\"0 -960 960 960\">\n",
              "    <path d=\"M120-120v-720h720v720H120Zm60-500h600v-160H180v160Zm220 220h160v-160H400v160Zm0 220h160v-160H400v160ZM180-400h160v-160H180v160Zm440 0h160v-160H620v160ZM180-180h160v-160H180v160Zm440 0h160v-160H620v160Z\"/>\n",
              "  </svg>\n",
              "    </button>\n",
              "\n",
              "  <style>\n",
              "    .colab-df-container {\n",
              "      display:flex;\n",
              "      gap: 12px;\n",
              "    }\n",
              "\n",
              "    .colab-df-convert {\n",
              "      background-color: #E8F0FE;\n",
              "      border: none;\n",
              "      border-radius: 50%;\n",
              "      cursor: pointer;\n",
              "      display: none;\n",
              "      fill: #1967D2;\n",
              "      height: 32px;\n",
              "      padding: 0 0 0 0;\n",
              "      width: 32px;\n",
              "    }\n",
              "\n",
              "    .colab-df-convert:hover {\n",
              "      background-color: #E2EBFA;\n",
              "      box-shadow: 0px 1px 2px rgba(60, 64, 67, 0.3), 0px 1px 3px 1px rgba(60, 64, 67, 0.15);\n",
              "      fill: #174EA6;\n",
              "    }\n",
              "\n",
              "    .colab-df-buttons div {\n",
              "      margin-bottom: 4px;\n",
              "    }\n",
              "\n",
              "    [theme=dark] .colab-df-convert {\n",
              "      background-color: #3B4455;\n",
              "      fill: #D2E3FC;\n",
              "    }\n",
              "\n",
              "    [theme=dark] .colab-df-convert:hover {\n",
              "      background-color: #434B5C;\n",
              "      box-shadow: 0px 1px 3px 1px rgba(0, 0, 0, 0.15);\n",
              "      filter: drop-shadow(0px 1px 2px rgba(0, 0, 0, 0.3));\n",
              "      fill: #FFFFFF;\n",
              "    }\n",
              "  </style>\n",
              "\n",
              "    <script>\n",
              "      const buttonEl =\n",
              "        document.querySelector('#df-115c631e-2029-468d-b7c1-60fe30c7e8b5 button.colab-df-convert');\n",
              "      buttonEl.style.display =\n",
              "        google.colab.kernel.accessAllowed ? 'block' : 'none';\n",
              "\n",
              "      async function convertToInteractive(key) {\n",
              "        const element = document.querySelector('#df-115c631e-2029-468d-b7c1-60fe30c7e8b5');\n",
              "        const dataTable =\n",
              "          await google.colab.kernel.invokeFunction('convertToInteractive',\n",
              "                                                    [key], {});\n",
              "        if (!dataTable) return;\n",
              "\n",
              "        const docLinkHtml = 'Like what you see? Visit the ' +\n",
              "          '<a target=\"_blank\" href=https://colab.research.google.com/notebooks/data_table.ipynb>data table notebook</a>'\n",
              "          + ' to learn more about interactive tables.';\n",
              "        element.innerHTML = '';\n",
              "        dataTable['output_type'] = 'display_data';\n",
              "        await google.colab.output.renderOutput(dataTable, element);\n",
              "        const docLink = document.createElement('div');\n",
              "        docLink.innerHTML = docLinkHtml;\n",
              "        element.appendChild(docLink);\n",
              "      }\n",
              "    </script>\n",
              "  </div>\n",
              "\n",
              "\n",
              "<div id=\"df-2d24d6ef-c5d1-4705-a04f-c296c08d0387\">\n",
              "  <button class=\"colab-df-quickchart\" onclick=\"quickchart('df-2d24d6ef-c5d1-4705-a04f-c296c08d0387')\"\n",
              "            title=\"Suggest charts\"\n",
              "            style=\"display:none;\">\n",
              "\n",
              "<svg xmlns=\"http://www.w3.org/2000/svg\" height=\"24px\"viewBox=\"0 0 24 24\"\n",
              "     width=\"24px\">\n",
              "    <g>\n",
              "        <path d=\"M19 3H5c-1.1 0-2 .9-2 2v14c0 1.1.9 2 2 2h14c1.1 0 2-.9 2-2V5c0-1.1-.9-2-2-2zM9 17H7v-7h2v7zm4 0h-2V7h2v10zm4 0h-2v-4h2v4z\"/>\n",
              "    </g>\n",
              "</svg>\n",
              "  </button>\n",
              "\n",
              "<style>\n",
              "  .colab-df-quickchart {\n",
              "      --bg-color: #E8F0FE;\n",
              "      --fill-color: #1967D2;\n",
              "      --hover-bg-color: #E2EBFA;\n",
              "      --hover-fill-color: #174EA6;\n",
              "      --disabled-fill-color: #AAA;\n",
              "      --disabled-bg-color: #DDD;\n",
              "  }\n",
              "\n",
              "  [theme=dark] .colab-df-quickchart {\n",
              "      --bg-color: #3B4455;\n",
              "      --fill-color: #D2E3FC;\n",
              "      --hover-bg-color: #434B5C;\n",
              "      --hover-fill-color: #FFFFFF;\n",
              "      --disabled-bg-color: #3B4455;\n",
              "      --disabled-fill-color: #666;\n",
              "  }\n",
              "\n",
              "  .colab-df-quickchart {\n",
              "    background-color: var(--bg-color);\n",
              "    border: none;\n",
              "    border-radius: 50%;\n",
              "    cursor: pointer;\n",
              "    display: none;\n",
              "    fill: var(--fill-color);\n",
              "    height: 32px;\n",
              "    padding: 0;\n",
              "    width: 32px;\n",
              "  }\n",
              "\n",
              "  .colab-df-quickchart:hover {\n",
              "    background-color: var(--hover-bg-color);\n",
              "    box-shadow: 0 1px 2px rgba(60, 64, 67, 0.3), 0 1px 3px 1px rgba(60, 64, 67, 0.15);\n",
              "    fill: var(--button-hover-fill-color);\n",
              "  }\n",
              "\n",
              "  .colab-df-quickchart-complete:disabled,\n",
              "  .colab-df-quickchart-complete:disabled:hover {\n",
              "    background-color: var(--disabled-bg-color);\n",
              "    fill: var(--disabled-fill-color);\n",
              "    box-shadow: none;\n",
              "  }\n",
              "\n",
              "  .colab-df-spinner {\n",
              "    border: 2px solid var(--fill-color);\n",
              "    border-color: transparent;\n",
              "    border-bottom-color: var(--fill-color);\n",
              "    animation:\n",
              "      spin 1s steps(1) infinite;\n",
              "  }\n",
              "\n",
              "  @keyframes spin {\n",
              "    0% {\n",
              "      border-color: transparent;\n",
              "      border-bottom-color: var(--fill-color);\n",
              "      border-left-color: var(--fill-color);\n",
              "    }\n",
              "    20% {\n",
              "      border-color: transparent;\n",
              "      border-left-color: var(--fill-color);\n",
              "      border-top-color: var(--fill-color);\n",
              "    }\n",
              "    30% {\n",
              "      border-color: transparent;\n",
              "      border-left-color: var(--fill-color);\n",
              "      border-top-color: var(--fill-color);\n",
              "      border-right-color: var(--fill-color);\n",
              "    }\n",
              "    40% {\n",
              "      border-color: transparent;\n",
              "      border-right-color: var(--fill-color);\n",
              "      border-top-color: var(--fill-color);\n",
              "    }\n",
              "    60% {\n",
              "      border-color: transparent;\n",
              "      border-right-color: var(--fill-color);\n",
              "    }\n",
              "    80% {\n",
              "      border-color: transparent;\n",
              "      border-right-color: var(--fill-color);\n",
              "      border-bottom-color: var(--fill-color);\n",
              "    }\n",
              "    90% {\n",
              "      border-color: transparent;\n",
              "      border-bottom-color: var(--fill-color);\n",
              "    }\n",
              "  }\n",
              "</style>\n",
              "\n",
              "  <script>\n",
              "    async function quickchart(key) {\n",
              "      const quickchartButtonEl =\n",
              "        document.querySelector('#' + key + ' button');\n",
              "      quickchartButtonEl.disabled = true;  // To prevent multiple clicks.\n",
              "      quickchartButtonEl.classList.add('colab-df-spinner');\n",
              "      try {\n",
              "        const charts = await google.colab.kernel.invokeFunction(\n",
              "            'suggestCharts', [key], {});\n",
              "      } catch (error) {\n",
              "        console.error('Error during call to suggestCharts:', error);\n",
              "      }\n",
              "      quickchartButtonEl.classList.remove('colab-df-spinner');\n",
              "      quickchartButtonEl.classList.add('colab-df-quickchart-complete');\n",
              "    }\n",
              "    (() => {\n",
              "      let quickchartButtonEl =\n",
              "        document.querySelector('#df-2d24d6ef-c5d1-4705-a04f-c296c08d0387 button');\n",
              "      quickchartButtonEl.style.display =\n",
              "        google.colab.kernel.accessAllowed ? 'block' : 'none';\n",
              "    })();\n",
              "  </script>\n",
              "</div>\n",
              "\n",
              "    </div>\n",
              "  </div>\n"
            ]
          },
          "metadata": {},
          "execution_count": 10
        }
      ],
      "source": [
        "df.head()"
      ]
    },
    {
      "cell_type": "code",
      "execution_count": 10,
      "id": "29548b3a-72f8-4e86-befb-107c7bc8d5ae",
      "metadata": {
        "id": "29548b3a-72f8-4e86-befb-107c7bc8d5ae"
      },
      "outputs": [],
      "source": []
    },
    {
      "cell_type": "markdown",
      "id": "71c47d1c-5873-46a8-baf4-37d2e419300b",
      "metadata": {
        "id": "71c47d1c-5873-46a8-baf4-37d2e419300b"
      },
      "source": [
        "# Task 2: Visual Analysis of Label Distribution and Sentence Lengths in Text Data"
      ]
    },
    {
      "cell_type": "markdown",
      "id": "32ec75df-5330-404d-b76f-868047a42051",
      "metadata": {
        "id": "32ec75df-5330-404d-b76f-868047a42051"
      },
      "source": [
        "<div data-purpose=\"safely-set-inner-html:rich-text-viewer:html\" class=\"lab-rich-text-viewer--lab-html-content--22XsM rt-scaffolding\"><p>In this task, you will analyze a preloaded dataset containing sentences and their corresponding labels. You will visualize the frequency of each label to understand the distribution of categories within the data. Additionally, you will calculate and plot the distribution of sentence lengths to gain insights into the variability of sentence construction within the dataset.</p><p><br></p></div>\n",
        "\n",
        "<div data-purpose=\"safely-set-inner-html:rich-text-viewer:html\" class=\"lab-rich-text-viewer--lab-html-content--22XsM rt-scaffolding\"><ol><li><p>Import Matplotlib:</p><div class=\"ud-component--base-components--code-block\"><div><pre class=\"prettyprint linenums prettyprinted\" role=\"presentation\" style=\"\"><ol class=\"linenums\"><li class=\"L0\"><span class=\"com\"># Import pandas for data handling and matplotlib for plotting</span></li><li class=\"L1\"><span class=\"kwd\">import</span><span class=\"pln\"> pandas </span><span class=\"kwd\">as</span><span class=\"pln\"> pd</span></li><li class=\"L2\"><span class=\"kwd\">import</span><span class=\"pln\"> matplotlib</span><span class=\"pun\">.</span><span class=\"pln\">pyplot </span><span class=\"kwd\">as</span><span class=\"pln\"> plt</span></li></ol></pre></div></div><p><br></p></li><li><p>Convert Labels to a DataFrame for Analysis</p><div class=\"ud-component--base-components--code-block\"><div><pre class=\"prettyprint linenums prettyprinted\" role=\"presentation\" style=\"\"><ol class=\"linenums\"><li class=\"L0\"><span class=\"com\"># Creatlabels_dfe a DataFrame specifically for the 'Label' column for easy manipulation</span></li><li class=\"L1\"><span class=\"pln\">labels_df </span><span class=\"pun\">=</span><span class=\"pln\"> pd</span><span class=\"pun\">.</span><span class=\"typ\">DataFrame</span><span class=\"pun\">(</span><span class=\"pln\">df</span><span class=\"pun\">.</span><span class=\"typ\">Label</span><span class=\"pun\">,</span><span class=\"pln\"> columns</span><span class=\"pun\">=[</span><span class=\"str\">'Label'</span><span class=\"pun\">])</span></li><li class=\"L2\"><span class=\"pln\">labels_df</span><span class=\"pun\">[:</span><span class=\"lit\">5</span><span class=\"pun\">]</span></li></ol></pre></div></div><figure><img align=\"middle\" src=\"https://udemy-images.s3.amazonaws.com:443/redactor/raw/create_lab_editor/2023-11-03_10-17-09-8a653a3b05bb202f2c63a2c48c22de9d.png\" style=\"display: none;\"><span class=\"ud-component--base-components--open-full-size-image\"><div class=\"open-full-size-image--wrapper--2kvh_\" data-purpose=\"open-full-size-image\"><img src=\"https://udemy-images.s3.amazonaws.com:443/redactor/raw/create_lab_editor/2023-11-03_10-17-09-8a653a3b05bb202f2c63a2c48c22de9d.png\" alt=\"\" loading=\"eager\"><button type=\"button\" class=\"ud-btn ud-btn-large ud-btn-link ud-heading-md open-full-size-image--backdrop--20cbM\"><svg aria-label=\"Larger image\" role=\"img\" focusable=\"false\" class=\"ud-icon ud-icon-large ud-icon-color-neutral\"><use xlink:href=\"#icon-search\"></use></svg></button></div></span></figure></li><li><p>Plot the label distribution:</p><div class=\"ud-component--base-components--code-block\"><div><pre class=\"prettyprint linenums prettyprinted\" role=\"presentation\" style=\"\"><ol class=\"linenums\"><li class=\"L0\"><span class=\"com\"># Use a bar chart to visualize how frequently each label occurs in the dataset</span></li><li class=\"L1\"><span class=\"pln\">labels_df</span><span class=\"pun\">[</span><span class=\"str\">'Label'</span><span class=\"pun\">].</span><span class=\"pln\">value_counts</span><span class=\"pun\">().</span><span class=\"pln\">plot</span><span class=\"pun\">(</span><span class=\"pln\">kind</span><span class=\"pun\">=</span><span class=\"str\">'bar'</span><span class=\"pun\">)</span></li><li class=\"L2\"><span class=\"pln\">plt</span><span class=\"pun\">.</span><span class=\"pln\">title</span><span class=\"pun\">(</span><span class=\"str\">'Distribution of Labels'</span><span class=\"pun\">)</span><span class=\"pln\">  </span><span class=\"com\"># Add a title to the bar chart</span></li><li class=\"L3\"><span class=\"pln\">plt</span><span class=\"pun\">.</span><span class=\"pln\">xlabel</span><span class=\"pun\">(</span><span class=\"str\">'Label'</span><span class=\"pun\">)</span><span class=\"pln\">                  </span><span class=\"com\"># Label the x-axis as 'Label'</span></li><li class=\"L4\"><span class=\"pln\">plt</span><span class=\"pun\">.</span><span class=\"pln\">ylabel</span><span class=\"pun\">(</span><span class=\"str\">'Count'</span><span class=\"pun\">)</span><span class=\"pln\">                  </span><span class=\"com\"># Label the y-axis as 'Count'</span></li><li class=\"L5\"><span class=\"pln\">plt</span><span class=\"pun\">.</span><span class=\"pln\">show</span><span class=\"pun\">()</span></li></ol></pre></div></div><figure><img align=\"middle\" src=\"https://udemy-images.s3.amazonaws.com:443/redactor/raw/create_lab_editor/2023-11-03_10-17-10-783c221429112b55eedb052659f656bf.png\" style=\"display: none;\"><span class=\"ud-component--base-components--open-full-size-image\"><div class=\"open-full-size-image--wrapper--2kvh_\" data-purpose=\"open-full-size-image\"><img src=\"https://udemy-images.s3.amazonaws.com:443/redactor/raw/create_lab_editor/2023-11-03_10-17-10-783c221429112b55eedb052659f656bf.png\" alt=\"\" loading=\"eager\"><button type=\"button\" class=\"ud-btn ud-btn-large ud-btn-link ud-heading-md open-full-size-image--backdrop--20cbM\"><svg aria-label=\"Larger image\" role=\"img\" focusable=\"false\" class=\"ud-icon ud-icon-large ud-icon-color-neutral\"><use xlink:href=\"#icon-search\"></use></svg></button></div></span></figure></li><li><p>Calculate the length of each sentence:</p><div class=\"ud-component--base-components--code-block\"><div><pre class=\"prettyprint linenums prettyprinted\" role=\"presentation\" style=\"\"><ol class=\"linenums\"><li class=\"L0\"><span class=\"com\"># Determine the number of words in each sentence to analyze sentence length</span></li><li class=\"L1\"><span class=\"pln\">sentence_lengths </span><span class=\"pun\">=</span><span class=\"pln\"> </span><span class=\"pun\">[</span><span class=\"pln\">len</span><span class=\"pun\">(</span><span class=\"pln\">sentence</span><span class=\"pun\">.</span><span class=\"pln\">split</span><span class=\"pun\">())</span><span class=\"pln\"> </span><span class=\"kwd\">for</span><span class=\"pln\"> sentence </span><span class=\"kwd\">in</span><span class=\"pln\"> df</span><span class=\"pun\">.</span><span class=\"typ\">Sentence</span><span class=\"pun\">]</span></li><li class=\"L2\"><span class=\"pln\">sentence_lengths</span><span class=\"pun\">[:</span><span class=\"lit\">5</span><span class=\"pun\">]</span></li></ol></pre></div></div><figure><img align=\"middle\" src=\"https://udemy-images.s3.amazonaws.com:443/redactor/raw/create_lab_editor/2023-11-03_10-17-10-65d323d4fb34b3f9309c1a9ce5d73677.png\" style=\"display: none;\"><span class=\"ud-component--base-components--open-full-size-image\"><div class=\"open-full-size-image--wrapper--2kvh_\" data-purpose=\"open-full-size-image\"><img src=\"https://udemy-images.s3.amazonaws.com:443/redactor/raw/create_lab_editor/2023-11-03_10-17-10-65d323d4fb34b3f9309c1a9ce5d73677.png\" alt=\"\" loading=\"eager\"><button type=\"button\" class=\"ud-btn ud-btn-large ud-btn-link ud-heading-md open-full-size-image--backdrop--20cbM\"><svg aria-label=\"Larger image\" role=\"img\" focusable=\"false\" class=\"ud-icon ud-icon-large ud-icon-color-neutral\"><use xlink:href=\"#icon-search\"></use></svg></button></div></span></figure></li><li><p>Plot the distribution of sentence lengths:</p><div class=\"ud-component--base-components--code-block\"><div><pre class=\"prettyprint linenums prettyprinted\" role=\"presentation\" style=\"\"><ol class=\"linenums\"><li class=\"L0\"><span class=\"com\"># Plot a histogram to show the distribution of sentence lengths in the dataset</span></li><li class=\"L1\"><span class=\"pln\">plt</span><span class=\"pun\">.</span><span class=\"pln\">hist</span><span class=\"pun\">(</span><span class=\"pln\">sentence_lengths</span><span class=\"pun\">,</span><span class=\"pln\"> bins</span><span class=\"pun\">=</span><span class=\"lit\">30</span><span class=\"pun\">)</span></li><li class=\"L2\"><span class=\"pln\">plt</span><span class=\"pun\">.</span><span class=\"pln\">title</span><span class=\"pun\">(</span><span class=\"str\">'Distribution of Sentence Lengths'</span><span class=\"pun\">)</span><span class=\"pln\">  </span><span class=\"com\"># Add a title to the histogram</span></li><li class=\"L3\"><span class=\"pln\">plt</span><span class=\"pun\">.</span><span class=\"pln\">xlabel</span><span class=\"pun\">(</span><span class=\"str\">'Sentence Length'</span><span class=\"pun\">)</span><span class=\"pln\">                  </span><span class=\"com\"># Label the x-axis as 'Sentence Length'</span></li><li class=\"L4\"><span class=\"pln\">plt</span><span class=\"pun\">.</span><span class=\"pln\">ylabel</span><span class=\"pun\">(</span><span class=\"str\">'Frequency'</span><span class=\"pun\">)</span><span class=\"pln\">                        </span><span class=\"com\"># Label the y-axis as 'Frequency'</span></li><li class=\"L5\"><span class=\"pln\">plt</span><span class=\"pun\">.</span><span class=\"pln\">show</span><span class=\"pun\">()</span><span class=\"pln\">                                     </span><span class=\"com\"># Display the plot</span></li></ol></pre></div></div><figure><img align=\"middle\" src=\"https://udemy-images.s3.amazonaws.com:443/redactor/raw/create_lab_editor/2023-11-03_10-17-10-4430d907956357f00164035c08e148c8.png\" style=\"display: none;\"><span class=\"ud-component--base-components--open-full-size-image\"><div class=\"open-full-size-image--wrapper--2kvh_\" data-purpose=\"open-full-size-image\"><img src=\"https://udemy-images.s3.amazonaws.com:443/redactor/raw/create_lab_editor/2023-11-03_10-17-10-4430d907956357f00164035c08e148c8.png\" alt=\"\" loading=\"eager\"><button type=\"button\" class=\"ud-btn ud-btn-large ud-btn-link ud-heading-md open-full-size-image--backdrop--20cbM\"><svg aria-label=\"Larger image\" role=\"img\" focusable=\"false\" class=\"ud-icon ud-icon-large ud-icon-color-neutral\"><use xlink:href=\"#icon-search\"></use></svg></button></div></span></figure></li></ol></div>"
      ]
    },
    {
      "cell_type": "code",
      "execution_count": 11,
      "id": "ade6f3cd-9bf7-4e44-b02b-c42ea375f6d6",
      "metadata": {
        "id": "ade6f3cd-9bf7-4e44-b02b-c42ea375f6d6"
      },
      "outputs": [],
      "source": [
        "# Pandas already imported and Matplotlib to be imported\n",
        "import matplotlib.pyplot as plt"
      ]
    },
    {
      "cell_type": "code",
      "execution_count": 12,
      "id": "d3e3ff9a-51eb-44f7-ad73-5bbebe03d904",
      "metadata": {
        "id": "d3e3ff9a-51eb-44f7-ad73-5bbebe03d904",
        "outputId": "831c8fd7-489e-42af-e18c-4024a54e2055",
        "colab": {
          "base_uri": "https://localhost:8080/",
          "height": 206
        }
      },
      "outputs": [
        {
          "output_type": "execute_result",
          "data": {
            "text/plain": [
              "      Label\n",
              "0   neutral\n",
              "1  positive\n",
              "2  positive\n",
              "3  positive\n",
              "4  positive"
            ],
            "text/html": [
              "\n",
              "  <div id=\"df-bc72c38f-bf91-42a9-88f6-0f0deb1bb019\" class=\"colab-df-container\">\n",
              "    <div>\n",
              "<style scoped>\n",
              "    .dataframe tbody tr th:only-of-type {\n",
              "        vertical-align: middle;\n",
              "    }\n",
              "\n",
              "    .dataframe tbody tr th {\n",
              "        vertical-align: top;\n",
              "    }\n",
              "\n",
              "    .dataframe thead th {\n",
              "        text-align: right;\n",
              "    }\n",
              "</style>\n",
              "<table border=\"1\" class=\"dataframe\">\n",
              "  <thead>\n",
              "    <tr style=\"text-align: right;\">\n",
              "      <th></th>\n",
              "      <th>Label</th>\n",
              "    </tr>\n",
              "  </thead>\n",
              "  <tbody>\n",
              "    <tr>\n",
              "      <th>0</th>\n",
              "      <td>neutral</td>\n",
              "    </tr>\n",
              "    <tr>\n",
              "      <th>1</th>\n",
              "      <td>positive</td>\n",
              "    </tr>\n",
              "    <tr>\n",
              "      <th>2</th>\n",
              "      <td>positive</td>\n",
              "    </tr>\n",
              "    <tr>\n",
              "      <th>3</th>\n",
              "      <td>positive</td>\n",
              "    </tr>\n",
              "    <tr>\n",
              "      <th>4</th>\n",
              "      <td>positive</td>\n",
              "    </tr>\n",
              "  </tbody>\n",
              "</table>\n",
              "</div>\n",
              "    <div class=\"colab-df-buttons\">\n",
              "\n",
              "  <div class=\"colab-df-container\">\n",
              "    <button class=\"colab-df-convert\" onclick=\"convertToInteractive('df-bc72c38f-bf91-42a9-88f6-0f0deb1bb019')\"\n",
              "            title=\"Convert this dataframe to an interactive table.\"\n",
              "            style=\"display:none;\">\n",
              "\n",
              "  <svg xmlns=\"http://www.w3.org/2000/svg\" height=\"24px\" viewBox=\"0 -960 960 960\">\n",
              "    <path d=\"M120-120v-720h720v720H120Zm60-500h600v-160H180v160Zm220 220h160v-160H400v160Zm0 220h160v-160H400v160ZM180-400h160v-160H180v160Zm440 0h160v-160H620v160ZM180-180h160v-160H180v160Zm440 0h160v-160H620v160Z\"/>\n",
              "  </svg>\n",
              "    </button>\n",
              "\n",
              "  <style>\n",
              "    .colab-df-container {\n",
              "      display:flex;\n",
              "      gap: 12px;\n",
              "    }\n",
              "\n",
              "    .colab-df-convert {\n",
              "      background-color: #E8F0FE;\n",
              "      border: none;\n",
              "      border-radius: 50%;\n",
              "      cursor: pointer;\n",
              "      display: none;\n",
              "      fill: #1967D2;\n",
              "      height: 32px;\n",
              "      padding: 0 0 0 0;\n",
              "      width: 32px;\n",
              "    }\n",
              "\n",
              "    .colab-df-convert:hover {\n",
              "      background-color: #E2EBFA;\n",
              "      box-shadow: 0px 1px 2px rgba(60, 64, 67, 0.3), 0px 1px 3px 1px rgba(60, 64, 67, 0.15);\n",
              "      fill: #174EA6;\n",
              "    }\n",
              "\n",
              "    .colab-df-buttons div {\n",
              "      margin-bottom: 4px;\n",
              "    }\n",
              "\n",
              "    [theme=dark] .colab-df-convert {\n",
              "      background-color: #3B4455;\n",
              "      fill: #D2E3FC;\n",
              "    }\n",
              "\n",
              "    [theme=dark] .colab-df-convert:hover {\n",
              "      background-color: #434B5C;\n",
              "      box-shadow: 0px 1px 3px 1px rgba(0, 0, 0, 0.15);\n",
              "      filter: drop-shadow(0px 1px 2px rgba(0, 0, 0, 0.3));\n",
              "      fill: #FFFFFF;\n",
              "    }\n",
              "  </style>\n",
              "\n",
              "    <script>\n",
              "      const buttonEl =\n",
              "        document.querySelector('#df-bc72c38f-bf91-42a9-88f6-0f0deb1bb019 button.colab-df-convert');\n",
              "      buttonEl.style.display =\n",
              "        google.colab.kernel.accessAllowed ? 'block' : 'none';\n",
              "\n",
              "      async function convertToInteractive(key) {\n",
              "        const element = document.querySelector('#df-bc72c38f-bf91-42a9-88f6-0f0deb1bb019');\n",
              "        const dataTable =\n",
              "          await google.colab.kernel.invokeFunction('convertToInteractive',\n",
              "                                                    [key], {});\n",
              "        if (!dataTable) return;\n",
              "\n",
              "        const docLinkHtml = 'Like what you see? Visit the ' +\n",
              "          '<a target=\"_blank\" href=https://colab.research.google.com/notebooks/data_table.ipynb>data table notebook</a>'\n",
              "          + ' to learn more about interactive tables.';\n",
              "        element.innerHTML = '';\n",
              "        dataTable['output_type'] = 'display_data';\n",
              "        await google.colab.output.renderOutput(dataTable, element);\n",
              "        const docLink = document.createElement('div');\n",
              "        docLink.innerHTML = docLinkHtml;\n",
              "        element.appendChild(docLink);\n",
              "      }\n",
              "    </script>\n",
              "  </div>\n",
              "\n",
              "\n",
              "<div id=\"df-addf89e9-e3b6-45b6-9f47-00be17db0b65\">\n",
              "  <button class=\"colab-df-quickchart\" onclick=\"quickchart('df-addf89e9-e3b6-45b6-9f47-00be17db0b65')\"\n",
              "            title=\"Suggest charts\"\n",
              "            style=\"display:none;\">\n",
              "\n",
              "<svg xmlns=\"http://www.w3.org/2000/svg\" height=\"24px\"viewBox=\"0 0 24 24\"\n",
              "     width=\"24px\">\n",
              "    <g>\n",
              "        <path d=\"M19 3H5c-1.1 0-2 .9-2 2v14c0 1.1.9 2 2 2h14c1.1 0 2-.9 2-2V5c0-1.1-.9-2-2-2zM9 17H7v-7h2v7zm4 0h-2V7h2v10zm4 0h-2v-4h2v4z\"/>\n",
              "    </g>\n",
              "</svg>\n",
              "  </button>\n",
              "\n",
              "<style>\n",
              "  .colab-df-quickchart {\n",
              "      --bg-color: #E8F0FE;\n",
              "      --fill-color: #1967D2;\n",
              "      --hover-bg-color: #E2EBFA;\n",
              "      --hover-fill-color: #174EA6;\n",
              "      --disabled-fill-color: #AAA;\n",
              "      --disabled-bg-color: #DDD;\n",
              "  }\n",
              "\n",
              "  [theme=dark] .colab-df-quickchart {\n",
              "      --bg-color: #3B4455;\n",
              "      --fill-color: #D2E3FC;\n",
              "      --hover-bg-color: #434B5C;\n",
              "      --hover-fill-color: #FFFFFF;\n",
              "      --disabled-bg-color: #3B4455;\n",
              "      --disabled-fill-color: #666;\n",
              "  }\n",
              "\n",
              "  .colab-df-quickchart {\n",
              "    background-color: var(--bg-color);\n",
              "    border: none;\n",
              "    border-radius: 50%;\n",
              "    cursor: pointer;\n",
              "    display: none;\n",
              "    fill: var(--fill-color);\n",
              "    height: 32px;\n",
              "    padding: 0;\n",
              "    width: 32px;\n",
              "  }\n",
              "\n",
              "  .colab-df-quickchart:hover {\n",
              "    background-color: var(--hover-bg-color);\n",
              "    box-shadow: 0 1px 2px rgba(60, 64, 67, 0.3), 0 1px 3px 1px rgba(60, 64, 67, 0.15);\n",
              "    fill: var(--button-hover-fill-color);\n",
              "  }\n",
              "\n",
              "  .colab-df-quickchart-complete:disabled,\n",
              "  .colab-df-quickchart-complete:disabled:hover {\n",
              "    background-color: var(--disabled-bg-color);\n",
              "    fill: var(--disabled-fill-color);\n",
              "    box-shadow: none;\n",
              "  }\n",
              "\n",
              "  .colab-df-spinner {\n",
              "    border: 2px solid var(--fill-color);\n",
              "    border-color: transparent;\n",
              "    border-bottom-color: var(--fill-color);\n",
              "    animation:\n",
              "      spin 1s steps(1) infinite;\n",
              "  }\n",
              "\n",
              "  @keyframes spin {\n",
              "    0% {\n",
              "      border-color: transparent;\n",
              "      border-bottom-color: var(--fill-color);\n",
              "      border-left-color: var(--fill-color);\n",
              "    }\n",
              "    20% {\n",
              "      border-color: transparent;\n",
              "      border-left-color: var(--fill-color);\n",
              "      border-top-color: var(--fill-color);\n",
              "    }\n",
              "    30% {\n",
              "      border-color: transparent;\n",
              "      border-left-color: var(--fill-color);\n",
              "      border-top-color: var(--fill-color);\n",
              "      border-right-color: var(--fill-color);\n",
              "    }\n",
              "    40% {\n",
              "      border-color: transparent;\n",
              "      border-right-color: var(--fill-color);\n",
              "      border-top-color: var(--fill-color);\n",
              "    }\n",
              "    60% {\n",
              "      border-color: transparent;\n",
              "      border-right-color: var(--fill-color);\n",
              "    }\n",
              "    80% {\n",
              "      border-color: transparent;\n",
              "      border-right-color: var(--fill-color);\n",
              "      border-bottom-color: var(--fill-color);\n",
              "    }\n",
              "    90% {\n",
              "      border-color: transparent;\n",
              "      border-bottom-color: var(--fill-color);\n",
              "    }\n",
              "  }\n",
              "</style>\n",
              "\n",
              "  <script>\n",
              "    async function quickchart(key) {\n",
              "      const quickchartButtonEl =\n",
              "        document.querySelector('#' + key + ' button');\n",
              "      quickchartButtonEl.disabled = true;  // To prevent multiple clicks.\n",
              "      quickchartButtonEl.classList.add('colab-df-spinner');\n",
              "      try {\n",
              "        const charts = await google.colab.kernel.invokeFunction(\n",
              "            'suggestCharts', [key], {});\n",
              "      } catch (error) {\n",
              "        console.error('Error during call to suggestCharts:', error);\n",
              "      }\n",
              "      quickchartButtonEl.classList.remove('colab-df-spinner');\n",
              "      quickchartButtonEl.classList.add('colab-df-quickchart-complete');\n",
              "    }\n",
              "    (() => {\n",
              "      let quickchartButtonEl =\n",
              "        document.querySelector('#df-addf89e9-e3b6-45b6-9f47-00be17db0b65 button');\n",
              "      quickchartButtonEl.style.display =\n",
              "        google.colab.kernel.accessAllowed ? 'block' : 'none';\n",
              "    })();\n",
              "  </script>\n",
              "</div>\n",
              "\n",
              "    </div>\n",
              "  </div>\n"
            ]
          },
          "metadata": {},
          "execution_count": 12
        }
      ],
      "source": [
        "# Create Df for 'Label' column for Analysis and easy mannipulation\n",
        "labels_df = pd.DataFrame(df.Label, columns=['Label'])\n",
        "labels_df.head()"
      ]
    },
    {
      "cell_type": "code",
      "execution_count": 13,
      "id": "42814d2a-5d3b-4a4f-a92d-800be78ea71d",
      "metadata": {
        "id": "42814d2a-5d3b-4a4f-a92d-800be78ea71d",
        "outputId": "a3d26d54-e7a8-4990-9bb3-b663ce1721dd",
        "colab": {
          "base_uri": "https://localhost:8080/",
          "height": 519
        }
      },
      "outputs": [
        {
          "output_type": "display_data",
          "data": {
            "text/plain": [
              "<Figure size 640x480 with 1 Axes>"
            ],
            "image/png": "[encoded data removed]"
          },
          "metadata": {}
        }
      ],
      "source": [
        "# Use a bar chart to visualize how frequently each labe occurs in the dataset\n",
        "labels_df['Label'].value_counts().plot(kind='bar')\n",
        "plt.title('Distribution of Labels')\n",
        "plt.xlabel('Label')\n",
        "plt.ylabel('Count')\n",
        "plt.show()"
      ]
    },
    {
      "cell_type": "code",
      "execution_count": 14,
      "id": "2a76a95b-2b39-40a7-92e1-e997387ac72b",
      "metadata": {
        "id": "2a76a95b-2b39-40a7-92e1-e997387ac72b",
        "outputId": "bd28ee30-ed24-49f0-dc72-352d378db629",
        "colab": {
          "base_uri": "https://localhost:8080/"
        }
      },
      "outputs": [
        {
          "output_type": "execute_result",
          "data": {
            "text/plain": [
              "[25, 33, 39, 29, 24]"
            ]
          },
          "metadata": {},
          "execution_count": 14
        }
      ],
      "source": [
        "# Determine the number of words in each sentence to analyze sentence length\n",
        "sentence_lengths = [len(sentence.split()) for sentence in df.Sentence]\n",
        "sentence_lengths[:5]"
      ]
    },
    {
      "cell_type": "code",
      "execution_count": 15,
      "id": "0dad84ca-6eef-4131-bf44-9a317af17e60",
      "metadata": {
        "id": "0dad84ca-6eef-4131-bf44-9a317af17e60",
        "outputId": "4c37a4e6-c2b3-4fb2-e1ce-867572b8244a",
        "colab": {
          "base_uri": "https://localhost:8080/",
          "height": 489
        }
      },
      "outputs": [
        {
          "output_type": "execute_result",
          "data": {
            "text/plain": [
              "[]"
            ]
          },
          "metadata": {},
          "execution_count": 15
        },
        {
          "output_type": "display_data",
          "data": {
            "text/plain": [
              "<Figure size 640x480 with 1 Axes>"
            ],
            "image/png": "[encoded data removed]"
          },
          "metadata": {}
        }
      ],
      "source": [
        "# Plot a histogram to show the distribution of sentence lengths in dataset\n",
        "plt.hist(sentence_lengths, bins=30)\n",
        "plt.title('Distribution of Sentence Lengths')\n",
        "plt.xlabel('Sentence Length')\n",
        "plt.ylabel('Frequency')\n",
        "plt.plot()"
      ]
    },
    {
      "cell_type": "code",
      "execution_count": 15,
      "id": "f646e4f1-3886-48ed-91a7-3fd677e2c73f",
      "metadata": {
        "id": "f646e4f1-3886-48ed-91a7-3fd677e2c73f"
      },
      "outputs": [],
      "source": []
    },
    {
      "cell_type": "markdown",
      "id": "1014641c-1c74-4561-8fb5-44f88f4fc7a3",
      "metadata": {
        "id": "1014641c-1c74-4561-8fb5-44f88f4fc7a3"
      },
      "source": [
        "# Task 3: Visualize Top 20 Most Frequent Words in Text Data"
      ]
    },
    {
      "cell_type": "markdown",
      "id": "f7e12919-5b1f-43fc-839d-861c5b8d02d9",
      "metadata": {
        "id": "f7e12919-5b1f-43fc-839d-861c5b8d02d9"
      },
      "source": [
        "<div data-purpose=\"safely-set-inner-html:rich-text-viewer:html\" class=\"lab-rich-text-viewer--lab-html-content--22XsM rt-scaffolding\"><p>This task involves processing text data to extract and visualize the most frequently occurring words. By tokenizing the sentences and counting the occurrences of each word, you will identify the top 20 most common words in the dataset. Then, you will create a bar plot to visualize these words and their frequencies to understand the common vocabulary within your text data.</p><p><br></p></div>\n",
        "\n",
        "<div data-purpose=\"safely-set-inner-html:rich-text-viewer:html\" class=\"lab-rich-text-viewer--lab-html-content--22XsM rt-scaffolding\"><ol><li><p>Import Necessary Libraries</p><div class=\"ud-component--base-components--code-block\"><div><pre class=\"prettyprint linenums prettyprinted\" role=\"presentation\" style=\"\"><ol class=\"linenums\"><li class=\"L0\"><span class=\"com\"># Import Counter for frequency analysis and seaborn for advanced plotting</span></li><li class=\"L1\"><span class=\"kwd\">from</span><span class=\"pln\"> collections </span><span class=\"kwd\">import</span><span class=\"pln\"> </span><span class=\"typ\">Counter</span></li><li class=\"L2\"><span class=\"kwd\">import</span><span class=\"pln\"> seaborn </span><span class=\"kwd\">as</span><span class=\"pln\"> sns</span></li></ol></pre></div></div><p><br></p></li><li><p>Tokenize Sentences into Words</p><div class=\"ud-component--base-components--code-block\"><div><pre class=\"prettyprint linenums prettyprinted\" role=\"presentation\" style=\"\"><ol class=\"linenums\"><li class=\"L0\"><span class=\"com\"># Flatten the list of sentences into words</span></li><li class=\"L1\"><span class=\"pln\">words </span><span class=\"pun\">=</span><span class=\"pln\"> </span><span class=\"pun\">[</span><span class=\"pln\">word </span><span class=\"kwd\">for</span><span class=\"pln\"> sentence </span><span class=\"kwd\">in</span><span class=\"pln\"> df</span><span class=\"pun\">.</span><span class=\"typ\">Sentence</span><span class=\"pln\"> </span><span class=\"kwd\">for</span><span class=\"pln\"> word </span><span class=\"kwd\">in</span><span class=\"pln\"> sentence</span><span class=\"pun\">.</span><span class=\"pln\">split</span><span class=\"pun\">()]</span></li><li class=\"L2\"><span class=\"pln\">words</span><span class=\"pun\">[:</span><span class=\"lit\">10</span><span class=\"pun\">]</span></li></ol></pre></div></div><figure><img align=\"middle\" src=\"https://udemy-images.s3.amazonaws.com:443/redactor/raw/create_lab_editor/2023-11-03_10-30-42-4a8c373d492bb7ac5e35494697f426df.png\" style=\"display: none;\"><span class=\"ud-component--base-components--open-full-size-image\"><div class=\"open-full-size-image--wrapper--2kvh_\" data-purpose=\"open-full-size-image\"><img src=\"https://udemy-images.s3.amazonaws.com:443/redactor/raw/create_lab_editor/2023-11-03_10-30-42-4a8c373d492bb7ac5e35494697f426df.png\" alt=\"\" loading=\"eager\"><button type=\"button\" class=\"ud-btn ud-btn-large ud-btn-link ud-heading-md open-full-size-image--backdrop--20cbM\"><svg aria-label=\"Larger image\" role=\"img\" focusable=\"false\" class=\"ud-icon ud-icon-large ud-icon-color-neutral\"><use xlink:href=\"#icon-search\"></use></svg></button></div></span></figure></li><li><p>Get the Most Common Words</p><div class=\"ud-component--base-components--code-block\"><div><pre class=\"prettyprint linenums prettyprinted\" role=\"presentation\" style=\"\"><ol class=\"linenums\"><li class=\"L0\"><span class=\"com\"># Utilize Counter to find the top 20 most common words</span></li><li class=\"L1\"><span class=\"pln\">common_words </span><span class=\"pun\">=</span><span class=\"pln\"> </span><span class=\"typ\">Counter</span><span class=\"pun\">(</span><span class=\"pln\">words</span><span class=\"pun\">).</span><span class=\"pln\">most_common</span><span class=\"pun\">(</span><span class=\"lit\">20</span><span class=\"pun\">)</span></li><li class=\"L2\"><span class=\"pln\">common_words</span><span class=\"pun\">[:</span><span class=\"lit\">5</span><span class=\"pun\">]</span></li></ol></pre></div></div><figure><img align=\"middle\" src=\"https://udemy-images.s3.amazonaws.com:443/redactor/raw/create_lab_editor/2023-11-03_10-30-42-dad034e8bb7e3130b2440f6661abd589.png\" style=\"display: none;\"><span class=\"ud-component--base-components--open-full-size-image\"><div class=\"open-full-size-image--wrapper--2kvh_\" data-purpose=\"open-full-size-image\"><img src=\"https://udemy-images.s3.amazonaws.com:443/redactor/raw/create_lab_editor/2023-11-03_10-30-42-dad034e8bb7e3130b2440f6661abd589.png\" alt=\"\" loading=\"eager\"><button type=\"button\" class=\"ud-btn ud-btn-large ud-btn-link ud-heading-md open-full-size-image--backdrop--20cbM\"><svg aria-label=\"Larger image\" role=\"img\" focusable=\"false\" class=\"ud-icon ud-icon-large ud-icon-color-neutral\"><use xlink:href=\"#icon-search\"></use></svg></button></div></span></figure></li><li><p>Convert Common Words to a DataFrame</p><div class=\"ud-component--base-components--code-block\"><div><pre class=\"prettyprint linenums prettyprinted\" role=\"presentation\" style=\"\"><ol class=\"linenums\"><li class=\"L0\"><span class=\"com\"># Create a ataFrame from the common words for easy plotting with seaborn</span></li><li class=\"L1\"><span class=\"pln\">common_words_df </span><span class=\"pun\">=</span><span class=\"pln\"> pd</span><span class=\"pun\">.</span><span class=\"typ\">DataFrame</span><span class=\"pun\">(</span><span class=\"pln\">common_words</span><span class=\"pun\">,</span><span class=\"pln\"> columns</span><span class=\"pun\">=[</span><span class=\"str\">'Word'</span><span class=\"pun\">,</span><span class=\"pln\"> </span><span class=\"str\">'Frequency'</span><span class=\"pun\">])</span></li><li class=\"L2\"><span class=\"pln\">common_words_df</span><span class=\"pun\">.</span><span class=\"pln\">head</span><span class=\"pun\">()</span></li></ol></pre></div></div><figure><img align=\"middle\" src=\"https://udemy-images.s3.amazonaws.com:443/redactor/raw/create_lab_editor/2023-11-03_10-30-42-37e9a8ab2deae2bc299124af00df3a05.png\" style=\"display: none;\"><span class=\"ud-component--base-components--open-full-size-image\"><div class=\"open-full-size-image--wrapper--2kvh_\" data-purpose=\"open-full-size-image\"><img src=\"https://udemy-images.s3.amazonaws.com:443/redactor/raw/create_lab_editor/2023-11-03_10-30-42-37e9a8ab2deae2bc299124af00df3a05.png\" alt=\"\" loading=\"eager\"><button type=\"button\" class=\"ud-btn ud-btn-large ud-btn-link ud-heading-md open-full-size-image--backdrop--20cbM\"><svg aria-label=\"Larger image\" role=\"img\" focusable=\"false\" class=\"ud-icon ud-icon-large ud-icon-color-neutral\"><use xlink:href=\"#icon-search\"></use></svg></button></div></span></figure></li><li><p>Plot the most common words:</p><div class=\"ud-component--base-components--code-block\"><div><pre class=\"prettyprint linenums prettyprinted\" role=\"presentation\" style=\"\"><ol class=\"linenums\"><li class=\"L0\"><span class=\"com\"># Use seaborn's barplot function to create a horizontal bar plot</span></li><li class=\"L1\"><span class=\"pln\">sns</span><span class=\"pun\">.</span><span class=\"pln\">barplot</span><span class=\"pun\">(</span><span class=\"pln\">data</span><span class=\"pun\">=</span><span class=\"pln\">common_words_df</span><span class=\"pun\">,</span><span class=\"pln\"> x</span><span class=\"pun\">=</span><span class=\"str\">'Frequency'</span><span class=\"pun\">,</span><span class=\"pln\"> y</span><span class=\"pun\">=</span><span class=\"str\">'Word'</span><span class=\"pun\">)</span></li><li class=\"L2\"><span class=\"pln\">plt</span><span class=\"pun\">.</span><span class=\"pln\">title</span><span class=\"pun\">(</span><span class=\"str\">'Most Common Words'</span><span class=\"pun\">)</span><span class=\"pln\">  </span><span class=\"com\"># Add a title to the bar plot</span></li><li class=\"L3\"><span class=\"pln\">plt</span><span class=\"pun\">.</span><span class=\"pln\">show</span><span class=\"pun\">()</span><span class=\"pln\">                      </span><span class=\"com\"># Display the plot</span></li></ol></pre></div></div><figure><img align=\"middle\" src=\"https://udemy-images.s3.amazonaws.com:443/redactor/raw/create_lab_editor/2023-11-03_10-30-42-f4537372ac9af44003b8dffba58a8255.png\" style=\"display: none;\"><span class=\"ud-component--base-components--open-full-size-image\"><div class=\"open-full-size-image--wrapper--2kvh_\" data-purpose=\"open-full-size-image\"><img src=\"https://udemy-images.s3.amazonaws.com:443/redactor/raw/create_lab_editor/2023-11-03_10-30-42-f4537372ac9af44003b8dffba58a8255.png\" alt=\"\" loading=\"eager\"><button type=\"button\" class=\"ud-btn ud-btn-large ud-btn-link ud-heading-md open-full-size-image--backdrop--20cbM\"><svg aria-label=\"Larger image\" role=\"img\" focusable=\"false\" class=\"ud-icon ud-icon-large ud-icon-color-neutral\"><use xlink:href=\"#icon-search\"></use></svg></button></div></span></figure></li></ol></div>"
      ]
    },
    {
      "cell_type": "code",
      "execution_count": 15,
      "id": "94ea831c-3711-4791-bee2-0e75d3a682c1",
      "metadata": {
        "id": "94ea831c-3711-4791-bee2-0e75d3a682c1"
      },
      "outputs": [],
      "source": []
    },
    {
      "cell_type": "code",
      "execution_count": 16,
      "id": "52bd9bcc-b987-47b8-938d-3b85fa82d6b2",
      "metadata": {
        "id": "52bd9bcc-b987-47b8-938d-3b85fa82d6b2"
      },
      "outputs": [],
      "source": [
        "# Import Counter for frequency analysis and seaborn for advanced plotting\n",
        "from collections import Counter\n",
        "import seaborn as sns"
      ]
    },
    {
      "cell_type": "code",
      "execution_count": 17,
      "id": "a5268a29-a761-43d6-b3a8-55492e38eacf",
      "metadata": {
        "id": "a5268a29-a761-43d6-b3a8-55492e38eacf",
        "outputId": "4d72d204-adfb-463b-c27b-f0b10957d6f8",
        "colab": {
          "base_uri": "https://localhost:8080/"
        }
      },
      "outputs": [
        {
          "output_type": "execute_result",
          "data": {
            "text/plain": [
              "['According', 'to', 'Gran', ',', 'the', 'company', 'has', 'no', 'plans', 'to']"
            ]
          },
          "metadata": {},
          "execution_count": 17
        }
      ],
      "source": [
        "# Flatten the list of sentences into words\n",
        "words = [word for sentence in df.Sentence for word in sentence.split()]\n",
        "words[:10]"
      ]
    },
    {
      "cell_type": "code",
      "execution_count": 18,
      "id": "0cb8d9b9-69f0-4843-b8e1-451b4eb33cef",
      "metadata": {
        "id": "0cb8d9b9-69f0-4843-b8e1-451b4eb33cef",
        "outputId": "a5879f56-7ef4-4076-b6b6-11b21ece8c94",
        "colab": {
          "base_uri": "https://localhost:8080/"
        }
      },
      "outputs": [
        {
          "output_type": "execute_result",
          "data": {
            "text/plain": [
              "[('.', 1463), (',', 1461), ('the', 1404), ('of', 1016), ('to', 901)]"
            ]
          },
          "metadata": {},
          "execution_count": 18
        }
      ],
      "source": [
        "# Utilize Counter to find top 20 most common words\n",
        "common_words = Counter(words).most_common(20)\n",
        "common_words[:5]"
      ]
    },
    {
      "cell_type": "code",
      "execution_count": 19,
      "id": "b3db991d-ac6a-4f3e-884e-f6af41fbac62",
      "metadata": {
        "id": "b3db991d-ac6a-4f3e-884e-f6af41fbac62",
        "outputId": "0f136752-34b7-4831-a3a3-3373b244b868",
        "colab": {
          "base_uri": "https://localhost:8080/",
          "height": 206
        }
      },
      "outputs": [
        {
          "output_type": "execute_result",
          "data": {
            "text/plain": [
              "  Word  Frequency\n",
              "0    .       1463\n",
              "1    ,       1461\n",
              "2  the       1404\n",
              "3   of       1016\n",
              "4   to        901"
            ],
            "text/html": [
              "\n",
              "  <div id=\"df-b96c1cb7-00ab-4b3c-a006-e6dbe760f60e\" class=\"colab-df-container\">\n",
              "    <div>\n",
              "<style scoped>\n",
              "    .dataframe tbody tr th:only-of-type {\n",
              "        vertical-align: middle;\n",
              "    }\n",
              "\n",
              "    .dataframe tbody tr th {\n",
              "        vertical-align: top;\n",
              "    }\n",
              "\n",
              "    .dataframe thead th {\n",
              "        text-align: right;\n",
              "    }\n",
              "</style>\n",
              "<table border=\"1\" class=\"dataframe\">\n",
              "  <thead>\n",
              "    <tr style=\"text-align: right;\">\n",
              "      <th></th>\n",
              "      <th>Word</th>\n",
              "      <th>Frequency</th>\n",
              "    </tr>\n",
              "  </thead>\n",
              "  <tbody>\n",
              "    <tr>\n",
              "      <th>0</th>\n",
              "      <td>.</td>\n",
              "      <td>1463</td>\n",
              "    </tr>\n",
              "    <tr>\n",
              "      <th>1</th>\n",
              "      <td>,</td>\n",
              "      <td>1461</td>\n",
              "    </tr>\n",
              "    <tr>\n",
              "      <th>2</th>\n",
              "      <td>the</td>\n",
              "      <td>1404</td>\n",
              "    </tr>\n",
              "    <tr>\n",
              "      <th>3</th>\n",
              "      <td>of</td>\n",
              "      <td>1016</td>\n",
              "    </tr>\n",
              "    <tr>\n",
              "      <th>4</th>\n",
              "      <td>to</td>\n",
              "      <td>901</td>\n",
              "    </tr>\n",
              "  </tbody>\n",
              "</table>\n",
              "</div>\n",
              "    <div class=\"colab-df-buttons\">\n",
              "\n",
              "  <div class=\"colab-df-container\">\n",
              "    <button class=\"colab-df-convert\" onclick=\"convertToInteractive('df-b96c1cb7-00ab-4b3c-a006-e6dbe760f60e')\"\n",
              "            title=\"Convert this dataframe to an interactive table.\"\n",
              "            style=\"display:none;\">\n",
              "\n",
              "  <svg xmlns=\"http://www.w3.org/2000/svg\" height=\"24px\" viewBox=\"0 -960 960 960\">\n",
              "    <path d=\"M120-120v-720h720v720H120Zm60-500h600v-160H180v160Zm220 220h160v-160H400v160Zm0 220h160v-160H400v160ZM180-400h160v-160H180v160Zm440 0h160v-160H620v160ZM180-180h160v-160H180v160Zm440 0h160v-160H620v160Z\"/>\n",
              "  </svg>\n",
              "    </button>\n",
              "\n",
              "  <style>\n",
              "    .colab-df-container {\n",
              "      display:flex;\n",
              "      gap: 12px;\n",
              "    }\n",
              "\n",
              "    .colab-df-convert {\n",
              "      background-color: #E8F0FE;\n",
              "      border: none;\n",
              "      border-radius: 50%;\n",
              "      cursor: pointer;\n",
              "      display: none;\n",
              "      fill: #1967D2;\n",
              "      height: 32px;\n",
              "      padding: 0 0 0 0;\n",
              "      width: 32px;\n",
              "    }\n",
              "\n",
              "    .colab-df-convert:hover {\n",
              "      background-color: #E2EBFA;\n",
              "      box-shadow: 0px 1px 2px rgba(60, 64, 67, 0.3), 0px 1px 3px 1px rgba(60, 64, 67, 0.15);\n",
              "      fill: #174EA6;\n",
              "    }\n",
              "\n",
              "    .colab-df-buttons div {\n",
              "      margin-bottom: 4px;\n",
              "    }\n",
              "\n",
              "    [theme=dark] .colab-df-convert {\n",
              "      background-color: #3B4455;\n",
              "      fill: #D2E3FC;\n",
              "    }\n",
              "\n",
              "    [theme=dark] .colab-df-convert:hover {\n",
              "      background-color: #434B5C;\n",
              "      box-shadow: 0px 1px 3px 1px rgba(0, 0, 0, 0.15);\n",
              "      filter: drop-shadow(0px 1px 2px rgba(0, 0, 0, 0.3));\n",
              "      fill: #FFFFFF;\n",
              "    }\n",
              "  </style>\n",
              "\n",
              "    <script>\n",
              "      const buttonEl =\n",
              "        document.querySelector('#df-b96c1cb7-00ab-4b3c-a006-e6dbe760f60e button.colab-df-convert');\n",
              "      buttonEl.style.display =\n",
              "        google.colab.kernel.accessAllowed ? 'block' : 'none';\n",
              "\n",
              "      async function convertToInteractive(key) {\n",
              "        const element = document.querySelector('#df-b96c1cb7-00ab-4b3c-a006-e6dbe760f60e');\n",
              "        const dataTable =\n",
              "          await google.colab.kernel.invokeFunction('convertToInteractive',\n",
              "                                                    [key], {});\n",
              "        if (!dataTable) return;\n",
              "\n",
              "        const docLinkHtml = 'Like what you see? Visit the ' +\n",
              "          '<a target=\"_blank\" href=https://colab.research.google.com/notebooks/data_table.ipynb>data table notebook</a>'\n",
              "          + ' to learn more about interactive tables.';\n",
              "        element.innerHTML = '';\n",
              "        dataTable['output_type'] = 'display_data';\n",
              "        await google.colab.output.renderOutput(dataTable, element);\n",
              "        const docLink = document.createElement('div');\n",
              "        docLink.innerHTML = docLinkHtml;\n",
              "        element.appendChild(docLink);\n",
              "      }\n",
              "    </script>\n",
              "  </div>\n",
              "\n",
              "\n",
              "<div id=\"df-462a83dd-c922-44ad-96b3-7cb4b344b9d2\">\n",
              "  <button class=\"colab-df-quickchart\" onclick=\"quickchart('df-462a83dd-c922-44ad-96b3-7cb4b344b9d2')\"\n",
              "            title=\"Suggest charts\"\n",
              "            style=\"display:none;\">\n",
              "\n",
              "<svg xmlns=\"http://www.w3.org/2000/svg\" height=\"24px\"viewBox=\"0 0 24 24\"\n",
              "     width=\"24px\">\n",
              "    <g>\n",
              "        <path d=\"M19 3H5c-1.1 0-2 .9-2 2v14c0 1.1.9 2 2 2h14c1.1 0 2-.9 2-2V5c0-1.1-.9-2-2-2zM9 17H7v-7h2v7zm4 0h-2V7h2v10zm4 0h-2v-4h2v4z\"/>\n",
              "    </g>\n",
              "</svg>\n",
              "  </button>\n",
              "\n",
              "<style>\n",
              "  .colab-df-quickchart {\n",
              "      --bg-color: #E8F0FE;\n",
              "      --fill-color: #1967D2;\n",
              "      --hover-bg-color: #E2EBFA;\n",
              "      --hover-fill-color: #174EA6;\n",
              "      --disabled-fill-color: #AAA;\n",
              "      --disabled-bg-color: #DDD;\n",
              "  }\n",
              "\n",
              "  [theme=dark] .colab-df-quickchart {\n",
              "      --bg-color: #3B4455;\n",
              "      --fill-color: #D2E3FC;\n",
              "      --hover-bg-color: #434B5C;\n",
              "      --hover-fill-color: #FFFFFF;\n",
              "      --disabled-bg-color: #3B4455;\n",
              "      --disabled-fill-color: #666;\n",
              "  }\n",
              "\n",
              "  .colab-df-quickchart {\n",
              "    background-color: var(--bg-color);\n",
              "    border: none;\n",
              "    border-radius: 50%;\n",
              "    cursor: pointer;\n",
              "    display: none;\n",
              "    fill: var(--fill-color);\n",
              "    height: 32px;\n",
              "    padding: 0;\n",
              "    width: 32px;\n",
              "  }\n",
              "\n",
              "  .colab-df-quickchart:hover {\n",
              "    background-color: var(--hover-bg-color);\n",
              "    box-shadow: 0 1px 2px rgba(60, 64, 67, 0.3), 0 1px 3px 1px rgba(60, 64, 67, 0.15);\n",
              "    fill: var(--button-hover-fill-color);\n",
              "  }\n",
              "\n",
              "  .colab-df-quickchart-complete:disabled,\n",
              "  .colab-df-quickchart-complete:disabled:hover {\n",
              "    background-color: var(--disabled-bg-color);\n",
              "    fill: var(--disabled-fill-color);\n",
              "    box-shadow: none;\n",
              "  }\n",
              "\n",
              "  .colab-df-spinner {\n",
              "    border: 2px solid var(--fill-color);\n",
              "    border-color: transparent;\n",
              "    border-bottom-color: var(--fill-color);\n",
              "    animation:\n",
              "      spin 1s steps(1) infinite;\n",
              "  }\n",
              "\n",
              "  @keyframes spin {\n",
              "    0% {\n",
              "      border-color: transparent;\n",
              "      border-bottom-color: var(--fill-color);\n",
              "      border-left-color: var(--fill-color);\n",
              "    }\n",
              "    20% {\n",
              "      border-color: transparent;\n",
              "      border-left-color: var(--fill-color);\n",
              "      border-top-color: var(--fill-color);\n",
              "    }\n",
              "    30% {\n",
              "      border-color: transparent;\n",
              "      border-left-color: var(--fill-color);\n",
              "      border-top-color: var(--fill-color);\n",
              "      border-right-color: var(--fill-color);\n",
              "    }\n",
              "    40% {\n",
              "      border-color: transparent;\n",
              "      border-right-color: var(--fill-color);\n",
              "      border-top-color: var(--fill-color);\n",
              "    }\n",
              "    60% {\n",
              "      border-color: transparent;\n",
              "      border-right-color: var(--fill-color);\n",
              "    }\n",
              "    80% {\n",
              "      border-color: transparent;\n",
              "      border-right-color: var(--fill-color);\n",
              "      border-bottom-color: var(--fill-color);\n",
              "    }\n",
              "    90% {\n",
              "      border-color: transparent;\n",
              "      border-bottom-color: var(--fill-color);\n",
              "    }\n",
              "  }\n",
              "</style>\n",
              "\n",
              "  <script>\n",
              "    async function quickchart(key) {\n",
              "      const quickchartButtonEl =\n",
              "        document.querySelector('#' + key + ' button');\n",
              "      quickchartButtonEl.disabled = true;  // To prevent multiple clicks.\n",
              "      quickchartButtonEl.classList.add('colab-df-spinner');\n",
              "      try {\n",
              "        const charts = await google.colab.kernel.invokeFunction(\n",
              "            'suggestCharts', [key], {});\n",
              "      } catch (error) {\n",
              "        console.error('Error during call to suggestCharts:', error);\n",
              "      }\n",
              "      quickchartButtonEl.classList.remove('colab-df-spinner');\n",
              "      quickchartButtonEl.classList.add('colab-df-quickchart-complete');\n",
              "    }\n",
              "    (() => {\n",
              "      let quickchartButtonEl =\n",
              "        document.querySelector('#df-462a83dd-c922-44ad-96b3-7cb4b344b9d2 button');\n",
              "      quickchartButtonEl.style.display =\n",
              "        google.colab.kernel.accessAllowed ? 'block' : 'none';\n",
              "    })();\n",
              "  </script>\n",
              "</div>\n",
              "\n",
              "    </div>\n",
              "  </div>\n"
            ]
          },
          "metadata": {},
          "execution_count": 19
        }
      ],
      "source": [
        "# Create a Dataframe from the most common words for easy plotting with seaborn\n",
        "common_words_df = pd.DataFrame(common_words, columns=['Word', 'Frequency'])\n",
        "common_words_df.head()"
      ]
    },
    {
      "cell_type": "code",
      "execution_count": 20,
      "id": "3daea589-262c-4aed-86d1-25e89975c3ea",
      "metadata": {
        "id": "3daea589-262c-4aed-86d1-25e89975c3ea",
        "outputId": "dfd0432e-953a-4e74-9577-1bc205316aa3",
        "colab": {
          "base_uri": "https://localhost:8080/",
          "height": 489
        }
      },
      "outputs": [
        {
          "output_type": "execute_result",
          "data": {
            "text/plain": [
              "[]"
            ]
          },
          "metadata": {},
          "execution_count": 20
        },
        {
          "output_type": "display_data",
          "data": {
            "text/plain": [
              "<Figure size 640x480 with 1 Axes>"
            ],
            "image/png": "[encoded data removed]"
          },
          "metadata": {}
        }
      ],
      "source": [
        "# Use Seaborn's barplot to create horizontal bar plot\n",
        "sns.barplot(data=common_words_df, x='Frequency', y='Word')\n",
        "plt.title('Most Coomon Words')\n",
        "plt.plot()"
      ]
    },
    {
      "cell_type": "markdown",
      "id": "bb34be5b-ce9f-4cd2-bae1-a0b50ae29455",
      "metadata": {
        "id": "bb34be5b-ce9f-4cd2-bae1-a0b50ae29455"
      },
      "source": [
        "# Task 4: Analyze and Visualize Most Frequent Bi-grams in Text Data"
      ]
    },
    {
      "cell_type": "markdown",
      "id": "8e6be0a5-0894-4834-9945-618de991f6a8",
      "metadata": {
        "id": "8e6be0a5-0894-4834-9945-618de991f6a8"
      },
      "source": [
        "<div data-purpose=\"safely-set-inner-html:rich-text-viewer:html\" class=\"lab-rich-text-viewer--lab-html-content--22XsM rt-scaffolding\"><p>In this task, you will extract bi-grams from a corpus of sentences to discover common phrases or pairs of words. Using the CountVectorizer from the scikit-learn library, you will calculate the frequency of each bi-gram in the dataset. Then, you will sort these bi-grams by their frequency and visualize the top 20 most frequent bi-grams.</p><p><br></p></div>\n",
        "\n",
        "<div data-purpose=\"safely-set-inner-html:rich-text-viewer:html\" class=\"lab-rich-text-viewer--lab-html-content--22XsM rt-scaffolding\"><ol><li><p>Import CountVectorizer from sklearn</p><div class=\"ud-component--base-components--code-block\"><div><pre class=\"prettyprint linenums prettyprinted\" role=\"presentation\" style=\"\"><ol class=\"linenums\"><li class=\"L0\"><span class=\"com\"># Import CountVectorizer for text feature extraction and seaborn for plotting</span></li><li class=\"L1\"><span class=\"kwd\">from</span><span class=\"pln\"> sklearn</span><span class=\"pun\">.</span><span class=\"pln\">feature_extraction</span><span class=\"pun\">.</span><span class=\"pln\">text </span><span class=\"kwd\">import</span><span class=\"pln\"> </span><span class=\"typ\">CountVectorizer</span></li></ol></pre></div></div><p><br></p></li><li><p>Initialize CountVectorizer for bi-grams</p><div class=\"ud-component--base-components--code-block\"><div><pre class=\"prettyprint linenums prettyprinted\" role=\"presentation\" style=\"\"><ol class=\"linenums\"><li class=\"L0\"><span class=\"com\"># Set up CountVectorizer to consider bi-grams only</span></li><li class=\"L1\"><span class=\"pln\">vectorizer </span><span class=\"pun\">=</span><span class=\"pln\"> </span><span class=\"typ\">CountVectorizer</span><span class=\"pun\">(</span><span class=\"pln\">ngram_range</span><span class=\"pun\">=(</span><span class=\"lit\">2</span><span class=\"pun\">,</span><span class=\"pln\"> </span><span class=\"lit\">2</span><span class=\"pun\">))</span></li><li class=\"L2\"><span class=\"pln\">vectorizer</span></li></ol></pre></div></div><figure><img align=\"middle\" src=\"https://udemy-images.s3.amazonaws.com:443/redactor/raw/create_lab_editor/2023-11-03_10-47-27-594263ff53c1cf2d5d05330151e41724.png\" style=\"display: none;\"><span class=\"ud-component--base-components--open-full-size-image\"><div class=\"open-full-size-image--wrapper--2kvh_\" data-purpose=\"open-full-size-image\"><img src=\"https://udemy-images.s3.amazonaws.com:443/redactor/raw/create_lab_editor/2023-11-03_10-47-27-594263ff53c1cf2d5d05330151e41724.png\" alt=\"\" loading=\"eager\"><button type=\"button\" class=\"ud-btn ud-btn-large ud-btn-link ud-heading-md open-full-size-image--backdrop--20cbM\"><svg aria-label=\"Larger image\" role=\"img\" focusable=\"false\" class=\"ud-icon ud-icon-large ud-icon-color-neutral\"><use xlink:href=\"#icon-search\"></use></svg></button></div></span></figure></li><li><p>Fit the vectorizer and transform sentences</p><div class=\"ud-component--base-components--code-block\"><div><pre class=\"prettyprint linenums prettyprinted\" role=\"presentation\" style=\"\"><ol class=\"linenums\"><li class=\"L0\"><span class=\"com\"># Apply the vectorizer to the sentences to get bi-gram counts</span></li><li class=\"L1\"><span class=\"pln\">ngram_counts </span><span class=\"pun\">=</span><span class=\"pln\"> vectorizer</span><span class=\"pun\">.</span><span class=\"pln\">fit_transform</span><span class=\"pun\">(</span><span class=\"pln\">df</span><span class=\"pun\">.</span><span class=\"typ\">Sentence</span><span class=\"pun\">)</span></li><li class=\"L2\"><span class=\"pln\">ngram_counts</span></li></ol></pre></div></div><figure><img align=\"middle\" src=\"https://udemy-images.s3.amazonaws.com:443/redactor/raw/create_lab_editor/2023-11-03_10-47-27-c79defa7ddf19d9a90c1ab1f18e4c43d.png\" style=\"display: none;\"><span class=\"ud-component--base-components--open-full-size-image\"><div class=\"open-full-size-image--wrapper--2kvh_\" data-purpose=\"open-full-size-image\"><img src=\"https://udemy-images.s3.amazonaws.com:443/redactor/raw/create_lab_editor/2023-11-03_10-47-27-c79defa7ddf19d9a90c1ab1f18e4c43d.png\" alt=\"\" loading=\"eager\"><button type=\"button\" class=\"ud-btn ud-btn-large ud-btn-link ud-heading-md open-full-size-image--backdrop--20cbM\"><svg aria-label=\"Larger image\" role=\"img\" focusable=\"false\" class=\"ud-icon ud-icon-large ud-icon-color-neutral\"><use xlink:href=\"#icon-search\"></use></svg></button></div></span></figure></li><li><p>Sum the number of ngrams and retrieve feature names:</p><div class=\"ud-component--base-components--code-block\"><div><pre class=\"prettyprint linenums prettyprinted\" role=\"presentation\" style=\"\"><ol class=\"linenums\"><li class=\"L0\"><span class=\"com\"># Aggregate counts and get feature names (bi-grams)</span></li><li class=\"L1\"><span class=\"pln\">ngram_sum </span><span class=\"pun\">=</span><span class=\"pln\"> ngram_counts</span><span class=\"pun\">.</span><span class=\"pln\">sum</span><span class=\"pun\">(</span><span class=\"pln\">axis</span><span class=\"pun\">=</span><span class=\"lit\">0</span><span class=\"pun\">)</span></li><li class=\"L2\"><span class=\"pln\">ngram_list </span><span class=\"pun\">=</span><span class=\"pln\"> </span><span class=\"pun\">[(</span><span class=\"pln\">ngram</span><span class=\"pun\">,</span><span class=\"pln\"> ngram_sum</span><span class=\"pun\">[</span><span class=\"lit\">0</span><span class=\"pun\">,</span><span class=\"pln\"> idx</span><span class=\"pun\">])</span><span class=\"pln\"> </span><span class=\"kwd\">for</span><span class=\"pln\"> ngram</span><span class=\"pun\">,</span><span class=\"pln\"> idx </span><span class=\"kwd\">in</span><span class=\"pln\"> vectorizer</span><span class=\"pun\">.</span><span class=\"pln\">vocabulary_</span><span class=\"pun\">.</span><span class=\"pln\">items</span><span class=\"pun\">()]</span></li></ol></pre></div></div><p><br></p></li><li><p>Identify the most common Bi-grams:</p><div class=\"ud-component--base-components--code-block\"><div><pre class=\"prettyprint linenums prettyprinted\" role=\"presentation\" style=\"\"><ol class=\"linenums\"><li class=\"L0\"><span class=\"com\"># Sort the bi-grams by their frequency count in descending order</span></li><li class=\"L1\"><span class=\"pln\">common_ngrams </span><span class=\"pun\">=</span><span class=\"pln\"> sorted</span><span class=\"pun\">(</span><span class=\"pln\">ngram_list</span><span class=\"pun\">,</span><span class=\"pln\"> key</span><span class=\"pun\">=</span><span class=\"kwd\">lambda</span><span class=\"pln\"> x</span><span class=\"pun\">:</span><span class=\"pln\"> x</span><span class=\"pun\">[</span><span class=\"lit\">1</span><span class=\"pun\">],</span><span class=\"pln\"> reverse</span><span class=\"pun\">=</span><span class=\"kwd\">True</span><span class=\"pun\">)[:</span><span class=\"lit\">20</span><span class=\"pun\">]</span></li></ol></pre></div></div><p><br></p></li><li><p>Convert bi-grams to a DataFrame:</p><div class=\"ud-component--base-components--code-block\"><div><pre class=\"prettyprint linenums prettyprinted\" role=\"presentation\" style=\"\"><ol class=\"linenums\"><li class=\"L0\"><span class=\"com\"># Create a DataFrame for the most common bi-grams to facilitate visualization</span></li><li class=\"L1\"><span class=\"pln\">common_ngrams_df </span><span class=\"pun\">=</span><span class=\"pln\"> pd</span><span class=\"pun\">.</span><span class=\"typ\">DataFrame</span><span class=\"pun\">(</span><span class=\"pln\">common_ngrams</span><span class=\"pun\">,</span><span class=\"pln\"> columns</span><span class=\"pun\">=[</span><span class=\"str\">'N-gram'</span><span class=\"pun\">,</span><span class=\"pln\"> </span><span class=\"str\">'Frequency'</span><span class=\"pun\">])</span></li><li class=\"L2\"><span class=\"pln\">common_ngrams_df</span><span class=\"pun\">.</span><span class=\"pln\">head</span><span class=\"pun\">()</span></li></ol></pre></div></div><figure><img align=\"middle\" src=\"https://udemy-images.s3.amazonaws.com:443/redactor/raw/create_lab_editor/2023-11-03_10-47-27-59bcd3d22f4bdfe4f22fabc30885f45e.png\" style=\"display: none;\"><span class=\"ud-component--base-components--open-full-size-image\"><div class=\"open-full-size-image--wrapper--2kvh_\" data-purpose=\"open-full-size-image\"><img src=\"https://udemy-images.s3.amazonaws.com:443/redactor/raw/create_lab_editor/2023-11-03_10-47-27-59bcd3d22f4bdfe4f22fabc30885f45e.png\" alt=\"\" loading=\"eager\"><button type=\"button\" class=\"ud-btn ud-btn-large ud-btn-link ud-heading-md open-full-size-image--backdrop--20cbM\"><svg aria-label=\"Larger image\" role=\"img\" focusable=\"false\" class=\"ud-icon ud-icon-large ud-icon-color-neutral\"><use xlink:href=\"#icon-search\"></use></svg></button></div></span></figure></li><li><p>Visualize the most common bi-grams</p><div class=\"ud-component--base-components--code-block\"><div><pre class=\"prettyprint linenums prettyprinted\" role=\"presentation\" style=\"\"><ol class=\"linenums\"><li class=\"L0\"><span class=\"com\"># Use seaborn to create a bar plot for the bi-gram frequencies</span></li><li class=\"L1\"><span class=\"pln\">sns</span><span class=\"pun\">.</span><span class=\"pln\">barplot</span><span class=\"pun\">(</span><span class=\"pln\">data</span><span class=\"pun\">=</span><span class=\"pln\">common_ngrams_df</span><span class=\"pun\">,</span><span class=\"pln\"> x</span><span class=\"pun\">=</span><span class=\"str\">'Frequency'</span><span class=\"pun\">,</span><span class=\"pln\"> y</span><span class=\"pun\">=</span><span class=\"str\">'N-gram'</span><span class=\"pun\">)</span></li><li class=\"L2\"><span class=\"pln\">plt</span><span class=\"pun\">.</span><span class=\"pln\">title</span><span class=\"pun\">(</span><span class=\"str\">'Most Common Bi-grams'</span><span class=\"pun\">)</span><span class=\"pln\">  </span><span class=\"com\"># Adding a title to the plot</span></li><li class=\"L3\"><span class=\"pln\">plt</span><span class=\"pun\">.</span><span class=\"pln\">show</span><span class=\"pun\">()</span><span class=\"pln\">                          </span><span class=\"com\"># Display the visualization</span></li></ol></pre></div></div><figure><img align=\"middle\" src=\"https://udemy-images.s3.amazonaws.com:443/redactor/raw/create_lab_editor/2023-11-03_10-47-28-aa7af4826f1137e277c96e9e19da9cde.png\" style=\"display: none;\"><span class=\"ud-component--base-components--open-full-size-image\"><div class=\"open-full-size-image--wrapper--2kvh_\" data-purpose=\"open-full-size-image\"><img src=\"https://udemy-images.s3.amazonaws.com:443/redactor/raw/create_lab_editor/2023-11-03_10-47-28-aa7af4826f1137e277c96e9e19da9cde.png\" alt=\"\" loading=\"eager\"><button type=\"button\" class=\"ud-btn ud-btn-large ud-btn-link ud-heading-md open-full-size-image--backdrop--20cbM\"><svg aria-label=\"Larger image\" role=\"img\" focusable=\"false\" class=\"ud-icon ud-icon-large ud-icon-color-neutral\"><use xlink:href=\"#icon-search\"></use></svg></button></div></span></figure></li></ol></div>"
      ]
    },
    {
      "cell_type": "code",
      "execution_count": 20,
      "id": "67058cf1-6f4e-43ab-8f25-655f7984f8df",
      "metadata": {
        "id": "67058cf1-6f4e-43ab-8f25-655f7984f8df"
      },
      "outputs": [],
      "source": []
    },
    {
      "cell_type": "code",
      "execution_count": 21,
      "id": "2910cf40-979c-49dd-bf1b-32b6a91e88f1",
      "metadata": {
        "id": "2910cf40-979c-49dd-bf1b-32b6a91e88f1"
      },
      "outputs": [],
      "source": [
        "# '''\n",
        "# In the Bigram Language Model, we find bigrams, which are two words coming together in the corpus(the entire collection of words/sentences).\n",
        "\n",
        "# For example: In the sentence, Edpresso is awesome, and user-friendly the bigrams are :\n",
        "\n",
        "# “Edpresso is”\n",
        "# “is awesome”\n",
        "# “and user”\n",
        "# “user friendly”\n",
        "# '''"
      ]
    },
    {
      "cell_type": "code",
      "execution_count": 22,
      "id": "b2a6f5a8-2f65-48f0-bb04-eba7eaaf767c",
      "metadata": {
        "id": "b2a6f5a8-2f65-48f0-bb04-eba7eaaf767c"
      },
      "outputs": [],
      "source": [
        "# Import CountVectorizer for text feature extraction and Seaborn for plotting\n",
        "from sklearn.feature_extraction.text import CountVectorizer"
      ]
    },
    {
      "cell_type": "code",
      "execution_count": 23,
      "id": "872a805f-1074-4e24-b075-2ca566398061",
      "metadata": {
        "id": "872a805f-1074-4e24-b075-2ca566398061",
        "outputId": "6966b214-23e1-49e5-bd2e-c1a5fa47c130",
        "colab": {
          "base_uri": "https://localhost:8080/",
          "height": 75
        }
      },
      "outputs": [
        {
          "output_type": "execute_result",
          "data": {
            "text/plain": [
              "CountVectorizer(ngram_range=(2, 2))"
            ],
            "text/html": [
              "<style>#sk-container-id-1 {color: black;background-color: white;}#sk-container-id-1 pre{padding: 0;}#sk-container-id-1 div.sk-toggleable {background-color: white;}#sk-container-id-1 label.sk-toggleable__label {cursor: pointer;display: block;width: 100%;margin-bottom: 0;padding: 0.3em;box-sizing: border-box;text-align: center;}#sk-container-id-1 label.sk-toggleable__label-arrow:before {content: \"▸\";float: left;margin-right: 0.25em;color: #696969;}#sk-container-id-1 label.sk-toggleable__label-arrow:hover:before {color: black;}#sk-container-id-1 div.sk-estimator:hover label.sk-toggleable__label-arrow:before {color: black;}#sk-container-id-1 div.sk-toggleable__content {max-height: 0;max-width: 0;overflow: hidden;text-align: left;background-color: #f0f8ff;}#sk-container-id-1 div.sk-toggleable__content pre {margin: 0.2em;color: black;border-radius: 0.25em;background-color: #f0f8ff;}#sk-container-id-1 input.sk-toggleable__control:checked~div.sk-toggleable__content {max-height: 200px;max-width: 100%;overflow: auto;}#sk-container-id-1 input.sk-toggleable__control:checked~label.sk-toggleable__label-arrow:before {content: \"▾\";}#sk-container-id-1 div.sk-estimator input.sk-toggleable__control:checked~label.sk-toggleable__label {background-color: #d4ebff;}#sk-container-id-1 div.sk-label input.sk-toggleable__control:checked~label.sk-toggleable__label {background-color: #d4ebff;}#sk-container-id-1 input.sk-hidden--visually {border: 0;clip: rect(1px 1px 1px 1px);clip: rect(1px, 1px, 1px, 1px);height: 1px;margin: -1px;overflow: hidden;padding: 0;position: absolute;width: 1px;}#sk-container-id-1 div.sk-estimator {font-family: monospace;background-color: #f0f8ff;border: 1px dotted black;border-radius: 0.25em;box-sizing: border-box;margin-bottom: 0.5em;}#sk-container-id-1 div.sk-estimator:hover {background-color: #d4ebff;}#sk-container-id-1 div.sk-parallel-item::after {content: \"\";width: 100%;border-bottom: 1px solid gray;flex-grow: 1;}#sk-container-id-1 div.sk-label:hover label.sk-toggleable__label {background-color: #d4ebff;}#sk-container-id-1 div.sk-serial::before {content: \"\";position: absolute;border-left: 1px solid gray;box-sizing: border-box;top: 0;bottom: 0;left: 50%;z-index: 0;}#sk-container-id-1 div.sk-serial {display: flex;flex-direction: column;align-items: center;background-color: white;padding-right: 0.2em;padding-left: 0.2em;position: relative;}#sk-container-id-1 div.sk-item {position: relative;z-index: 1;}#sk-container-id-1 div.sk-parallel {display: flex;align-items: stretch;justify-content: center;background-color: white;position: relative;}#sk-container-id-1 div.sk-item::before, #sk-container-id-1 div.sk-parallel-item::before {content: \"\";position: absolute;border-left: 1px solid gray;box-sizing: border-box;top: 0;bottom: 0;left: 50%;z-index: -1;}#sk-container-id-1 div.sk-parallel-item {display: flex;flex-direction: column;z-index: 1;position: relative;background-color: white;}#sk-container-id-1 div.sk-parallel-item:first-child::after {align-self: flex-end;width: 50%;}#sk-container-id-1 div.sk-parallel-item:last-child::after {align-self: flex-start;width: 50%;}#sk-container-id-1 div.sk-parallel-item:only-child::after {width: 0;}#sk-container-id-1 div.sk-dashed-wrapped {border: 1px dashed gray;margin: 0 0.4em 0.5em 0.4em;box-sizing: border-box;padding-bottom: 0.4em;background-color: white;}#sk-container-id-1 div.sk-label label {font-family: monospace;font-weight: bold;display: inline-block;line-height: 1.2em;}#sk-container-id-1 div.sk-label-container {text-align: center;}#sk-container-id-1 div.sk-container {/* jupyter's `normalize.less` sets `[hidden] { display: none; }` but bootstrap.min.css set `[hidden] { display: none !important; }` so we also need the `!important` here to be able to override the default hidden behavior on the sphinx rendered scikit-learn.org. See: https://github.com/scikit-learn/scikit-learn/issues/21755 */display: inline-block !important;position: relative;}#sk-container-id-1 div.sk-text-repr-fallback {display: none;}</style><div id=\"sk-container-id-1\" class=\"sk-top-container\"><div class=\"sk-text-repr-fallback\"><pre>CountVectorizer(ngram_range=(2, 2))</pre><b>In a Jupyter environment, please rerun this cell to show the HTML representation or trust the notebook. <br />On GitHub, the HTML representation is unable to render, please try loading this page with nbviewer.org.</b></div><div class=\"sk-container\" hidden><div class=\"sk-item\"><div class=\"sk-estimator sk-toggleable\"><input class=\"sk-toggleable__control sk-hidden--visually\" id=\"sk-estimator-id-1\" type=\"checkbox\" checked><label for=\"sk-estimator-id-1\" class=\"sk-toggleable__label sk-toggleable__label-arrow\">CountVectorizer</label><div class=\"sk-toggleable__content\"><pre>CountVectorizer(ngram_range=(2, 2))</pre></div></div></div></div></div>"
            ]
          },
          "metadata": {},
          "execution_count": 23
        }
      ],
      "source": [
        "# Set up CountVectorizer to consider bi0grams only\n",
        "vectorizer = CountVectorizer(ngram_range=(2,2))\n",
        "vectorizer"
      ]
    },
    {
      "cell_type": "code",
      "execution_count": 24,
      "id": "a9d75c2b-d9ee-4401-9483-13063b6ef50c",
      "metadata": {
        "id": "a9d75c2b-d9ee-4401-9483-13063b6ef50c",
        "outputId": "22ca95f1-34ef-47ab-c993-7870b761c7f1",
        "colab": {
          "base_uri": "https://localhost:8080/"
        }
      },
      "outputs": [
        {
          "output_type": "execute_result",
          "data": {
            "text/plain": [
              "<1492x17758 sparse matrix of type '<class 'numpy.int64'>'\n",
              "\twith 28938 stored elements in Compressed Sparse Row format>"
            ]
          },
          "metadata": {},
          "execution_count": 24
        }
      ],
      "source": [
        "# Apply the vectorizer to the sentences to get the bi-gram counts\n",
        "ngram_counts = vectorizer.fit_transform(df.Sentence)\n",
        "ngram_counts"
      ]
    },
    {
      "cell_type": "code",
      "execution_count": 25,
      "id": "8c4ce73b-febc-449d-b25a-d49e5b194c65",
      "metadata": {
        "id": "8c4ce73b-febc-449d-b25a-d49e5b194c65",
        "outputId": "6e40b0fe-e14a-4d3b-f9b7-7636388eaaaf",
        "colab": {
          "base_uri": "https://localhost:8080/"
        }
      },
      "outputs": [
        {
          "output_type": "execute_result",
          "data": {
            "text/plain": [
              "[('according to', 30),\n",
              " ('to gran', 1),\n",
              " ('gran the', 1),\n",
              " ('the company', 165),\n",
              " ('company has', 12)]"
            ]
          },
          "metadata": {},
          "execution_count": 25
        }
      ],
      "source": [
        "# Aggregate counts and get feature names (bi-grams)\n",
        "ngram_sum = ngram_counts.sum(axis=0)\n",
        "ngram_list = [(ngram, ngram_sum[0, idx]) for ngram, idx in vectorizer.vocabulary_.items()]\n",
        "ngram_list[:5]"
      ]
    },
    {
      "cell_type": "code",
      "execution_count": 26,
      "id": "18ccc95a-9af6-4c4a-a3fb-5e00ba4e9139",
      "metadata": {
        "id": "18ccc95a-9af6-4c4a-a3fb-5e00ba4e9139"
      },
      "outputs": [],
      "source": [
        "# Sort the bi-grams by their frequency count in descending order\n",
        "common_ngrams = sorted(ngram_list, key=lambda x: x[1], reverse=True)[:20]"
      ]
    },
    {
      "cell_type": "code",
      "execution_count": 27,
      "id": "1c9a552a-7b31-4ca5-ae94-2346845de77f",
      "metadata": {
        "id": "1c9a552a-7b31-4ca5-ae94-2346845de77f",
        "outputId": "25b28b35-7216-445a-ccbb-a0885b6a7bea",
        "colab": {
          "base_uri": "https://localhost:8080/",
          "height": 206
        }
      },
      "outputs": [
        {
          "output_type": "execute_result",
          "data": {
            "text/plain": [
              "        N-gram  Frequency\n",
              "0       in the        264\n",
              "1       of the        186\n",
              "2      for the        175\n",
              "3  the company        165\n",
              "4    net sales        143"
            ],
            "text/html": [
              "\n",
              "  <div id=\"df-3e8ddcfe-cabc-4a1a-9282-0e5242152dff\" class=\"colab-df-container\">\n",
              "    <div>\n",
              "<style scoped>\n",
              "    .dataframe tbody tr th:only-of-type {\n",
              "        vertical-align: middle;\n",
              "    }\n",
              "\n",
              "    .dataframe tbody tr th {\n",
              "        vertical-align: top;\n",
              "    }\n",
              "\n",
              "    .dataframe thead th {\n",
              "        text-align: right;\n",
              "    }\n",
              "</style>\n",
              "<table border=\"1\" class=\"dataframe\">\n",
              "  <thead>\n",
              "    <tr style=\"text-align: right;\">\n",
              "      <th></th>\n",
              "      <th>N-gram</th>\n",
              "      <th>Frequency</th>\n",
              "    </tr>\n",
              "  </thead>\n",
              "  <tbody>\n",
              "    <tr>\n",
              "      <th>0</th>\n",
              "      <td>in the</td>\n",
              "      <td>264</td>\n",
              "    </tr>\n",
              "    <tr>\n",
              "      <th>1</th>\n",
              "      <td>of the</td>\n",
              "      <td>186</td>\n",
              "    </tr>\n",
              "    <tr>\n",
              "      <th>2</th>\n",
              "      <td>for the</td>\n",
              "      <td>175</td>\n",
              "    </tr>\n",
              "    <tr>\n",
              "      <th>3</th>\n",
              "      <td>the company</td>\n",
              "      <td>165</td>\n",
              "    </tr>\n",
              "    <tr>\n",
              "      <th>4</th>\n",
              "      <td>net sales</td>\n",
              "      <td>143</td>\n",
              "    </tr>\n",
              "  </tbody>\n",
              "</table>\n",
              "</div>\n",
              "    <div class=\"colab-df-buttons\">\n",
              "\n",
              "  <div class=\"colab-df-container\">\n",
              "    <button class=\"colab-df-convert\" onclick=\"convertToInteractive('df-3e8ddcfe-cabc-4a1a-9282-0e5242152dff')\"\n",
              "            title=\"Convert this dataframe to an interactive table.\"\n",
              "            style=\"display:none;\">\n",
              "\n",
              "  <svg xmlns=\"http://www.w3.org/2000/svg\" height=\"24px\" viewBox=\"0 -960 960 960\">\n",
              "    <path d=\"M120-120v-720h720v720H120Zm60-500h600v-160H180v160Zm220 220h160v-160H400v160Zm0 220h160v-160H400v160ZM180-400h160v-160H180v160Zm440 0h160v-160H620v160ZM180-180h160v-160H180v160Zm440 0h160v-160H620v160Z\"/>\n",
              "  </svg>\n",
              "    </button>\n",
              "\n",
              "  <style>\n",
              "    .colab-df-container {\n",
              "      display:flex;\n",
              "      gap: 12px;\n",
              "    }\n",
              "\n",
              "    .colab-df-convert {\n",
              "      background-color: #E8F0FE;\n",
              "      border: none;\n",
              "      border-radius: 50%;\n",
              "      cursor: pointer;\n",
              "      display: none;\n",
              "      fill: #1967D2;\n",
              "      height: 32px;\n",
              "      padding: 0 0 0 0;\n",
              "      width: 32px;\n",
              "    }\n",
              "\n",
              "    .colab-df-convert:hover {\n",
              "      background-color: #E2EBFA;\n",
              "      box-shadow: 0px 1px 2px rgba(60, 64, 67, 0.3), 0px 1px 3px 1px rgba(60, 64, 67, 0.15);\n",
              "      fill: #174EA6;\n",
              "    }\n",
              "\n",
              "    .colab-df-buttons div {\n",
              "      margin-bottom: 4px;\n",
              "    }\n",
              "\n",
              "    [theme=dark] .colab-df-convert {\n",
              "      background-color: #3B4455;\n",
              "      fill: #D2E3FC;\n",
              "    }\n",
              "\n",
              "    [theme=dark] .colab-df-convert:hover {\n",
              "      background-color: #434B5C;\n",
              "      box-shadow: 0px 1px 3px 1px rgba(0, 0, 0, 0.15);\n",
              "      filter: drop-shadow(0px 1px 2px rgba(0, 0, 0, 0.3));\n",
              "      fill: #FFFFFF;\n",
              "    }\n",
              "  </style>\n",
              "\n",
              "    <script>\n",
              "      const buttonEl =\n",
              "        document.querySelector('#df-3e8ddcfe-cabc-4a1a-9282-0e5242152dff button.colab-df-convert');\n",
              "      buttonEl.style.display =\n",
              "        google.colab.kernel.accessAllowed ? 'block' : 'none';\n",
              "\n",
              "      async function convertToInteractive(key) {\n",
              "        const element = document.querySelector('#df-3e8ddcfe-cabc-4a1a-9282-0e5242152dff');\n",
              "        const dataTable =\n",
              "          await google.colab.kernel.invokeFunction('convertToInteractive',\n",
              "                                                    [key], {});\n",
              "        if (!dataTable) return;\n",
              "\n",
              "        const docLinkHtml = 'Like what you see? Visit the ' +\n",
              "          '<a target=\"_blank\" href=https://colab.research.google.com/notebooks/data_table.ipynb>data table notebook</a>'\n",
              "          + ' to learn more about interactive tables.';\n",
              "        element.innerHTML = '';\n",
              "        dataTable['output_type'] = 'display_data';\n",
              "        await google.colab.output.renderOutput(dataTable, element);\n",
              "        const docLink = document.createElement('div');\n",
              "        docLink.innerHTML = docLinkHtml;\n",
              "        element.appendChild(docLink);\n",
              "      }\n",
              "    </script>\n",
              "  </div>\n",
              "\n",
              "\n",
              "<div id=\"df-44283ed3-1c25-496f-8b38-88ec6305a847\">\n",
              "  <button class=\"colab-df-quickchart\" onclick=\"quickchart('df-44283ed3-1c25-496f-8b38-88ec6305a847')\"\n",
              "            title=\"Suggest charts\"\n",
              "            style=\"display:none;\">\n",
              "\n",
              "<svg xmlns=\"http://www.w3.org/2000/svg\" height=\"24px\"viewBox=\"0 0 24 24\"\n",
              "     width=\"24px\">\n",
              "    <g>\n",
              "        <path d=\"M19 3H5c-1.1 0-2 .9-2 2v14c0 1.1.9 2 2 2h14c1.1 0 2-.9 2-2V5c0-1.1-.9-2-2-2zM9 17H7v-7h2v7zm4 0h-2V7h2v10zm4 0h-2v-4h2v4z\"/>\n",
              "    </g>\n",
              "</svg>\n",
              "  </button>\n",
              "\n",
              "<style>\n",
              "  .colab-df-quickchart {\n",
              "      --bg-color: #E8F0FE;\n",
              "      --fill-color: #1967D2;\n",
              "      --hover-bg-color: #E2EBFA;\n",
              "      --hover-fill-color: #174EA6;\n",
              "      --disabled-fill-color: #AAA;\n",
              "      --disabled-bg-color: #DDD;\n",
              "  }\n",
              "\n",
              "  [theme=dark] .colab-df-quickchart {\n",
              "      --bg-color: #3B4455;\n",
              "      --fill-color: #D2E3FC;\n",
              "      --hover-bg-color: #434B5C;\n",
              "      --hover-fill-color: #FFFFFF;\n",
              "      --disabled-bg-color: #3B4455;\n",
              "      --disabled-fill-color: #666;\n",
              "  }\n",
              "\n",
              "  .colab-df-quickchart {\n",
              "    background-color: var(--bg-color);\n",
              "    border: none;\n",
              "    border-radius: 50%;\n",
              "    cursor: pointer;\n",
              "    display: none;\n",
              "    fill: var(--fill-color);\n",
              "    height: 32px;\n",
              "    padding: 0;\n",
              "    width: 32px;\n",
              "  }\n",
              "\n",
              "  .colab-df-quickchart:hover {\n",
              "    background-color: var(--hover-bg-color);\n",
              "    box-shadow: 0 1px 2px rgba(60, 64, 67, 0.3), 0 1px 3px 1px rgba(60, 64, 67, 0.15);\n",
              "    fill: var(--button-hover-fill-color);\n",
              "  }\n",
              "\n",
              "  .colab-df-quickchart-complete:disabled,\n",
              "  .colab-df-quickchart-complete:disabled:hover {\n",
              "    background-color: var(--disabled-bg-color);\n",
              "    fill: var(--disabled-fill-color);\n",
              "    box-shadow: none;\n",
              "  }\n",
              "\n",
              "  .colab-df-spinner {\n",
              "    border: 2px solid var(--fill-color);\n",
              "    border-color: transparent;\n",
              "    border-bottom-color: var(--fill-color);\n",
              "    animation:\n",
              "      spin 1s steps(1) infinite;\n",
              "  }\n",
              "\n",
              "  @keyframes spin {\n",
              "    0% {\n",
              "      border-color: transparent;\n",
              "      border-bottom-color: var(--fill-color);\n",
              "      border-left-color: var(--fill-color);\n",
              "    }\n",
              "    20% {\n",
              "      border-color: transparent;\n",
              "      border-left-color: var(--fill-color);\n",
              "      border-top-color: var(--fill-color);\n",
              "    }\n",
              "    30% {\n",
              "      border-color: transparent;\n",
              "      border-left-color: var(--fill-color);\n",
              "      border-top-color: var(--fill-color);\n",
              "      border-right-color: var(--fill-color);\n",
              "    }\n",
              "    40% {\n",
              "      border-color: transparent;\n",
              "      border-right-color: var(--fill-color);\n",
              "      border-top-color: var(--fill-color);\n",
              "    }\n",
              "    60% {\n",
              "      border-color: transparent;\n",
              "      border-right-color: var(--fill-color);\n",
              "    }\n",
              "    80% {\n",
              "      border-color: transparent;\n",
              "      border-right-color: var(--fill-color);\n",
              "      border-bottom-color: var(--fill-color);\n",
              "    }\n",
              "    90% {\n",
              "      border-color: transparent;\n",
              "      border-bottom-color: var(--fill-color);\n",
              "    }\n",
              "  }\n",
              "</style>\n",
              "\n",
              "  <script>\n",
              "    async function quickchart(key) {\n",
              "      const quickchartButtonEl =\n",
              "        document.querySelector('#' + key + ' button');\n",
              "      quickchartButtonEl.disabled = true;  // To prevent multiple clicks.\n",
              "      quickchartButtonEl.classList.add('colab-df-spinner');\n",
              "      try {\n",
              "        const charts = await google.colab.kernel.invokeFunction(\n",
              "            'suggestCharts', [key], {});\n",
              "      } catch (error) {\n",
              "        console.error('Error during call to suggestCharts:', error);\n",
              "      }\n",
              "      quickchartButtonEl.classList.remove('colab-df-spinner');\n",
              "      quickchartButtonEl.classList.add('colab-df-quickchart-complete');\n",
              "    }\n",
              "    (() => {\n",
              "      let quickchartButtonEl =\n",
              "        document.querySelector('#df-44283ed3-1c25-496f-8b38-88ec6305a847 button');\n",
              "      quickchartButtonEl.style.display =\n",
              "        google.colab.kernel.accessAllowed ? 'block' : 'none';\n",
              "    })();\n",
              "  </script>\n",
              "</div>\n",
              "\n",
              "    </div>\n",
              "  </div>\n"
            ]
          },
          "metadata": {},
          "execution_count": 27
        }
      ],
      "source": [
        "# Create a DataFrame for the most common bi-grams to facilitate visualization\n",
        "common_ngrams_df = pd.DataFrame(common_ngrams, columns=['N-gram', 'Frequency'])\n",
        "common_ngrams_df.head()"
      ]
    },
    {
      "cell_type": "code",
      "execution_count": 28,
      "id": "dd8cac85-3d3b-4c74-88b4-0b36c3d16e89",
      "metadata": {
        "id": "dd8cac85-3d3b-4c74-88b4-0b36c3d16e89",
        "outputId": "b2fca850-16c0-48d4-84b8-ff9102799add",
        "colab": {
          "base_uri": "https://localhost:8080/",
          "height": 472
        }
      },
      "outputs": [
        {
          "output_type": "display_data",
          "data": {
            "text/plain": [
              "<Figure size 640x480 with 1 Axes>"
            ],
            "image/png": "[encoded data removed]"
          },
          "metadata": {}
        }
      ],
      "source": [
        "# Use seaborn to create a bar plot for the bi-gram frequencies\n",
        "sns.barplot(data=common_ngrams_df, x='Frequency', y='N-gram')\n",
        "plt.title('Most Common Bi-grams')  # Adding a title to the plot\n",
        "plt.show()                          # Display the visualization"
      ]
    },
    {
      "cell_type": "code",
      "execution_count": 28,
      "id": "830b8ddf-6e75-44f9-ab12-b94d938d892e",
      "metadata": {
        "id": "830b8ddf-6e75-44f9-ab12-b94d938d892e"
      },
      "outputs": [],
      "source": []
    },
    {
      "cell_type": "markdown",
      "id": "bfa60779-7e8a-4f9a-8d9b-8a2b2621d7a0",
      "metadata": {
        "id": "bfa60779-7e8a-4f9a-8d9b-8a2b2621d7a0"
      },
      "source": [
        "# Task 5: Analyze Sentiment Distribution Using Positive and Negative Word Counts"
      ]
    },
    {
      "cell_type": "markdown",
      "id": "ca034870-ed81-487f-915b-4fbd86703e85",
      "metadata": {
        "id": "ca034870-ed81-487f-915b-4fbd86703e85"
      },
      "source": [
        "<div data-purpose=\"safely-set-inner-html:rich-text-viewer:html\" class=\"lab-rich-text-viewer--lab-html-content--22XsM rt-scaffolding\"><p>In this task, you will conduct a simple sentiment analysis by tallying the occurrences of predefined positive and negative sentiment words in a collection of sentences. The goal is to obtain a rough estimate of the sentiment distribution within the text data. To complete the task:</p><ul><li><p>Create two lists: one containing words that are typically associated with 6 positive sentiments (e.g., good, great, positive), and another with 6 words associated with negative sentiments&nbsp; (e.g., bad, poor, down).</p></li><li><p>Calculate the frequency of Sentiment Words</p></li><li><p>Plot the Counts of Sentiment Words</p><p><br></p></li></ul></div>\n",
        "\n",
        "<div data-purpose=\"safely-set-inner-html:rich-text-viewer:html\" class=\"lab-rich-text-viewer--lab-html-content--22XsM rt-scaffolding\"><ol><li><p>Define Sentiment Word Lists</p><div class=\"ud-component--base-components--code-block\"><div><pre class=\"prettyprint linenums prettyprinted\" role=\"presentation\" style=\"\"><ol class=\"linenums\"><li class=\"L0\"><span class=\"com\"># Create lists of words associated with positive and negative sentiments</span></li><li class=\"L1\"><span class=\"pln\">positive_words </span><span class=\"pun\">=</span><span class=\"pln\"> </span><span class=\"pun\">[</span><span class=\"str\">'good'</span><span class=\"pun\">,</span><span class=\"pln\"> </span><span class=\"str\">'great'</span><span class=\"pun\">,</span><span class=\"pln\"> </span><span class=\"str\">'positive'</span><span class=\"pun\">,</span><span class=\"pln\"> </span><span class=\"str\">'profit'</span><span class=\"pun\">,</span><span class=\"pln\"> </span><span class=\"str\">'up'</span><span class=\"pun\">,</span><span class=\"pln\"> </span><span class=\"str\">'increase'</span><span class=\"pun\">]</span></li><li class=\"L2\"><span class=\"pln\">negative_words </span><span class=\"pun\">=</span><span class=\"pln\"> </span><span class=\"pun\">[</span><span class=\"str\">'bad'</span><span class=\"pun\">,</span><span class=\"pln\"> </span><span class=\"str\">'poor'</span><span class=\"pun\">,</span><span class=\"pln\"> </span><span class=\"str\">'negative'</span><span class=\"pun\">,</span><span class=\"pln\"> </span><span class=\"str\">'loss'</span><span class=\"pun\">,</span><span class=\"pln\"> </span><span class=\"str\">'down'</span><span class=\"pun\">,</span><span class=\"pln\"> </span><span class=\"str\">'decrease'</span><span class=\"pun\">]</span></li></ol></pre></div></div><p><br></p></li><li><p>Count Occurrences of Sentiment Words in Sentences</p><div class=\"ud-component--base-components--code-block\"><div><pre class=\"prettyprint linenums prettyprinted\" role=\"presentation\" style=\"\"><ol class=\"linenums\"><li class=\"L0\"><span class=\"com\"># Calculate the frequency of positive and negative words in the dataset</span></li><li class=\"L1\"><span class=\"pln\">positive_counts </span><span class=\"pun\">=</span><span class=\"pln\"> sum</span><span class=\"pun\">([</span><span class=\"pln\">sentence</span><span class=\"pun\">.</span><span class=\"pln\">lower</span><span class=\"pun\">().</span><span class=\"pln\">count</span><span class=\"pun\">(</span><span class=\"pln\">word</span><span class=\"pun\">)</span><span class=\"pln\"> </span><span class=\"kwd\">for</span><span class=\"pln\"> sentence </span><span class=\"kwd\">in</span><span class=\"pln\"> df</span><span class=\"pun\">[</span><span class=\"str\">'Sentence'</span><span class=\"pun\">]</span><span class=\"pln\"> </span><span class=\"kwd\">for</span><span class=\"pln\"> word </span><span class=\"kwd\">in</span><span class=\"pln\"> positive_words</span><span class=\"pun\">])</span></li><li class=\"L2\"><span class=\"pln\">negative_counts </span><span class=\"pun\">=</span><span class=\"pln\"> sum</span><span class=\"pun\">([</span><span class=\"pln\">sentence</span><span class=\"pun\">.</span><span class=\"pln\">lower</span><span class=\"pun\">().</span><span class=\"pln\">count</span><span class=\"pun\">(</span><span class=\"pln\">word</span><span class=\"pun\">)</span><span class=\"pln\"> </span><span class=\"kwd\">for</span><span class=\"pln\"> sentence </span><span class=\"kwd\">in</span><span class=\"pln\"> df</span><span class=\"pun\">[</span><span class=\"str\">'Sentence'</span><span class=\"pun\">]</span><span class=\"pln\"> </span><span class=\"kwd\">for</span><span class=\"pln\"> word </span><span class=\"kwd\">in</span><span class=\"pln\"> negative_words</span><span class=\"pun\">])</span></li></ol></pre></div></div><p><br></p></li><li><p>Visualize Sentiment Word Counts</p><div class=\"ud-component--base-components--code-block\"><div><pre class=\"prettyprint linenums prettyprinted\" role=\"presentation\" style=\"\"><ol class=\"linenums\"><li class=\"L0\"><span class=\"com\"># Use seaborn to create a bar plot showing the counts of positive and negative sentiment words</span></li><li class=\"L1\"><span class=\"kwd\">import</span><span class=\"pln\"> seaborn </span><span class=\"kwd\">as</span><span class=\"pln\"> sns</span></li><li class=\"L2\"><span class=\"kwd\">import</span><span class=\"pln\"> matplotlib</span><span class=\"pun\">.</span><span class=\"pln\">pyplot </span><span class=\"kwd\">as</span><span class=\"pln\"> plt</span></li><li class=\"L3\"><span class=\"pln\">&nbsp;</span></li><li class=\"L4\"><span class=\"pln\">sns</span><span class=\"pun\">.</span><span class=\"pln\">barplot</span><span class=\"pun\">(</span><span class=\"pln\">x</span><span class=\"pun\">=[</span><span class=\"str\">'Positive Words'</span><span class=\"pun\">,</span><span class=\"pln\"> </span><span class=\"str\">'Negative Words'</span><span class=\"pun\">],</span><span class=\"pln\"> y</span><span class=\"pun\">=[</span><span class=\"pln\">positive_counts</span><span class=\"pun\">,</span><span class=\"pln\"> negative_counts</span><span class=\"pun\">])</span></li><li class=\"L5\"><span class=\"pln\">plt</span><span class=\"pun\">.</span><span class=\"pln\">title</span><span class=\"pun\">(</span><span class=\"str\">'Occurrence of Sentiment Words'</span><span class=\"pun\">)</span><span class=\"pln\">  </span><span class=\"com\"># Set the title of the plot</span></li><li class=\"L6\"><span class=\"pln\">plt</span><span class=\"pun\">.</span><span class=\"pln\">ylabel</span><span class=\"pun\">(</span><span class=\"str\">'Count'</span><span class=\"pun\">)</span><span class=\"pln\">                          </span><span class=\"com\"># Set the y-axis label</span></li><li class=\"L7\"><span class=\"pln\">plt</span><span class=\"pun\">.</span><span class=\"pln\">show</span><span class=\"pun\">()</span><span class=\"pln\">                                   </span><span class=\"com\"># Display the plot</span></li></ol></pre></div></div><figure><img align=\"middle\" src=\"https://udemy-images.s3.amazonaws.com:443/redactor/raw/create_lab_editor/2023-11-03_10-56-08-413558016b116bd05a5029792ddbee5c.png\" style=\"display: none;\"><span class=\"ud-component--base-components--open-full-size-image\"><div class=\"open-full-size-image--wrapper--2kvh_\" data-purpose=\"open-full-size-image\"><img src=\"https://udemy-images.s3.amazonaws.com:443/redactor/raw/create_lab_editor/2023-11-03_10-56-08-413558016b116bd05a5029792ddbee5c.png\" alt=\"\" loading=\"eager\"><button type=\"button\" class=\"ud-btn ud-btn-large ud-btn-link ud-heading-md open-full-size-image--backdrop--20cbM\"><svg aria-label=\"Larger image\" role=\"img\" focusable=\"false\" class=\"ud-icon ud-icon-large ud-icon-color-neutral\"><use xlink:href=\"#icon-search\"></use></svg></button></div></span></figure></li></ol></div>"
      ]
    },
    {
      "cell_type": "code",
      "execution_count": 28,
      "id": "07e0f4f4-356e-48be-93b9-2aab38027704",
      "metadata": {
        "id": "07e0f4f4-356e-48be-93b9-2aab38027704"
      },
      "outputs": [],
      "source": []
    },
    {
      "cell_type": "code",
      "execution_count": 29,
      "id": "0bdfa217-c1fc-4d52-84ba-2b4f5b9530a0",
      "metadata": {
        "id": "0bdfa217-c1fc-4d52-84ba-2b4f5b9530a0"
      },
      "outputs": [],
      "source": [
        "# Create lists of words associated with positive and negative sentiments\n",
        "positive_words = ['good', 'great', 'positive', 'profit', 'up', 'increase']\n",
        "negative_words = ['bad', 'poor', 'negative', 'loss', 'down', 'decrease']"
      ]
    },
    {
      "cell_type": "code",
      "execution_count": 30,
      "id": "0dd86b9c-69cc-4174-b963-9a567802f17d",
      "metadata": {
        "id": "0dd86b9c-69cc-4174-b963-9a567802f17d"
      },
      "outputs": [],
      "source": [
        "# Calculate the frequency of positive and negative words in the dataset\n",
        "positive_counts = sum([sentence.lower().count(word) for sentence in df['Sentence'] for word in positive_words])\n",
        "negative_counts = sum([sentence.lower().count(word) for sentence in df['Sentence'] for word in negative_words])"
      ]
    },
    {
      "cell_type": "code",
      "execution_count": 31,
      "id": "e8846137-e049-4c3c-b079-1245becd53d6",
      "metadata": {
        "id": "e8846137-e049-4c3c-b079-1245becd53d6",
        "outputId": "4da2876c-9480-4433-8188-3d323c7469df",
        "colab": {
          "base_uri": "https://localhost:8080/",
          "height": 452
        }
      },
      "outputs": [
        {
          "output_type": "display_data",
          "data": {
            "text/plain": [
              "<Figure size 640x480 with 1 Axes>"
            ],
            "image/png": "[encoded data removed]"
          },
          "metadata": {}
        }
      ],
      "source": [
        "# Use seaborn to create a bar plot showing the counts of positive and negative sentiment words\n",
        "sns.barplot(x=['Positive Words', 'Negative Words'], y=[positive_counts, negative_counts])\n",
        "plt.title('Occurrence of Sentiment Words')  # Set the title of the plot\n",
        "plt.ylabel('Count')                          # Set the y-axis label\n",
        "plt.show()                                   # Display the plot"
      ]
    },
    {
      "cell_type": "code",
      "execution_count": 31,
      "id": "dca13444-22f8-45ed-b08a-21964419e938",
      "metadata": {
        "id": "dca13444-22f8-45ed-b08a-21964419e938"
      },
      "outputs": [],
      "source": []
    },
    {
      "cell_type": "markdown",
      "id": "1676e9ec-9122-4b58-b12d-a931b4af6a3d",
      "metadata": {
        "id": "1676e9ec-9122-4b58-b12d-a931b4af6a3d"
      },
      "source": [
        "# Task 6: Text Data Preprocessing for Sentiment Analysis Model"
      ]
    },
    {
      "cell_type": "markdown",
      "id": "61149cb8-7198-47dd-b721-b78aa7d70238",
      "metadata": {
        "id": "61149cb8-7198-47dd-b721-b78aa7d70238"
      },
      "source": [
        "<div data-purpose=\"safely-set-inner-html:rich-text-viewer:html\" class=\"lab-rich-text-viewer--lab-html-content--22XsM rt-scaffolding\"><p>Your task is to clean and transform sentences from a dataset so that they can be used by a machine learning model. Specifically, you need to:</p><ul><li><p>Clean the sentences in the dataset.</p></li><li><p>Convert the cleaned sentences into a format suitable for machine learning (TF-IDF).</p></li><li><p>Change text labels into numbers.</p></li><li><p>Split the data into training and testing sets, with a&nbsp; test size of 20% and a random state set to 1502.</p></li><li><p>Make sure the data is in the right format for the machine learning model to process.</p><p><br></p></li></ul></div>\n",
        "\n",
        "<div data-purpose=\"safely-set-inner-html:rich-text-viewer:html\" class=\"lab-rich-text-viewer--lab-html-content--22XsM rt-scaffolding\"><ol><li><p>Start by defining a function to clean the text data, aiming to standardize it for analysis.</p><div class=\"ud-component--base-components--code-block\"><div><pre class=\"prettyprint linenums prettyprinted\" role=\"presentation\" style=\"\"><ol class=\"linenums\"><li class=\"L0\"><span class=\"kwd\">import</span><span class=\"pln\"> re</span></li><li class=\"L1\"><span class=\"pln\">&nbsp;</span></li><li class=\"L2\"><span class=\"com\"># Function to clean text data</span></li><li class=\"L3\"><span class=\"kwd\">def</span><span class=\"pln\"> clean_text</span><span class=\"pun\">(</span><span class=\"pln\">text</span><span class=\"pun\">):</span></li><li class=\"L4\"><span class=\"pln\">    text </span><span class=\"pun\">=</span><span class=\"pln\"> re</span><span class=\"pun\">.</span><span class=\"kwd\">sub</span><span class=\"pun\">(</span><span class=\"pln\">r</span><span class=\"str\">\"[^\\w\\s]\"</span><span class=\"pun\">,</span><span class=\"pln\"> </span><span class=\"str\">''</span><span class=\"pun\">,</span><span class=\"pln\"> text</span><span class=\"pun\">)</span><span class=\"pln\">  </span><span class=\"com\"># Remove punctuation</span></li><li class=\"L5\"><span class=\"pln\">    text </span><span class=\"pun\">=</span><span class=\"pln\"> text</span><span class=\"pun\">.</span><span class=\"pln\">lower</span><span class=\"pun\">()</span><span class=\"pln\">  </span><span class=\"com\"># Convert to lowercase</span></li><li class=\"L6\"><span class=\"pln\">    text </span><span class=\"pun\">=</span><span class=\"pln\"> re</span><span class=\"pun\">.</span><span class=\"kwd\">sub</span><span class=\"pun\">(</span><span class=\"pln\">r</span><span class=\"str\">\"\\s+\"</span><span class=\"pun\">,</span><span class=\"pln\"> </span><span class=\"str\">' '</span><span class=\"pun\">,</span><span class=\"pln\"> text</span><span class=\"pun\">)</span><span class=\"pln\">  </span><span class=\"com\"># Collapse multiple spaces to one</span></li><li class=\"L7\"><span class=\"pln\">    </span><span class=\"kwd\">return</span><span class=\"pln\"> text</span><span class=\"pun\">.</span><span class=\"pln\">strip</span><span class=\"pun\">()</span><span class=\"pln\">  </span><span class=\"com\"># Remove leading and trailing spaces</span></li></ol></pre></div></div><p><br></p></li><li><p>Apply the text cleaning function to each sentence in your DataFrame.</p><div class=\"ud-component--base-components--code-block\"><div><pre class=\"prettyprint linenums prettyprinted\" role=\"presentation\" style=\"\"><ol class=\"linenums\"><li class=\"L0\"><span class=\"com\"># Clean sentences in the DataFrame</span></li><li class=\"L1\"><span class=\"pln\">df</span><span class=\"pun\">[</span><span class=\"str\">'Cleaned_Sentence'</span><span class=\"pun\">]</span><span class=\"pln\"> </span><span class=\"pun\">=</span><span class=\"pln\"> df</span><span class=\"pun\">[</span><span class=\"str\">'Sentence'</span><span class=\"pun\">].</span><span class=\"pln\">apply</span><span class=\"pun\">(</span><span class=\"pln\">clean_text</span><span class=\"pun\">)</span></li><li class=\"L2\"><span class=\"pln\">df</span><span class=\"pun\">.</span><span class=\"pln\">head</span><span class=\"pun\">()</span></li></ol></pre></div></div><figure><img align=\"middle\" src=\"https://udemy-images.s3.amazonaws.com:443/redactor/raw/create_lab_editor/2023-11-03_13-04-35-c8e7ceabf1162440b749a69826aed476.png\" style=\"display: none;\"><span class=\"ud-component--base-components--open-full-size-image\"><div class=\"open-full-size-image--wrapper--2kvh_\" data-purpose=\"open-full-size-image\"><img src=\"https://udemy-images.s3.amazonaws.com:443/redactor/raw/create_lab_editor/2023-11-03_13-04-35-c8e7ceabf1162440b749a69826aed476.png\" alt=\"\" loading=\"eager\"><button type=\"button\" class=\"ud-btn ud-btn-large ud-btn-link ud-heading-md open-full-size-image--backdrop--20cbM\"><svg aria-label=\"Larger image\" role=\"img\" focusable=\"false\" class=\"ud-icon ud-icon-large ud-icon-color-neutral\"><use xlink:href=\"#icon-search\"></use></svg></button></div></span></figure></li><li><p>Use TF-IDF Vectorizer to transform cleaned sentences into numerical vectors.</p><div class=\"ud-component--base-components--code-block\"><div><pre class=\"prettyprint linenums prettyprinted\" role=\"presentation\" style=\"\"><ol class=\"linenums\"><li class=\"L0\"><span class=\"kwd\">from</span><span class=\"pln\"> sklearn</span><span class=\"pun\">.</span><span class=\"pln\">feature_extraction</span><span class=\"pun\">.</span><span class=\"pln\">text </span><span class=\"kwd\">import</span><span class=\"pln\"> </span><span class=\"typ\">TfidfVectorizer</span></li><li class=\"L1\"><span class=\"pln\">&nbsp;</span></li><li class=\"L2\"><span class=\"com\"># Initialize and apply TF-IDF Vectorizer</span></li><li class=\"L3\"><span class=\"pln\">vectorizer </span><span class=\"pun\">=</span><span class=\"pln\"> </span><span class=\"typ\">TfidfVectorizer</span><span class=\"pun\">()</span></li><li class=\"L4\"><span class=\"pln\">X </span><span class=\"pun\">=</span><span class=\"pln\"> vectorizer</span><span class=\"pun\">.</span><span class=\"pln\">fit_transform</span><span class=\"pun\">(</span><span class=\"pln\">df</span><span class=\"pun\">[</span><span class=\"str\">'Cleaned_Sentence'</span><span class=\"pun\">])</span></li><li class=\"L5\"><span class=\"pln\">X</span></li></ol></pre></div></div><figure><img align=\"middle\" src=\"https://udemy-images.s3.amazonaws.com:443/redactor/raw/create_lab_editor/2023-11-03_13-04-36-7f1ecfe628a81667369063a89119d739.png\" style=\"display: none;\"><span class=\"ud-component--base-components--open-full-size-image\"><div class=\"open-full-size-image--wrapper--2kvh_\" data-purpose=\"open-full-size-image\"><img src=\"https://udemy-images.s3.amazonaws.com:443/redactor/raw/create_lab_editor/2023-11-03_13-04-36-7f1ecfe628a81667369063a89119d739.png\" alt=\"\" loading=\"eager\"><button type=\"button\" class=\"ud-btn ud-btn-large ud-btn-link ud-heading-md open-full-size-image--backdrop--20cbM\"><svg aria-label=\"Larger image\" role=\"img\" focusable=\"false\" class=\"ud-icon ud-icon-large ud-icon-color-neutral\"><use xlink:href=\"#icon-search\"></use></svg></button></div></span></figure></li><li><p>Encode the textual labels to numeric form using the LabelEncoder.</p><div class=\"ud-component--base-components--code-block\"><div><pre class=\"prettyprint linenums prettyprinted\" role=\"presentation\" style=\"\"><ol class=\"linenums\"><li class=\"L0\"><span class=\"kwd\">from</span><span class=\"pln\"> sklearn</span><span class=\"pun\">.</span><span class=\"pln\">preprocessing </span><span class=\"kwd\">import</span><span class=\"pln\"> </span><span class=\"typ\">LabelEncoder</span></li><li class=\"L1\"><span class=\"pln\">&nbsp;</span></li><li class=\"L2\"><span class=\"com\"># Encode labels to integers</span></li><li class=\"L3\"><span class=\"pln\">encoder </span><span class=\"pun\">=</span><span class=\"pln\"> </span><span class=\"typ\">LabelEncoder</span><span class=\"pun\">()</span></li><li class=\"L4\"><span class=\"pln\">y </span><span class=\"pun\">=</span><span class=\"pln\"> encoder</span><span class=\"pun\">.</span><span class=\"pln\">fit_transform</span><span class=\"pun\">(</span><span class=\"pln\">df</span><span class=\"pun\">[</span><span class=\"str\">'Label'</span><span class=\"pun\">])</span></li><li class=\"L5\"><span class=\"pln\">y</span></li></ol></pre></div></div><figure><img align=\"middle\" src=\"https://udemy-images.s3.amazonaws.com:443/redactor/raw/create_lab_editor/2023-11-03_13-04-36-ef1437180aa74f96e059c93c19a80e1f.png\" style=\"display: none;\"><span class=\"ud-component--base-components--open-full-size-image\"><div class=\"open-full-size-image--wrapper--2kvh_\" data-purpose=\"open-full-size-image\"><img src=\"https://udemy-images.s3.amazonaws.com:443/redactor/raw/create_lab_editor/2023-11-03_13-04-36-ef1437180aa74f96e059c93c19a80e1f.png\" alt=\"\" loading=\"eager\"><button type=\"button\" class=\"ud-btn ud-btn-large ud-btn-link ud-heading-md open-full-size-image--backdrop--20cbM\"><svg aria-label=\"Larger image\" role=\"img\" focusable=\"false\" class=\"ud-icon ud-icon-large ud-icon-color-neutral\"><use xlink:href=\"#icon-search\"></use></svg></button></div></span></figure></li><li><p>Split your data into a training set and a testing set with an 80-20 split.</p><div class=\"ud-component--base-components--code-block\"><div><pre class=\"prettyprint linenums prettyprinted\" role=\"presentation\" style=\"\"><ol class=\"linenums\"><li class=\"L0\"><span class=\"kwd\">from</span><span class=\"pln\"> sklearn</span><span class=\"pun\">.</span><span class=\"pln\">model_selection </span><span class=\"kwd\">import</span><span class=\"pln\"> train_test_split</span></li><li class=\"L1\"><span class=\"pln\">&nbsp;</span></li><li class=\"L2\"><span class=\"com\"># Split the dataset into training and test sets</span></li><li class=\"L3\"><span class=\"pln\">X_train</span><span class=\"pun\">,</span><span class=\"pln\"> X_test</span><span class=\"pun\">,</span><span class=\"pln\"> y_train</span><span class=\"pun\">,</span><span class=\"pln\"> y_test </span><span class=\"pun\">=</span><span class=\"pln\"> train_test_split</span><span class=\"pun\">(</span><span class=\"pln\">X</span><span class=\"pun\">,</span><span class=\"pln\"> </span></li><li class=\"L4\"><span class=\"pln\">                                                    y</span><span class=\"pun\">,</span><span class=\"pln\"> </span></li><li class=\"L5\"><span class=\"pln\">                                                    test_size</span><span class=\"pun\">=</span><span class=\"lit\">0.2</span><span class=\"pun\">,</span><span class=\"pln\"> </span></li><li class=\"L6\"><span class=\"pln\">                                                    random_state</span><span class=\"pun\">=</span><span class=\"lit\">1502</span><span class=\"pun\">)</span></li><li class=\"L7\"><span class=\"pln\">X_train</span></li></ol></pre></div></div><figure><img align=\"middle\" src=\"https://udemy-images.s3.amazonaws.com:443/redactor/raw/create_lab_editor/2023-11-03_13-04-36-183c4f4d363f908d5c4ec07b971be538.png\" style=\"display: none;\"><span class=\"ud-component--base-components--open-full-size-image\"><div class=\"open-full-size-image--wrapper--2kvh_\" data-purpose=\"open-full-size-image\"><img src=\"https://udemy-images.s3.amazonaws.com:443/redactor/raw/create_lab_editor/2023-11-03_13-04-36-183c4f4d363f908d5c4ec07b971be538.png\" alt=\"\" loading=\"eager\"><button type=\"button\" class=\"ud-btn ud-btn-large ud-btn-link ud-heading-md open-full-size-image--backdrop--20cbM\"><svg aria-label=\"Larger image\" role=\"img\" focusable=\"false\" class=\"ud-icon ud-icon-large ud-icon-color-neutral\"><use xlink:href=\"#icon-search\"></use></svg></button></div></span></figure></li><li><p>Convert the sparse matrix from vectorization into a dense matrix for model compatibility.</p><div class=\"ud-component--base-components--code-block\"><div><pre class=\"prettyprint linenums prettyprinted\" role=\"presentation\" style=\"\"><ol class=\"linenums\"><li class=\"L0\"><span class=\"com\"># Convert sparse matrices to dense for the model input</span></li><li class=\"L1\"><span class=\"pln\">X_train_dense </span><span class=\"pun\">=</span><span class=\"pln\"> X_train</span><span class=\"pun\">.</span><span class=\"pln\">todense</span><span class=\"pun\">()</span></li><li class=\"L2\"><span class=\"pln\">X_test_dense </span><span class=\"pun\">=</span><span class=\"pln\"> X_test</span><span class=\"pun\">.</span><span class=\"pln\">todense</span><span class=\"pun\">()</span></li><li class=\"L3\"><span class=\"pln\">X_train_dense</span></li></ol></pre></div></div><figure><img align=\"middle\" src=\"https://udemy-images.s3.amazonaws.com:443/redactor/raw/create_lab_editor/2023-11-03_13-04-36-7662a81b05563a813efc88b8fffdd419.png\" style=\"display: none;\"><span class=\"ud-component--base-components--open-full-size-image\"><div class=\"open-full-size-image--wrapper--2kvh_\" data-purpose=\"open-full-size-image\"><img src=\"https://udemy-images.s3.amazonaws.com:443/redactor/raw/create_lab_editor/2023-11-03_13-04-36-7662a81b05563a813efc88b8fffdd419.png\" alt=\"\" loading=\"eager\"><button type=\"button\" class=\"ud-btn ud-btn-large ud-btn-link ud-heading-md open-full-size-image--backdrop--20cbM\"><svg aria-label=\"Larger image\" role=\"img\" focusable=\"false\" class=\"ud-icon ud-icon-large ud-icon-color-neutral\"><use xlink:href=\"#icon-search\"></use></svg></button></div></span></figure></li></ol></div>"
      ]
    },
    {
      "cell_type": "code",
      "execution_count": 31,
      "id": "7b06f65b-e499-4f52-a450-3db5468d2055",
      "metadata": {
        "id": "7b06f65b-e499-4f52-a450-3db5468d2055"
      },
      "outputs": [],
      "source": []
    },
    {
      "cell_type": "code",
      "execution_count": 32,
      "id": "851be2c9-f40f-48eb-b1f5-fc6466ec3792",
      "metadata": {
        "id": "851be2c9-f40f-48eb-b1f5-fc6466ec3792"
      },
      "outputs": [],
      "source": [
        "# Start by defining a function to clean the text data, aiming to standardize it for analysis.\n",
        "import re\n",
        "\n",
        "# Function to clean text data\n",
        "def clean_text(text):\n",
        "    text = re.sub(r\"[^\\w\\s]\", '', text)  # Remove punctuation\n",
        "    text = text.lower()  # Convert to lowercase\n",
        "    text = re.sub(r\"\\s+\", ' ', text)  # Collapse multiple spaces to one\n",
        "    return text.strip()  # Remove leading and trailing spaces"
      ]
    },
    {
      "cell_type": "code",
      "execution_count": 33,
      "id": "39e6fae5-6778-494e-837c-a42761c7b9b3",
      "metadata": {
        "id": "39e6fae5-6778-494e-837c-a42761c7b9b3",
        "outputId": "3801c6b0-8b2f-4f0d-f9f9-12dddab469e3",
        "colab": {
          "base_uri": "https://localhost:8080/"
        }
      },
      "outputs": [
        {
          "output_type": "execute_result",
          "data": {
            "text/plain": [
              "0    According to Gran , the company has no plans t...\n",
              "1    With the new production plant the company woul...\n",
              "2    For the last quarter of 2010 , Componenta 's n...\n",
              "3    In the third quarter of 2010 , net sales incre...\n",
              "4    Operating profit rose to EUR 13.1 mn from EUR ...\n",
              "Name: Sentence, dtype: object"
            ]
          },
          "metadata": {},
          "execution_count": 33
        }
      ],
      "source": [
        "df['Sentence'].head()"
      ]
    },
    {
      "cell_type": "code",
      "execution_count": 34,
      "id": "fe6305f2-964d-486f-9d35-b886709ed5ad",
      "metadata": {
        "id": "fe6305f2-964d-486f-9d35-b886709ed5ad",
        "outputId": "fa4ef92d-1971-497a-c53d-527b4c789a01",
        "colab": {
          "base_uri": "https://localhost:8080/",
          "height": 206
        }
      },
      "outputs": [
        {
          "output_type": "execute_result",
          "data": {
            "text/plain": [
              "                                            Sentence     Label  \\\n",
              "0  According to Gran , the company has no plans t...   neutral   \n",
              "1  With the new production plant the company woul...  positive   \n",
              "2  For the last quarter of 2010 , Componenta 's n...  positive   \n",
              "3  In the third quarter of 2010 , net sales incre...  positive   \n",
              "4  Operating profit rose to EUR 13.1 mn from EUR ...  positive   \n",
              "\n",
              "                                    Cleaned_Sentence  \n",
              "0  according to gran the company has no plans to ...  \n",
              "1  with the new production plant the company woul...  \n",
              "2  for the last quarter of 2010 componenta s net ...  \n",
              "3  in the third quarter of 2010 net sales increas...  \n",
              "4  operating profit rose to eur 131 mn from eur 8...  "
            ],
            "text/html": [
              "\n",
              "  <div id=\"df-64eb0898-c5fc-4f8f-88d9-7d76a34a4836\" class=\"colab-df-container\">\n",
              "    <div>\n",
              "<style scoped>\n",
              "    .dataframe tbody tr th:only-of-type {\n",
              "        vertical-align: middle;\n",
              "    }\n",
              "\n",
              "    .dataframe tbody tr th {\n",
              "        vertical-align: top;\n",
              "    }\n",
              "\n",
              "    .dataframe thead th {\n",
              "        text-align: right;\n",
              "    }\n",
              "</style>\n",
              "<table border=\"1\" class=\"dataframe\">\n",
              "  <thead>\n",
              "    <tr style=\"text-align: right;\">\n",
              "      <th></th>\n",
              "      <th>Sentence</th>\n",
              "      <th>Label</th>\n",
              "      <th>Cleaned_Sentence</th>\n",
              "    </tr>\n",
              "  </thead>\n",
              "  <tbody>\n",
              "    <tr>\n",
              "      <th>0</th>\n",
              "      <td>According to Gran , the company has no plans t...</td>\n",
              "      <td>neutral</td>\n",
              "      <td>according to gran the company has no plans to ...</td>\n",
              "    </tr>\n",
              "    <tr>\n",
              "      <th>1</th>\n",
              "      <td>With the new production plant the company woul...</td>\n",
              "      <td>positive</td>\n",
              "      <td>with the new production plant the company woul...</td>\n",
              "    </tr>\n",
              "    <tr>\n",
              "      <th>2</th>\n",
              "      <td>For the last quarter of 2010 , Componenta 's n...</td>\n",
              "      <td>positive</td>\n",
              "      <td>for the last quarter of 2010 componenta s net ...</td>\n",
              "    </tr>\n",
              "    <tr>\n",
              "      <th>3</th>\n",
              "      <td>In the third quarter of 2010 , net sales incre...</td>\n",
              "      <td>positive</td>\n",
              "      <td>in the third quarter of 2010 net sales increas...</td>\n",
              "    </tr>\n",
              "    <tr>\n",
              "      <th>4</th>\n",
              "      <td>Operating profit rose to EUR 13.1 mn from EUR ...</td>\n",
              "      <td>positive</td>\n",
              "      <td>operating profit rose to eur 131 mn from eur 8...</td>\n",
              "    </tr>\n",
              "  </tbody>\n",
              "</table>\n",
              "</div>\n",
              "    <div class=\"colab-df-buttons\">\n",
              "\n",
              "  <div class=\"colab-df-container\">\n",
              "    <button class=\"colab-df-convert\" onclick=\"convertToInteractive('df-64eb0898-c5fc-4f8f-88d9-7d76a34a4836')\"\n",
              "            title=\"Convert this dataframe to an interactive table.\"\n",
              "            style=\"display:none;\">\n",
              "\n",
              "  <svg xmlns=\"http://www.w3.org/2000/svg\" height=\"24px\" viewBox=\"0 -960 960 960\">\n",
              "    <path d=\"M120-120v-720h720v720H120Zm60-500h600v-160H180v160Zm220 220h160v-160H400v160Zm0 220h160v-160H400v160ZM180-400h160v-160H180v160Zm440 0h160v-160H620v160ZM180-180h160v-160H180v160Zm440 0h160v-160H620v160Z\"/>\n",
              "  </svg>\n",
              "    </button>\n",
              "\n",
              "  <style>\n",
              "    .colab-df-container {\n",
              "      display:flex;\n",
              "      gap: 12px;\n",
              "    }\n",
              "\n",
              "    .colab-df-convert {\n",
              "      background-color: #E8F0FE;\n",
              "      border: none;\n",
              "      border-radius: 50%;\n",
              "      cursor: pointer;\n",
              "      display: none;\n",
              "      fill: #1967D2;\n",
              "      height: 32px;\n",
              "      padding: 0 0 0 0;\n",
              "      width: 32px;\n",
              "    }\n",
              "\n",
              "    .colab-df-convert:hover {\n",
              "      background-color: #E2EBFA;\n",
              "      box-shadow: 0px 1px 2px rgba(60, 64, 67, 0.3), 0px 1px 3px 1px rgba(60, 64, 67, 0.15);\n",
              "      fill: #174EA6;\n",
              "    }\n",
              "\n",
              "    .colab-df-buttons div {\n",
              "      margin-bottom: 4px;\n",
              "    }\n",
              "\n",
              "    [theme=dark] .colab-df-convert {\n",
              "      background-color: #3B4455;\n",
              "      fill: #D2E3FC;\n",
              "    }\n",
              "\n",
              "    [theme=dark] .colab-df-convert:hover {\n",
              "      background-color: #434B5C;\n",
              "      box-shadow: 0px 1px 3px 1px rgba(0, 0, 0, 0.15);\n",
              "      filter: drop-shadow(0px 1px 2px rgba(0, 0, 0, 0.3));\n",
              "      fill: #FFFFFF;\n",
              "    }\n",
              "  </style>\n",
              "\n",
              "    <script>\n",
              "      const buttonEl =\n",
              "        document.querySelector('#df-64eb0898-c5fc-4f8f-88d9-7d76a34a4836 button.colab-df-convert');\n",
              "      buttonEl.style.display =\n",
              "        google.colab.kernel.accessAllowed ? 'block' : 'none';\n",
              "\n",
              "      async function convertToInteractive(key) {\n",
              "        const element = document.querySelector('#df-64eb0898-c5fc-4f8f-88d9-7d76a34a4836');\n",
              "        const dataTable =\n",
              "          await google.colab.kernel.invokeFunction('convertToInteractive',\n",
              "                                                    [key], {});\n",
              "        if (!dataTable) return;\n",
              "\n",
              "        const docLinkHtml = 'Like what you see? Visit the ' +\n",
              "          '<a target=\"_blank\" href=https://colab.research.google.com/notebooks/data_table.ipynb>data table notebook</a>'\n",
              "          + ' to learn more about interactive tables.';\n",
              "        element.innerHTML = '';\n",
              "        dataTable['output_type'] = 'display_data';\n",
              "        await google.colab.output.renderOutput(dataTable, element);\n",
              "        const docLink = document.createElement('div');\n",
              "        docLink.innerHTML = docLinkHtml;\n",
              "        element.appendChild(docLink);\n",
              "      }\n",
              "    </script>\n",
              "  </div>\n",
              "\n",
              "\n",
              "<div id=\"df-2c1aad2d-8f7d-473d-9454-3cb7fed8e1b1\">\n",
              "  <button class=\"colab-df-quickchart\" onclick=\"quickchart('df-2c1aad2d-8f7d-473d-9454-3cb7fed8e1b1')\"\n",
              "            title=\"Suggest charts\"\n",
              "            style=\"display:none;\">\n",
              "\n",
              "<svg xmlns=\"http://www.w3.org/2000/svg\" height=\"24px\"viewBox=\"0 0 24 24\"\n",
              "     width=\"24px\">\n",
              "    <g>\n",
              "        <path d=\"M19 3H5c-1.1 0-2 .9-2 2v14c0 1.1.9 2 2 2h14c1.1 0 2-.9 2-2V5c0-1.1-.9-2-2-2zM9 17H7v-7h2v7zm4 0h-2V7h2v10zm4 0h-2v-4h2v4z\"/>\n",
              "    </g>\n",
              "</svg>\n",
              "  </button>\n",
              "\n",
              "<style>\n",
              "  .colab-df-quickchart {\n",
              "      --bg-color: #E8F0FE;\n",
              "      --fill-color: #1967D2;\n",
              "      --hover-bg-color: #E2EBFA;\n",
              "      --hover-fill-color: #174EA6;\n",
              "      --disabled-fill-color: #AAA;\n",
              "      --disabled-bg-color: #DDD;\n",
              "  }\n",
              "\n",
              "  [theme=dark] .colab-df-quickchart {\n",
              "      --bg-color: #3B4455;\n",
              "      --fill-color: #D2E3FC;\n",
              "      --hover-bg-color: #434B5C;\n",
              "      --hover-fill-color: #FFFFFF;\n",
              "      --disabled-bg-color: #3B4455;\n",
              "      --disabled-fill-color: #666;\n",
              "  }\n",
              "\n",
              "  .colab-df-quickchart {\n",
              "    background-color: var(--bg-color);\n",
              "    border: none;\n",
              "    border-radius: 50%;\n",
              "    cursor: pointer;\n",
              "    display: none;\n",
              "    fill: var(--fill-color);\n",
              "    height: 32px;\n",
              "    padding: 0;\n",
              "    width: 32px;\n",
              "  }\n",
              "\n",
              "  .colab-df-quickchart:hover {\n",
              "    background-color: var(--hover-bg-color);\n",
              "    box-shadow: 0 1px 2px rgba(60, 64, 67, 0.3), 0 1px 3px 1px rgba(60, 64, 67, 0.15);\n",
              "    fill: var(--button-hover-fill-color);\n",
              "  }\n",
              "\n",
              "  .colab-df-quickchart-complete:disabled,\n",
              "  .colab-df-quickchart-complete:disabled:hover {\n",
              "    background-color: var(--disabled-bg-color);\n",
              "    fill: var(--disabled-fill-color);\n",
              "    box-shadow: none;\n",
              "  }\n",
              "\n",
              "  .colab-df-spinner {\n",
              "    border: 2px solid var(--fill-color);\n",
              "    border-color: transparent;\n",
              "    border-bottom-color: var(--fill-color);\n",
              "    animation:\n",
              "      spin 1s steps(1) infinite;\n",
              "  }\n",
              "\n",
              "  @keyframes spin {\n",
              "    0% {\n",
              "      border-color: transparent;\n",
              "      border-bottom-color: var(--fill-color);\n",
              "      border-left-color: var(--fill-color);\n",
              "    }\n",
              "    20% {\n",
              "      border-color: transparent;\n",
              "      border-left-color: var(--fill-color);\n",
              "      border-top-color: var(--fill-color);\n",
              "    }\n",
              "    30% {\n",
              "      border-color: transparent;\n",
              "      border-left-color: var(--fill-color);\n",
              "      border-top-color: var(--fill-color);\n",
              "      border-right-color: var(--fill-color);\n",
              "    }\n",
              "    40% {\n",
              "      border-color: transparent;\n",
              "      border-right-color: var(--fill-color);\n",
              "      border-top-color: var(--fill-color);\n",
              "    }\n",
              "    60% {\n",
              "      border-color: transparent;\n",
              "      border-right-color: var(--fill-color);\n",
              "    }\n",
              "    80% {\n",
              "      border-color: transparent;\n",
              "      border-right-color: var(--fill-color);\n",
              "      border-bottom-color: var(--fill-color);\n",
              "    }\n",
              "    90% {\n",
              "      border-color: transparent;\n",
              "      border-bottom-color: var(--fill-color);\n",
              "    }\n",
              "  }\n",
              "</style>\n",
              "\n",
              "  <script>\n",
              "    async function quickchart(key) {\n",
              "      const quickchartButtonEl =\n",
              "        document.querySelector('#' + key + ' button');\n",
              "      quickchartButtonEl.disabled = true;  // To prevent multiple clicks.\n",
              "      quickchartButtonEl.classList.add('colab-df-spinner');\n",
              "      try {\n",
              "        const charts = await google.colab.kernel.invokeFunction(\n",
              "            'suggestCharts', [key], {});\n",
              "      } catch (error) {\n",
              "        console.error('Error during call to suggestCharts:', error);\n",
              "      }\n",
              "      quickchartButtonEl.classList.remove('colab-df-spinner');\n",
              "      quickchartButtonEl.classList.add('colab-df-quickchart-complete');\n",
              "    }\n",
              "    (() => {\n",
              "      let quickchartButtonEl =\n",
              "        document.querySelector('#df-2c1aad2d-8f7d-473d-9454-3cb7fed8e1b1 button');\n",
              "      quickchartButtonEl.style.display =\n",
              "        google.colab.kernel.accessAllowed ? 'block' : 'none';\n",
              "    })();\n",
              "  </script>\n",
              "</div>\n",
              "\n",
              "    </div>\n",
              "  </div>\n"
            ]
          },
          "metadata": {},
          "execution_count": 34
        }
      ],
      "source": [
        "# Apply the text cleaning function to each sentence in your DataFrame.\n",
        "# Clean sentences in the DataFrame\n",
        "df['Cleaned_Sentence'] = df['Sentence'].apply(clean_text)\n",
        "df.head()"
      ]
    },
    {
      "cell_type": "code",
      "execution_count": 35,
      "id": "d5198146-b35a-46b0-82e9-2892ed35871d",
      "metadata": {
        "id": "d5198146-b35a-46b0-82e9-2892ed35871d",
        "outputId": "54d7335b-b1aa-49ed-958d-dd5506ecd0a8",
        "colab": {
          "base_uri": "https://localhost:8080/"
        }
      },
      "outputs": [
        {
          "output_type": "execute_result",
          "data": {
            "text/plain": [
              "<1492x5543 sparse matrix of type '<class 'numpy.float64'>'\n",
              "\twith 27277 stored elements in Compressed Sparse Row format>"
            ]
          },
          "metadata": {},
          "execution_count": 35
        }
      ],
      "source": [
        "# Use TF-IDF Vectorizer to transform cleaned sentences into numerical vectors.\n",
        "from sklearn.feature_extraction.text import TfidfVectorizer\n",
        "\n",
        "# Initialize and apply TF-IDF Vectorizer\n",
        "vectorizer = TfidfVectorizer()\n",
        "X = vectorizer.fit_transform(df['Cleaned_Sentence'])\n",
        "X"
      ]
    },
    {
      "cell_type": "code",
      "execution_count": 36,
      "id": "5009dede-a245-4189-ba96-5dd0b479cf0b",
      "metadata": {
        "id": "5009dede-a245-4189-ba96-5dd0b479cf0b",
        "outputId": "53bbe56b-6b9e-48b3-8c56-7c33458bdb7c",
        "colab": {
          "base_uri": "https://localhost:8080/"
        }
      },
      "outputs": [
        {
          "output_type": "execute_result",
          "data": {
            "text/plain": [
              "array([1, 2, 2, ..., 2, 2, 2])"
            ]
          },
          "metadata": {},
          "execution_count": 36
        }
      ],
      "source": [
        "# Encode the textual labels to numeric form using the LabelEncoder.\n",
        "from sklearn.preprocessing import LabelEncoder\n",
        "\n",
        "# Encode labels to integers\n",
        "encoder = LabelEncoder()\n",
        "y = encoder.fit_transform(df['Label'])\n",
        "y"
      ]
    },
    {
      "cell_type": "code",
      "execution_count": 37,
      "id": "2cc579eb-c01d-4511-9814-17c147620a64",
      "metadata": {
        "id": "2cc579eb-c01d-4511-9814-17c147620a64",
        "outputId": "70a46f44-d3f4-4476-c786-56a46e2f06e3",
        "colab": {
          "base_uri": "https://localhost:8080/"
        }
      },
      "outputs": [
        {
          "output_type": "execute_result",
          "data": {
            "text/plain": [
              "<1193x5543 sparse matrix of type '<class 'numpy.float64'>'\n",
              "\twith 21874 stored elements in Compressed Sparse Row format>"
            ]
          },
          "metadata": {},
          "execution_count": 37
        }
      ],
      "source": [
        "# Split your data into a training set and a testing set with an 80-20 split.\n",
        "from sklearn.model_selection import train_test_split\n",
        "\n",
        "# Split the dataset into training and test sets\n",
        "X_train, X_test, y_train, y_test = train_test_split(X,\n",
        "                                                    y,\n",
        "                                                    test_size=0.2,\n",
        "                                                    random_state=1502)\n",
        "X_train"
      ]
    },
    {
      "cell_type": "code",
      "execution_count": 38,
      "id": "a62cbef0-ca95-4975-a066-8b9802f7c59c",
      "metadata": {
        "id": "a62cbef0-ca95-4975-a066-8b9802f7c59c",
        "outputId": "a0f9a2aa-6527-4367-e36c-964579f29a62",
        "colab": {
          "base_uri": "https://localhost:8080/"
        }
      },
      "outputs": [
        {
          "output_type": "execute_result",
          "data": {
            "text/plain": [
              "matrix([[0., 0., 0., ..., 0., 0., 0.],\n",
              "        [0., 0., 0., ..., 0., 0., 0.],\n",
              "        [0., 0., 0., ..., 0., 0., 0.],\n",
              "        ...,\n",
              "        [0., 0., 0., ..., 0., 0., 0.],\n",
              "        [0., 0., 0., ..., 0., 0., 0.],\n",
              "        [0., 0., 0., ..., 0., 0., 0.]])"
            ]
          },
          "metadata": {},
          "execution_count": 38
        }
      ],
      "source": [
        "# Convert the sparse matrix from vectorization into a dense matrix for model compatibility.\n",
        "# Convert sparse matrices to dense for the model input\n",
        "X_train_dense = X_train.todense()\n",
        "X_test_dense = X_test.todense()\n",
        "X_train_dense"
      ]
    },
    {
      "cell_type": "code",
      "execution_count": 38,
      "id": "8c78f29c-08c4-4c10-a77f-cb5b9d9a8f66",
      "metadata": {
        "id": "8c78f29c-08c4-4c10-a77f-cb5b9d9a8f66"
      },
      "outputs": [],
      "source": []
    },
    {
      "cell_type": "markdown",
      "id": "2c2724d8-8a9c-4a48-a8c0-b0b60d658c0c",
      "metadata": {
        "id": "2c2724d8-8a9c-4a48-a8c0-b0b60d658c0c"
      },
      "source": [
        "# Task 7: Develop and Visualize a TensorFlow Model for Multi-Class Classification"
      ]
    },
    {
      "cell_type": "markdown",
      "id": "82285e7c-2407-4819-b108-411cbc8b4a5e",
      "metadata": {
        "id": "82285e7c-2407-4819-b108-411cbc8b4a5e"
      },
      "source": [
        "<div data-purpose=\"safely-set-inner-html:rich-text-viewer:html\" class=\"lab-rich-text-viewer--lab-html-content--22XsM rt-scaffolding\"><p>In this task, you will build a multi-class classification neural network model using TensorFlow and visualize its performance. You are expected to construct a Sequential model with parameters such as the number of neurons, activation functions, and output units aligned with the dataset's characteristics. You will then compile, train, and evaluate the model, followed by plotting the accuracy and loss for both training and validation data.</p><p>The specific parameters and steps for this task include:</p><ul><li><p>Construct a<strong> Sequential model </strong>with the following layers:</p></li></ul><ol><li><p>Dense layer with 64 neurons and ReLU activation.</p></li><li><p>Dropout layer with a 50% drop rate.</p></li><li><p>Dense output layer with 3 neurons (one for each class: Positive, Neutral, Negative) using the softmax activation function.</p></li></ol><ul><li><p>Compile the model using the Adam optimizer, sparse categorical cross-entropy loss, and accuracy as the metric.</p></li><li><p>Summarize the model architecture using the <code><strong>model.summary()</strong></code> method.</p></li><li><p>Train the model for 10 epochs with a batch size of 32, including validation data.</p></li><li><p>Evaluate the model's performance on the test data and print out the loss and accuracy.</p></li><li><p>Plot the training and validation accuracy, as well as the loss over epochs.</p><p><br></p></li></ul></div>\n",
        "\n",
        "<div data-purpose=\"safely-set-inner-html:rich-text-viewer:html\" class=\"lab-rich-text-viewer--lab-html-content--22XsM rt-scaffolding\"><ol><li><p>Initialize the TensorFlow Sequential model:</p><div class=\"ud-component--base-components--code-block\"><div><pre class=\"prettyprint linenums prettyprinted\" role=\"presentation\" style=\"\"><ol class=\"linenums\"><li class=\"L0\"><span class=\"com\"># Import TensorFlow</span></li><li class=\"L1\"><span class=\"kwd\">import</span><span class=\"pln\"> tensorflow </span><span class=\"kwd\">as</span><span class=\"pln\"> tf</span></li><li class=\"L2\"><span class=\"pln\">&nbsp;</span></li><li class=\"L3\"><span class=\"com\"># Define the Sequential model with specified layers</span></li><li class=\"L4\"><span class=\"pln\">model </span><span class=\"pun\">=</span><span class=\"pln\"> tf</span><span class=\"pun\">.</span><span class=\"pln\">keras</span><span class=\"pun\">.</span><span class=\"typ\">Sequential</span><span class=\"pun\">([</span></li><li class=\"L5\"><span class=\"pln\">    tf</span><span class=\"pun\">.</span><span class=\"pln\">keras</span><span class=\"pun\">.</span><span class=\"pln\">layers</span><span class=\"pun\">.</span><span class=\"typ\">Dense</span><span class=\"pun\">(</span><span class=\"lit\">64</span><span class=\"pun\">,</span><span class=\"pln\"> activation</span><span class=\"pun\">=</span><span class=\"str\">'relu'</span><span class=\"pun\">,</span><span class=\"pln\"> input_shape</span><span class=\"pun\">=(</span><span class=\"pln\">X_train</span><span class=\"pun\">.</span><span class=\"pln\">shape</span><span class=\"pun\">[</span><span class=\"lit\">1</span><span class=\"pun\">],)),</span><span class=\"pln\">  </span><span class=\"com\"># 64-neuron layer</span></li><li class=\"L6\"><span class=\"pln\">    tf</span><span class=\"pun\">.</span><span class=\"pln\">keras</span><span class=\"pun\">.</span><span class=\"pln\">layers</span><span class=\"pun\">.</span><span class=\"typ\">Dropout</span><span class=\"pun\">(</span><span class=\"lit\">0.5</span><span class=\"pun\">),</span><span class=\"pln\">  </span><span class=\"com\"># Dropout for regularization</span></li><li class=\"L7\"><span class=\"pln\">    tf</span><span class=\"pun\">.</span><span class=\"pln\">keras</span><span class=\"pun\">.</span><span class=\"pln\">layers</span><span class=\"pun\">.</span><span class=\"typ\">Dense</span><span class=\"pun\">(</span><span class=\"lit\">3</span><span class=\"pun\">,</span><span class=\"pln\"> activation</span><span class=\"pun\">=</span><span class=\"str\">'softmax'</span><span class=\"pun\">)</span><span class=\"pln\">  </span><span class=\"com\"># Output layer for 3 classes</span></li><li class=\"L8\"><span class=\"pun\">])</span></li></ol></pre></div></div><figure><img align=\"middle\" src=\"https://udemy-images.s3.amazonaws.com:443/redactor/raw/create_lab_editor/2023-11-03_13-23-54-ae23a2abbd08c2f25ccc5dbd111f2762.png\" style=\"display: none;\"><span class=\"ud-component--base-components--open-full-size-image\"><div class=\"open-full-size-image--wrapper--2kvh_\" data-purpose=\"open-full-size-image\"><img src=\"https://udemy-images.s3.amazonaws.com:443/redactor/raw/create_lab_editor/2023-11-03_13-23-54-ae23a2abbd08c2f25ccc5dbd111f2762.png\" alt=\"\" loading=\"eager\"><button type=\"button\" class=\"ud-btn ud-btn-large ud-btn-link ud-heading-md open-full-size-image--backdrop--20cbM\"><svg aria-label=\"Larger image\" role=\"img\" focusable=\"false\" class=\"ud-icon ud-icon-large ud-icon-color-neutral\"><use xlink:href=\"#icon-search\"></use></svg></button></div></span></figure></li><li><p>Compile the Sequential model:</p><div class=\"ud-component--base-components--code-block\"><div><pre class=\"prettyprint linenums prettyprinted\" role=\"presentation\" style=\"\"><ol class=\"linenums\"><li class=\"L0\"><span class=\"com\"># Compile the model with an optimizer, loss function, and evaluation metric</span></li><li class=\"L1\"><span class=\"pln\">model</span><span class=\"pun\">.</span><span class=\"pln\">compile</span><span class=\"pun\">(</span><span class=\"pln\">optimizer</span><span class=\"pun\">=</span><span class=\"str\">'adam'</span><span class=\"pun\">,</span></li><li class=\"L2\"><span class=\"pln\">              loss</span><span class=\"pun\">=</span><span class=\"str\">'sparse_categorical_crossentropy'</span><span class=\"pun\">,</span></li><li class=\"L3\"><span class=\"pln\">              metrics</span><span class=\"pun\">=[</span><span class=\"str\">'accuracy'</span><span class=\"pun\">])</span></li></ol></pre></div></div><p><br></p></li><li><p>Display the model's architecture:</p><div class=\"ud-component--base-components--code-block\"><div><pre class=\"prettyprint linenums prettyprinted\" role=\"presentation\" style=\"\"><ol class=\"linenums\"><li class=\"L0\"><span class=\"com\"># Output the model summary to understand its structure</span></li><li class=\"L1\"><span class=\"pln\">model</span><span class=\"pun\">.</span><span class=\"pln\">summary</span><span class=\"pun\">()</span></li></ol></pre></div></div><figure><img align=\"middle\" src=\"https://udemy-images.s3.amazonaws.com:443/redactor/raw/create_lab_editor/2023-11-03_13-23-54-4d21fe0b5253884e81f449059483eb2e.png\" style=\"display: none;\"><span class=\"ud-component--base-components--open-full-size-image\"><div class=\"open-full-size-image--wrapper--2kvh_\" data-purpose=\"open-full-size-image\"><img src=\"https://udemy-images.s3.amazonaws.com:443/redactor/raw/create_lab_editor/2023-11-03_13-23-54-4d21fe0b5253884e81f449059483eb2e.png\" alt=\"\" loading=\"eager\"><button type=\"button\" class=\"ud-btn ud-btn-large ud-btn-link ud-heading-md open-full-size-image--backdrop--20cbM\"><svg aria-label=\"Larger image\" role=\"img\" focusable=\"false\" class=\"ud-icon ud-icon-large ud-icon-color-neutral\"><use xlink:href=\"#icon-search\"></use></svg></button></div></span></figure></li><li><p>Train the model with the dataset:</p><div class=\"ud-component--base-components--code-block\"><div><pre class=\"prettyprint linenums prettyprinted\" role=\"presentation\" style=\"\"><ol class=\"linenums\"><li class=\"L0\"><span class=\"com\"># Fit the model to the training data, validating against the test data</span></li><li class=\"L1\"><span class=\"pln\">history </span><span class=\"pun\">=</span><span class=\"pln\"> model</span><span class=\"pun\">.</span><span class=\"pln\">fit</span><span class=\"pun\">(</span><span class=\"pln\">X_train_dense</span><span class=\"pun\">,</span><span class=\"pln\"> y_train</span><span class=\"pun\">,</span></li><li class=\"L2\"><span class=\"pln\">                    epochs</span><span class=\"pun\">=</span><span class=\"lit\">10</span><span class=\"pun\">,</span></li><li class=\"L3\"><span class=\"pln\">                    batch_size</span><span class=\"pun\">=</span><span class=\"lit\">32</span><span class=\"pun\">,</span></li><li class=\"L4\"><span class=\"pln\">                    validation_data</span><span class=\"pun\">=(</span><span class=\"pln\">X_test_dense</span><span class=\"pun\">,</span><span class=\"pln\"> y_test</span><span class=\"pun\">))</span></li></ol></pre></div></div><figure><img align=\"middle\" src=\"https://udemy-images.s3.amazonaws.com:443/redactor/raw/create_lab_editor/2023-11-03_13-23-54-a2bf97d36436a7fcd34643a18afa623a.png\" style=\"display: none;\"><span class=\"ud-component--base-components--open-full-size-image\"><div class=\"open-full-size-image--wrapper--2kvh_\" data-purpose=\"open-full-size-image\"><img src=\"https://udemy-images.s3.amazonaws.com:443/redactor/raw/create_lab_editor/2023-11-03_13-23-54-a2bf97d36436a7fcd34643a18afa623a.png\" alt=\"\" loading=\"eager\"><button type=\"button\" class=\"ud-btn ud-btn-large ud-btn-link ud-heading-md open-full-size-image--backdrop--20cbM\"><svg aria-label=\"Larger image\" role=\"img\" focusable=\"false\" class=\"ud-icon ud-icon-large ud-icon-color-neutral\"><use xlink:href=\"#icon-search\"></use></svg></button></div></span></figure></li><li><p>Evaluate the trained model's performance:</p><div class=\"ud-component--base-components--code-block\"><div><pre class=\"prettyprint linenums prettyprinted\" role=\"presentation\" style=\"\"><ol class=\"linenums\"><li class=\"L0\"><span class=\"com\"># Evaluate the model on test dataset</span></li><li class=\"L1\"><span class=\"pln\">loss</span><span class=\"pun\">,</span><span class=\"pln\"> accuracy </span><span class=\"pun\">=</span><span class=\"pln\"> model</span><span class=\"pun\">.</span><span class=\"pln\">evaluate</span><span class=\"pun\">(</span><span class=\"pln\">X_test_dense</span><span class=\"pun\">,</span><span class=\"pln\"> y_test</span><span class=\"pun\">)</span></li><li class=\"L2\"><span class=\"com\"># Print loss and accuracy</span></li><li class=\"L3\"><span class=\"kwd\">print</span><span class=\"pun\">(</span><span class=\"pln\">f</span><span class=\"str\">'Loss: {loss}'</span><span class=\"pun\">)</span></li><li class=\"L4\"><span class=\"kwd\">print</span><span class=\"pun\">(</span><span class=\"pln\">f</span><span class=\"str\">'Accuracy: {accuracy}'</span><span class=\"pun\">)</span></li></ol></pre></div></div><figure><img align=\"middle\" src=\"https://udemy-images.s3.amazonaws.com:443/redactor/raw/create_lab_editor/2023-11-03_13-23-55-be2f54d42481851102f9017bdd0a47ce.png\" style=\"display: none;\"><span class=\"ud-component--base-components--open-full-size-image\"><div class=\"open-full-size-image--wrapper--2kvh_\" data-purpose=\"open-full-size-image\"><img src=\"https://udemy-images.s3.amazonaws.com:443/redactor/raw/create_lab_editor/2023-11-03_13-23-55-be2f54d42481851102f9017bdd0a47ce.png\" alt=\"\" loading=\"eager\"><button type=\"button\" class=\"ud-btn ud-btn-large ud-btn-link ud-heading-md open-full-size-image--backdrop--20cbM\"><svg aria-label=\"Larger image\" role=\"img\" focusable=\"false\" class=\"ud-icon ud-icon-large ud-icon-color-neutral\"><use xlink:href=\"#icon-search\"></use></svg></button></div></span></figure></li><li><p>Visualize the training and validation metrics:</p><div class=\"ud-component--base-components--code-block\"><div><pre class=\"prettyprint linenums prettyprinted\" role=\"presentation\" style=\"\"><ol class=\"linenums\"><li class=\"L0\"><span class=\"com\"># Import matplotlib for plotting</span></li><li class=\"L1\"><span class=\"kwd\">import</span><span class=\"pln\"> matplotlib</span><span class=\"pun\">.</span><span class=\"pln\">pyplot </span><span class=\"kwd\">as</span><span class=\"pln\"> plt</span></li><li class=\"L2\"><span class=\"pln\">&nbsp;</span></li><li class=\"L3\"><span class=\"com\"># Set up the plotting environment</span></li><li class=\"L4\"><span class=\"pln\">plt</span><span class=\"pun\">.</span><span class=\"pln\">figure</span><span class=\"pun\">(</span><span class=\"pln\">figsize</span><span class=\"pun\">=(</span><span class=\"lit\">12</span><span class=\"pun\">,</span><span class=\"lit\">6</span><span class=\"pun\">))</span></li><li class=\"L5\"><span class=\"pln\">&nbsp;</span></li><li class=\"L6\"><span class=\"com\"># Plot accuracy</span></li><li class=\"L7\"><span class=\"pln\">plt</span><span class=\"pun\">.</span><span class=\"pln\">subplot</span><span class=\"pun\">(</span><span class=\"lit\">1</span><span class=\"pun\">,</span><span class=\"lit\">2</span><span class=\"pun\">,</span><span class=\"lit\">1</span><span class=\"pun\">)</span></li><li class=\"L8\"><span class=\"pln\">plt</span><span class=\"pun\">.</span><span class=\"pln\">plot</span><span class=\"pun\">(</span><span class=\"pln\">history</span><span class=\"pun\">.</span><span class=\"pln\">history</span><span class=\"pun\">[</span><span class=\"str\">'accuracy'</span><span class=\"pun\">])</span></li><li class=\"L9\"><span class=\"pln\">plt</span><span class=\"pun\">.</span><span class=\"pln\">plot</span><span class=\"pun\">(</span><span class=\"pln\">history</span><span class=\"pun\">.</span><span class=\"pln\">history</span><span class=\"pun\">[</span><span class=\"str\">'val_accuracy'</span><span class=\"pun\">])</span></li><li class=\"L0\"><span class=\"pln\">plt</span><span class=\"pun\">.</span><span class=\"pln\">title</span><span class=\"pun\">(</span><span class=\"str\">'Model Accuracy'</span><span class=\"pun\">)</span></li><li class=\"L1\"><span class=\"pln\">plt</span><span class=\"pun\">.</span><span class=\"pln\">ylabel</span><span class=\"pun\">(</span><span class=\"str\">'Accuracy'</span><span class=\"pun\">)</span></li><li class=\"L2\"><span class=\"pln\">plt</span><span class=\"pun\">.</span><span class=\"pln\">xlabel</span><span class=\"pun\">(</span><span class=\"str\">'Epoch'</span><span class=\"pun\">)</span></li><li class=\"L3\"><span class=\"pln\">plt</span><span class=\"pun\">.</span><span class=\"pln\">legend</span><span class=\"pun\">([</span><span class=\"str\">'Train'</span><span class=\"pun\">,</span><span class=\"pln\"> </span><span class=\"str\">'Test'</span><span class=\"pun\">],</span><span class=\"pln\"> loc</span><span class=\"pun\">=</span><span class=\"str\">'upper left'</span><span class=\"pun\">)</span></li><li class=\"L4\"><span class=\"pln\">&nbsp;</span></li><li class=\"L5\"><span class=\"com\"># Plot loss</span></li><li class=\"L6\"><span class=\"pln\">plt</span><span class=\"pun\">.</span><span class=\"pln\">subplot</span><span class=\"pun\">(</span><span class=\"lit\">1</span><span class=\"pun\">,</span><span class=\"lit\">2</span><span class=\"pun\">,</span><span class=\"lit\">2</span><span class=\"pun\">)</span></li><li class=\"L7\"><span class=\"pln\">plt</span><span class=\"pun\">.</span><span class=\"pln\">plot</span><span class=\"pun\">(</span><span class=\"pln\">history</span><span class=\"pun\">.</span><span class=\"pln\">history</span><span class=\"pun\">[</span><span class=\"str\">'loss'</span><span class=\"pun\">])</span></li><li class=\"L8\"><span class=\"pln\">plt</span><span class=\"pun\">.</span><span class=\"pln\">plot</span><span class=\"pun\">(</span><span class=\"pln\">history</span><span class=\"pun\">.</span><span class=\"pln\">history</span><span class=\"pun\">[</span><span class=\"str\">'val_loss'</span><span class=\"pun\">])</span></li><li class=\"L9\"><span class=\"pln\">plt</span><span class=\"pun\">.</span><span class=\"pln\">title</span><span class=\"pun\">(</span><span class=\"str\">'Model Loss'</span><span class=\"pun\">)</span></li><li class=\"L0\"><span class=\"pln\">plt</span><span class=\"pun\">.</span><span class=\"pln\">ylabel</span><span class=\"pun\">(</span><span class=\"str\">'Loss'</span><span class=\"pun\">)</span></li><li class=\"L1\"><span class=\"pln\">plt</span><span class=\"pun\">.</span><span class=\"pln\">xlabel</span><span class=\"pun\">(</span><span class=\"str\">'Epoch'</span><span class=\"pun\">)</span></li><li class=\"L2\"><span class=\"pln\">plt</span><span class=\"pun\">.</span><span class=\"pln\">legend</span><span class=\"pun\">([</span><span class=\"str\">'Train'</span><span class=\"pun\">,</span><span class=\"pln\"> </span><span class=\"str\">'Test'</span><span class=\"pun\">],</span><span class=\"pln\"> loc</span><span class=\"pun\">=</span><span class=\"str\">'upper left'</span><span class=\"pun\">)</span></li><li class=\"L3\"><span class=\"pln\">&nbsp;</span></li><li class=\"L4\"><span class=\"com\"># Adjust the layout and display the plots</span></li><li class=\"L5\"><span class=\"pln\">plt</span><span class=\"pun\">.</span><span class=\"pln\">tight_layout</span><span class=\"pun\">()</span></li><li class=\"L6\"><span class=\"pln\">plt</span><span class=\"pun\">.</span><span class=\"pln\">show</span><span class=\"pun\">()</span></li></ol></pre></div></div><figure><img align=\"middle\" src=\"https://udemy-images.s3.amazonaws.com:443/redactor/raw/create_lab_editor/2023-11-03_13-23-55-b5e9a634122d9868d290bce24e7fd728.png\" style=\"display: none;\"><span class=\"ud-component--base-components--open-full-size-image\"><div class=\"open-full-size-image--wrapper--2kvh_\" data-purpose=\"open-full-size-image\"><img src=\"https://udemy-images.s3.amazonaws.com:443/redactor/raw/create_lab_editor/2023-11-03_13-23-55-b5e9a634122d9868d290bce24e7fd728.png\" alt=\"\" loading=\"eager\"><button type=\"button\" class=\"ud-btn ud-btn-large ud-btn-link ud-heading-md open-full-size-image--backdrop--20cbM\"><svg aria-label=\"Larger image\" role=\"img\" focusable=\"false\" class=\"ud-icon ud-icon-large ud-icon-color-neutral\"><use xlink:href=\"#icon-search\"></use></svg></button></div></span></figure></li></ol></div>"
      ]
    },
    {
      "cell_type": "code",
      "execution_count": 39,
      "id": "83206d9d-5d8c-45ca-ae3a-707b2d2f1169",
      "metadata": {
        "id": "83206d9d-5d8c-45ca-ae3a-707b2d2f1169"
      },
      "outputs": [],
      "source": [
        "# Initialize the TensorFlow Sequential model:\n",
        "# Import TensorFlow\n",
        "import tensorflow as tf\n",
        "\n",
        "# Define the Sequential model with specified layers\n",
        "model = tf.keras.Sequential([\n",
        "    tf.keras.layers.Dense(64, activation='relu', input_shape=(X_train.shape[1],)),  # 64-neuron layer\n",
        "    tf.keras.layers.Dropout(0.5),  # Dropout for regularization\n",
        "    tf.keras.layers.Dense(3, activation='softmax')  # Output layer for 3 classes\n",
        "])"
      ]
    },
    {
      "cell_type": "code",
      "execution_count": 40,
      "id": "82ec2a2e-0bee-4ae5-88b9-f9d9272c4667",
      "metadata": {
        "id": "82ec2a2e-0bee-4ae5-88b9-f9d9272c4667"
      },
      "outputs": [],
      "source": [
        "# Compile the Sequential model:\n",
        "# Compile the model with an optimizer, loss function, and evaluation metric\n",
        "model.compile(optimizer='adam',\n",
        "              loss='sparse_categorical_crossentropy',\n",
        "              metrics=['accuracy'])"
      ]
    },
    {
      "cell_type": "code",
      "execution_count": 41,
      "id": "839e686f-1745-48e3-a741-1781846a8ee2",
      "metadata": {
        "id": "839e686f-1745-48e3-a741-1781846a8ee2",
        "outputId": "a0f73d92-74b8-4e0b-b45a-7d3be7e64dd5",
        "colab": {
          "base_uri": "https://localhost:8080/"
        }
      },
      "outputs": [
        {
          "output_type": "stream",
          "name": "stdout",
          "text": [
            "Model: \"sequential\"\n",
            "_________________________________________________________________\n",
            " Layer (type)                Output Shape              Param #   \n",
            "=================================================================\n",
            " dense (Dense)               (None, 64)                354816    \n",
            "                                                                 \n",
            " dropout (Dropout)           (None, 64)                0         \n",
            "                                                                 \n",
            " dense_1 (Dense)             (None, 3)                 195       \n",
            "                                                                 \n",
            "=================================================================\n",
            "Total params: 355011 (1.35 MB)\n",
            "Trainable params: 355011 (1.35 MB)\n",
            "Non-trainable params: 0 (0.00 Byte)\n",
            "_________________________________________________________________\n"
          ]
        }
      ],
      "source": [
        "# Display the model's architecture:\n",
        "# Output the model summary to understand its structure\n",
        "model.summary()"
      ]
    },
    {
      "cell_type": "code",
      "execution_count": 42,
      "id": "9e8ba6a3-a4d2-4303-ab13-bce14e5e9610",
      "metadata": {
        "id": "9e8ba6a3-a4d2-4303-ab13-bce14e5e9610",
        "outputId": "7a39feb2-c3e3-4c1b-bbc3-2c3b34c0c56b",
        "colab": {
          "base_uri": "https://localhost:8080/"
        }
      },
      "outputs": [
        {
          "output_type": "stream",
          "name": "stdout",
          "text": [
            "Epoch 1/10\n",
            "38/38 [==============================] - 2s 22ms/step - loss: 1.0240 - accuracy: 0.5624 - val_loss: 0.9335 - val_accuracy: 0.5619\n",
            "Epoch 2/10\n",
            "38/38 [==============================] - 0s 12ms/step - loss: 0.8268 - accuracy: 0.6362 - val_loss: 0.7768 - val_accuracy: 0.6087\n",
            "Epoch 3/10\n",
            "38/38 [==============================] - 1s 13ms/step - loss: 0.6549 - accuracy: 0.8072 - val_loss: 0.6665 - val_accuracy: 0.7525\n",
            "Epoch 4/10\n",
            "38/38 [==============================] - 1s 14ms/step - loss: 0.5215 - accuracy: 0.8718 - val_loss: 0.5903 - val_accuracy: 0.8127\n",
            "Epoch 5/10\n",
            "38/38 [==============================] - 1s 13ms/step - loss: 0.4190 - accuracy: 0.9120 - val_loss: 0.5348 - val_accuracy: 0.8395\n",
            "Epoch 6/10\n",
            "38/38 [==============================] - 0s 13ms/step - loss: 0.3301 - accuracy: 0.9346 - val_loss: 0.4959 - val_accuracy: 0.8428\n",
            "Epoch 7/10\n",
            "38/38 [==============================] - 0s 10ms/step - loss: 0.2622 - accuracy: 0.9422 - val_loss: 0.4681 - val_accuracy: 0.8428\n",
            "Epoch 8/10\n",
            "38/38 [==============================] - 0s 10ms/step - loss: 0.2097 - accuracy: 0.9556 - val_loss: 0.4502 - val_accuracy: 0.8361\n",
            "Epoch 9/10\n",
            "38/38 [==============================] - 0s 8ms/step - loss: 0.1726 - accuracy: 0.9640 - val_loss: 0.4356 - val_accuracy: 0.8428\n",
            "Epoch 10/10\n",
            "38/38 [==============================] - 0s 8ms/step - loss: 0.1433 - accuracy: 0.9681 - val_loss: 0.4246 - val_accuracy: 0.8462\n"
          ]
        }
      ],
      "source": [
        "# Train the model with the dataset:\n",
        "# Fit the model to the training data, validating against the test data\n",
        "history = model.fit(X_train_dense, y_train,\n",
        "                    epochs=10,\n",
        "                    batch_size=32,\n",
        "                    validation_data=(X_test_dense, y_test))"
      ]
    },
    {
      "cell_type": "code",
      "execution_count": 43,
      "id": "2efbff7f-73f0-43c0-b49b-3ad6b1f9caa1",
      "metadata": {
        "id": "2efbff7f-73f0-43c0-b49b-3ad6b1f9caa1",
        "outputId": "0d862d06-140f-4f7b-c5a5-2ae84ed44274",
        "colab": {
          "base_uri": "https://localhost:8080/"
        }
      },
      "outputs": [
        {
          "output_type": "stream",
          "name": "stdout",
          "text": [
            "10/10 [==============================] - 0s 3ms/step - loss: 0.4246 - accuracy: 0.8462\n",
            "Loss: 0.42461180686950684\n",
            "Accuracy: 0.8461538553237915\n"
          ]
        }
      ],
      "source": [
        "# Evaluate the trained model's performance:\n",
        "# Evaluate the model on test dataset\n",
        "loss, accuracy = model.evaluate(X_test_dense, y_test)\n",
        "# Print loss and accuracy\n",
        "print(f'Loss: {loss}')\n",
        "print(f'Accuracy: {accuracy}')"
      ]
    },
    {
      "cell_type": "code",
      "execution_count": 44,
      "id": "0a0e5739-40ca-464f-b163-6a524292a7d4",
      "metadata": {
        "id": "0a0e5739-40ca-464f-b163-6a524292a7d4",
        "outputId": "36911946-0809-4db1-c327-f2eeb372d5fc",
        "colab": {
          "base_uri": "https://localhost:8080/",
          "height": 607
        }
      },
      "outputs": [
        {
          "output_type": "display_data",
          "data": {
            "text/plain": [
              "<Figure size 1200x600 with 2 Axes>"
            ],
            "image/png": "[encoded data removed]"
          },
          "metadata": {}
        }
      ],
      "source": [
        "# Visualize the training and validation metrics:\n",
        "# Import matplotlib for plotting\n",
        "import matplotlib.pyplot as plt\n",
        "\n",
        "# Set up the plotting environment\n",
        "plt.figure(figsize=(12,6))\n",
        "\n",
        "# Plot accuracy\n",
        "plt.subplot(1,2,1)\n",
        "plt.plot(history.history['accuracy'])\n",
        "plt.plot(history.history['val_accuracy'])\n",
        "plt.title('Model Accuracy')\n",
        "plt.ylabel('Accuracy')\n",
        "plt.xlabel('Epoch')\n",
        "plt.legend(['Train', 'Test'], loc='upper left')\n",
        "\n",
        "# Plot loss\n",
        "plt.subplot(1,2,2)\n",
        "plt.plot(history.history['loss'])\n",
        "plt.plot(history.history['val_loss'])\n",
        "plt.title('Model Loss')\n",
        "plt.ylabel('Loss')\n",
        "plt.xlabel('Epoch')\n",
        "plt.legend(['Train', 'Test'], loc='upper left')\n",
        "\n",
        "# Adjust the layout and display the plots\n",
        "plt.tight_layout()\n",
        "plt.show()"
      ]
    },
    {
      "cell_type": "code",
      "execution_count": 44,
      "id": "b2c9560d-d40b-4676-87d8-cca7b8620536",
      "metadata": {
        "id": "b2c9560d-d40b-4676-87d8-cca7b8620536"
      },
      "outputs": [],
      "source": []
    },
    {
      "cell_type": "code",
      "execution_count": 44,
      "id": "5f74a475-6f3c-4492-a591-af35211a10d0",
      "metadata": {
        "id": "5f74a475-6f3c-4492-a591-af35211a10d0"
      },
      "outputs": [],
      "source": []
    },
    {
      "cell_type": "markdown",
      "id": "809e26eb-9f5e-43ce-af4c-fa860bfb6a1b",
      "metadata": {
        "id": "809e26eb-9f5e-43ce-af4c-fa860bfb6a1b"
      },
      "source": [
        "# Task 8: Optimize Neural Network Hyperparameters Using Keras Tuner"
      ]
    },
    {
      "cell_type": "markdown",
      "id": "ed0e5887-81d0-4fd3-a976-e17c1626e15d",
      "metadata": {
        "id": "ed0e5887-81d0-4fd3-a976-e17c1626e15d"
      },
      "source": [
        "<div data-purpose=\"safely-set-inner-html:rich-text-viewer:html\" class=\"lab-rich-text-viewer--lab-html-content--22XsM rt-scaffolding\"><p>This task involves using Keras Tuner to find the optimal hyperparameters for a multi-class classification neural network model. You will set up a hypermodel function that defines the model architecture and the hyperparameter space to explore. The tuner will then run multiple trials to determine the best combination of neurons in the dense layer, activation function, and dropout rate to achieve the highest validation accuracy.</p><p>The task parameters are:</p><ul><li><p>The number of units in the dense layer ranging from 64 to 512 with a step size of 64.</p></li><li><p>Activation function choices between 'relu' and 'tanh'.</p></li><li><p>Dropout rate from 0.0 to 0.5 with a step size of 0.1.</p></li><li><p>A maximum of 20 trials, with each trial executed 3 times to average out the performance variability.</p></li><li><p><br></p></li></ul></div>\n",
        "\n",
        "<div data-purpose=\"safely-set-inner-html:rich-text-viewer:html\" class=\"lab-rich-text-viewer--lab-html-content--22XsM rt-scaffolding\"><ol><li><p>Import the required library:</p><div class=\"ud-component--base-components--code-block\"><div><pre class=\"prettyprint linenums prettyprinted\" role=\"presentation\" style=\"\"><ol class=\"linenums\"><li class=\"L0\"><span class=\"com\"># Import Keras Tuner</span></li><li class=\"L1\"><span class=\"kwd\">import</span><span class=\"pln\"> keras_tuner </span><span class=\"kwd\">as</span><span class=\"pln\"> kt</span></li></ol></pre></div></div><figure><img align=\"middle\" src=\"https://udemy-images.s3.amazonaws.com:443/redactor/raw/create_lab_editor/2023-11-03_14-08-51-4c7e06a5cb034b848359ace46f4d424f.png\" style=\"display: none;\"><span class=\"ud-component--base-components--open-full-size-image\"><div class=\"open-full-size-image--wrapper--2kvh_\" data-purpose=\"open-full-size-image\"><img src=\"https://udemy-images.s3.amazonaws.com:443/redactor/raw/create_lab_editor/2023-11-03_14-08-51-4c7e06a5cb034b848359ace46f4d424f.png\" alt=\"\" loading=\"eager\"><button type=\"button\" class=\"ud-btn ud-btn-large ud-btn-link ud-heading-md open-full-size-image--backdrop--20cbM\"><svg aria-label=\"Larger image\" role=\"img\" focusable=\"false\" class=\"ud-icon ud-icon-large ud-icon-color-neutral\"><use xlink:href=\"#icon-search\"></use></svg></button></div></span></figure></li><li><p>Define the hypermodel function:</p><div class=\"ud-component--base-components--code-block\"><div><pre class=\"prettyprint linenums prettyprinted\" role=\"presentation\" style=\"\"><ol class=\"linenums\"><li class=\"L0\"><span class=\"com\"># Function to build the model given hyperparameters</span></li><li class=\"L1\"><span class=\"kwd\">def</span><span class=\"pln\"> build_model_step1</span><span class=\"pun\">(</span><span class=\"pln\">hp</span><span class=\"pun\">):</span></li><li class=\"L2\"><span class=\"pln\">    model </span><span class=\"pun\">=</span><span class=\"pln\"> tf</span><span class=\"pun\">.</span><span class=\"pln\">keras</span><span class=\"pun\">.</span><span class=\"typ\">Sequential</span><span class=\"pun\">()</span></li><li class=\"L3\"><span class=\"pln\">    </span><span class=\"com\"># Dense layer where the number of units is a hyperparameter</span></li><li class=\"L4\"><span class=\"pln\">    model</span><span class=\"pun\">.</span><span class=\"pln\">add</span><span class=\"pun\">(</span><span class=\"pln\">tf</span><span class=\"pun\">.</span><span class=\"pln\">keras</span><span class=\"pun\">.</span><span class=\"pln\">layers</span><span class=\"pun\">.</span><span class=\"typ\">Dense</span><span class=\"pun\">(</span></li><li class=\"L5\"><span class=\"pln\">        units</span><span class=\"pun\">=</span><span class=\"pln\">hp</span><span class=\"pun\">.</span><span class=\"typ\">Int</span><span class=\"pun\">(</span><span class=\"str\">'units'</span><span class=\"pun\">,</span><span class=\"pln\"> min_value</span><span class=\"pun\">=</span><span class=\"lit\">64</span><span class=\"pun\">,</span><span class=\"pln\"> max_value</span><span class=\"pun\">=</span><span class=\"lit\">512</span><span class=\"pun\">,</span><span class=\"pln\"> step</span><span class=\"pun\">=</span><span class=\"lit\">64</span><span class=\"pun\">),</span></li><li class=\"L6\"><span class=\"pln\">        activation</span><span class=\"pun\">=</span><span class=\"pln\">hp</span><span class=\"pun\">.</span><span class=\"typ\">Choice</span><span class=\"pun\">(</span><span class=\"str\">'activation'</span><span class=\"pun\">,</span><span class=\"pln\"> values</span><span class=\"pun\">=[</span><span class=\"str\">'relu'</span><span class=\"pun\">,</span><span class=\"pln\"> </span><span class=\"str\">'tanh'</span><span class=\"pun\">]),</span></li><li class=\"L7\"><span class=\"pln\">        input_shape</span><span class=\"pun\">=(</span><span class=\"pln\">X_train</span><span class=\"pun\">.</span><span class=\"pln\">shape</span><span class=\"pun\">[</span><span class=\"lit\">1</span><span class=\"pun\">],)</span></li><li class=\"L8\"><span class=\"pln\">    </span><span class=\"pun\">))</span></li><li class=\"L9\"><span class=\"pln\">    </span><span class=\"com\"># Dropout layer where the rate is a hyperparameter</span></li><li class=\"L0\"><span class=\"pln\">    model</span><span class=\"pun\">.</span><span class=\"pln\">add</span><span class=\"pun\">(</span><span class=\"pln\">tf</span><span class=\"pun\">.</span><span class=\"pln\">keras</span><span class=\"pun\">.</span><span class=\"pln\">layers</span><span class=\"pun\">.</span><span class=\"typ\">Dropout</span><span class=\"pun\">(</span></li><li class=\"L1\"><span class=\"pln\">        rate</span><span class=\"pun\">=</span><span class=\"pln\">hp</span><span class=\"pun\">.</span><span class=\"typ\">Float</span><span class=\"pun\">(</span><span class=\"str\">'dropout_rate'</span><span class=\"pun\">,</span><span class=\"pln\"> min_value</span><span class=\"pun\">=</span><span class=\"lit\">0.0</span><span class=\"pun\">,</span><span class=\"pln\"> max_value</span><span class=\"pun\">=</span><span class=\"lit\">0.5</span><span class=\"pun\">,</span><span class=\"pln\"> step</span><span class=\"pun\">=</span><span class=\"lit\">0.1</span><span class=\"pun\">)</span></li><li class=\"L2\"><span class=\"pln\">    </span><span class=\"pun\">))</span></li><li class=\"L3\"><span class=\"pln\">    </span><span class=\"com\"># Output layer with fixed settings</span></li><li class=\"L4\"><span class=\"pln\">    model</span><span class=\"pun\">.</span><span class=\"pln\">add</span><span class=\"pun\">(</span><span class=\"pln\">tf</span><span class=\"pun\">.</span><span class=\"pln\">keras</span><span class=\"pun\">.</span><span class=\"pln\">layers</span><span class=\"pun\">.</span><span class=\"typ\">Dense</span><span class=\"pun\">(</span><span class=\"lit\">3</span><span class=\"pun\">,</span><span class=\"pln\"> activation</span><span class=\"pun\">=</span><span class=\"str\">'softmax'</span><span class=\"pun\">))</span></li><li class=\"L5\"><span class=\"pln\">    </span><span class=\"com\"># Compile the model with default optimizer and loss function</span></li><li class=\"L6\"><span class=\"pln\">    model</span><span class=\"pun\">.</span><span class=\"pln\">compile</span><span class=\"pun\">(</span></li><li class=\"L7\"><span class=\"pln\">        optimizer</span><span class=\"pun\">=</span><span class=\"pln\">tf</span><span class=\"pun\">.</span><span class=\"pln\">keras</span><span class=\"pun\">.</span><span class=\"pln\">optimizers</span><span class=\"pun\">.</span><span class=\"typ\">Adam</span><span class=\"pun\">(),</span></li><li class=\"L8\"><span class=\"pln\">        loss</span><span class=\"pun\">=</span><span class=\"str\">'sparse_categorical_crossentropy'</span><span class=\"pun\">,</span></li><li class=\"L9\"><span class=\"pln\">        metrics</span><span class=\"pun\">=[</span><span class=\"str\">'accuracy'</span><span class=\"pun\">]</span></li><li class=\"L0\"><span class=\"pln\">    </span><span class=\"pun\">)</span></li><li class=\"L1\"><span class=\"pln\">    </span><span class=\"kwd\">return</span><span class=\"pln\"> model</span></li></ol></pre></div></div><p><br></p></li><li><p>Configure and run the hyperparameter search:</p><div class=\"ud-component--base-components--code-block\"><div><pre class=\"prettyprint linenums prettyprinted\" role=\"presentation\" style=\"\"><ol class=\"linenums\"><li class=\"L0\"><span class=\"com\"># Initialize the random search tuner</span></li><li class=\"L1\"><span class=\"pln\">tuner_step1 </span><span class=\"pun\">=</span><span class=\"pln\"> kt</span><span class=\"pun\">.</span><span class=\"typ\">RandomSearch</span><span class=\"pun\">(</span></li><li class=\"L2\"><span class=\"pln\">    build_model_step1</span><span class=\"pun\">,</span></li><li class=\"L3\"><span class=\"pln\">    objective</span><span class=\"pun\">=</span><span class=\"str\">'val_accuracy'</span><span class=\"pun\">,</span></li><li class=\"L4\"><span class=\"pln\">    max_trials</span><span class=\"pun\">=</span><span class=\"lit\">20</span><span class=\"pun\">,</span></li><li class=\"L5\"><span class=\"pln\">    executions_per_trial</span><span class=\"pun\">=</span><span class=\"lit\">3</span><span class=\"pun\">,</span></li><li class=\"L6\"><span class=\"pln\">    directory</span><span class=\"pun\">=</span><span class=\"str\">'tuner_step1_directory'</span><span class=\"pun\">,</span></li><li class=\"L7\"><span class=\"pln\">    project_name</span><span class=\"pun\">=</span><span class=\"str\">'step1_tuning'</span></li><li class=\"L8\"><span class=\"pun\">)</span></li></ol></pre></div></div><p><br></p></li><li><p>Start the hyperparameter tuning</p><div class=\"ud-component--base-components--code-block\"><div><pre class=\"prettyprint linenums prettyprinted\" role=\"presentation\" style=\"\"><ol class=\"linenums\"><li class=\"L0\"><span class=\"com\"># Execute the search over the specified epochs and validation data</span></li><li class=\"L1\"><span class=\"pln\">tuner_step1</span><span class=\"pun\">.</span><span class=\"pln\">search</span><span class=\"pun\">(</span><span class=\"pln\">X_train_dense</span><span class=\"pun\">,</span><span class=\"pln\"> </span></li><li class=\"L2\"><span class=\"pln\">                   y_train</span><span class=\"pun\">,</span><span class=\"pln\"> </span></li><li class=\"L3\"><span class=\"pln\">                   epochs</span><span class=\"pun\">=</span><span class=\"lit\">10</span><span class=\"pun\">,</span><span class=\"pln\"> </span></li><li class=\"L4\"><span class=\"pln\">                   validation_data</span><span class=\"pun\">=(</span><span class=\"pln\">X_test_dense</span><span class=\"pun\">,</span><span class=\"pln\"> </span></li><li class=\"L5\"><span class=\"pln\">                                    y_test</span><span class=\"pun\">))</span></li></ol></pre></div></div><figure><img align=\"middle\" src=\"https://udemy-images.s3.amazonaws.com:443/redactor/raw/create_lab_editor/2023-11-03_14-08-51-b61c90603cc92341327946e86f402d8d.png\" style=\"display: none;\"><span class=\"ud-component--base-components--open-full-size-image\"><div class=\"open-full-size-image--wrapper--2kvh_\" data-purpose=\"open-full-size-image\"><img src=\"https://udemy-images.s3.amazonaws.com:443/redactor/raw/create_lab_editor/2023-11-03_14-08-51-b61c90603cc92341327946e86f402d8d.png\" alt=\"\" loading=\"eager\"><button type=\"button\" class=\"ud-btn ud-btn-large ud-btn-link ud-heading-md open-full-size-image--backdrop--20cbM\"><svg aria-label=\"Larger image\" role=\"img\" focusable=\"false\" class=\"ud-icon ud-icon-large ud-icon-color-neutral\"><use xlink:href=\"#icon-search\"></use></svg></button></div></span></figure></li><li><p>Review the search results :</p><div class=\"ud-component--base-components--code-block\"><div><pre class=\"prettyprint linenums prettyprinted\" role=\"presentation\" style=\"\"><ol class=\"linenums\"><li class=\"L0\"><span class=\"com\"># Output the summary of the hyperparameter tuning results</span></li><li class=\"L1\"><span class=\"pln\">tuner_step1</span><span class=\"pun\">.</span><span class=\"pln\">results_summary</span><span class=\"pun\">()</span></li></ol></pre></div></div><figure><img align=\"middle\" src=\"https://udemy-images.s3.amazonaws.com:443/redactor/raw/create_lab_editor/2023-11-03_14-08-51-535d318ea68f99b60bd718b388bd8484.png\" style=\"display: none;\"><span class=\"ud-component--base-components--open-full-size-image\"><div class=\"open-full-size-image--wrapper--2kvh_\" data-purpose=\"open-full-size-image\"><img src=\"https://udemy-images.s3.amazonaws.com:443/redactor/raw/create_lab_editor/2023-11-03_14-08-51-535d318ea68f99b60bd718b388bd8484.png\" alt=\"\" loading=\"eager\"><button type=\"button\" class=\"ud-btn ud-btn-large ud-btn-link ud-heading-md open-full-size-image--backdrop--20cbM\"><svg aria-label=\"Larger image\" role=\"img\" focusable=\"false\" class=\"ud-icon ud-icon-large ud-icon-color-neutral\"><use xlink:href=\"#icon-search\"></use></svg></button></div></span></figure></li><li><p>Extract and print the best hyperparameters:</p><div class=\"ud-component--base-components--code-block\"><div><pre class=\"prettyprint linenums prettyprinted\" role=\"presentation\" style=\"\"><ol class=\"linenums\"><li class=\"L0\"><span class=\"com\"># Get the best set of hyperparameters</span></li><li class=\"L1\"><span class=\"pln\">best_hps_step1 </span><span class=\"pun\">=</span><span class=\"pln\"> tuner_step1</span><span class=\"pun\">.</span><span class=\"pln\">get_best_hyperparameters</span><span class=\"pun\">(</span><span class=\"pln\">num_trials</span><span class=\"pun\">=</span><span class=\"lit\">1</span><span class=\"pun\">)[</span><span class=\"lit\">0</span><span class=\"pun\">]</span></li><li class=\"L2\"><span class=\"pln\">&nbsp;</span></li><li class=\"L3\"><span class=\"com\"># Print the best hyperparameters</span></li><li class=\"L4\"><span class=\"kwd\">print</span><span class=\"pun\">(</span><span class=\"pln\">f</span><span class=\"str\">\"\"\"</span></li><li class=\"L5\"><span class=\"str\">Units: {best_hps_step1.get('units')}</span></li><li class=\"L6\"><span class=\"str\">Activation: {best_hps_step1.get('activation')}</span></li><li class=\"L7\"><span class=\"str\">Dropout Rate: {best_hps_step1.get('dropout_rate')}</span></li><li class=\"L8\"><span class=\"str\">\"\"\"</span><span class=\"pun\">)</span></li></ol></pre></div></div><figure><img align=\"middle\" src=\"https://udemy-images.s3.amazonaws.com:443/redactor/raw/create_lab_editor/2023-11-03_14-08-52-9a9924f0e1beacab5e6cd1c353f5bbe0.png\" style=\"display: none;\"><span class=\"ud-component--base-components--open-full-size-image\"><div class=\"open-full-size-image--wrapper--2kvh_\" data-purpose=\"open-full-size-image\"><img src=\"https://udemy-images.s3.amazonaws.com:443/redactor/raw/create_lab_editor/2023-11-03_14-08-52-9a9924f0e1beacab5e6cd1c353f5bbe0.png\" alt=\"\" loading=\"eager\"><button type=\"button\" class=\"ud-btn ud-btn-large ud-btn-link ud-heading-md open-full-size-image--backdrop--20cbM\"><svg aria-label=\"Larger image\" role=\"img\" focusable=\"false\" class=\"ud-icon ud-icon-large ud-icon-color-neutral\"><use xlink:href=\"#icon-search\"></use></svg></button></div></span></figure></li></ol></div>"
      ]
    },
    {
      "cell_type": "code",
      "execution_count": 47,
      "id": "92c7bd61-d64b-437b-9eb8-0373268e1012",
      "metadata": {
        "id": "92c7bd61-d64b-437b-9eb8-0373268e1012",
        "outputId": "9d8514d9-0fbb-4515-cc57-e19230c7eabc",
        "colab": {
          "base_uri": "https://localhost:8080/"
        }
      },
      "outputs": [
        {
          "output_type": "stream",
          "name": "stdout",
          "text": [
            "Collecting keras-tuner==1.4.5\n",
            "  Downloading keras_tuner-1.4.5-py3-none-any.whl (129 kB)\n",
            "\u001b[2K     \u001b[90m━━━━━━━━━━━━━━━━━━━━━━━━━━━━━━━━━━━━━━━━\u001b[0m \u001b[32m129.5/129.5 kB\u001b[0m \u001b[31m1.3 MB/s\u001b[0m eta \u001b[36m0:00:00\u001b[0m\n",
            "\u001b[?25hCollecting keras-core (from keras-tuner==1.4.5)\n",
            "  Downloading keras_core-0.1.7-py3-none-any.whl (950 kB)\n",
            "\u001b[2K     \u001b[90m━━━━━━━━━━━━━━━━━━━━━━━━━━━━━━━━━━━━━━━━\u001b[0m \u001b[32m950.8/950.8 kB\u001b[0m \u001b[31m18.6 MB/s\u001b[0m eta \u001b[36m0:00:00\u001b[0m\n",
            "\u001b[?25hRequirement already satisfied: packaging in /usr/local/lib/python3.10/dist-packages (from keras-tuner==1.4.5) (23.2)\n",
            "Requirement already satisfied: requests in /usr/local/lib/python3.10/dist-packages (from keras-tuner==1.4.5) (2.31.0)\n",
            "Collecting kt-legacy (from keras-tuner==1.4.5)\n",
            "  Downloading kt_legacy-1.0.5-py3-none-any.whl (9.6 kB)\n",
            "Requirement already satisfied: absl-py in /usr/local/lib/python3.10/dist-packages (from keras-core->keras-tuner==1.4.5) (1.4.0)\n",
            "Requirement already satisfied: numpy in /usr/local/lib/python3.10/dist-packages (from keras-core->keras-tuner==1.4.5) (1.23.5)\n",
            "Requirement already satisfied: rich in /usr/local/lib/python3.10/dist-packages (from keras-core->keras-tuner==1.4.5) (13.7.0)\n",
            "Collecting namex (from keras-core->keras-tuner==1.4.5)\n",
            "  Downloading namex-0.0.7-py3-none-any.whl (5.8 kB)\n",
            "Requirement already satisfied: h5py in /usr/local/lib/python3.10/dist-packages (from keras-core->keras-tuner==1.4.5) (3.9.0)\n",
            "Requirement already satisfied: dm-tree in /usr/local/lib/python3.10/dist-packages (from keras-core->keras-tuner==1.4.5) (0.1.8)\n",
            "Requirement already satisfied: charset-normalizer<4,>=2 in /usr/local/lib/python3.10/dist-packages (from requests->keras-tuner==1.4.5) (3.3.2)\n",
            "Requirement already satisfied: idna<4,>=2.5 in /usr/local/lib/python3.10/dist-packages (from requests->keras-tuner==1.4.5) (3.6)\n",
            "Requirement already satisfied: urllib3<3,>=1.21.1 in /usr/local/lib/python3.10/dist-packages (from requests->keras-tuner==1.4.5) (2.0.7)\n",
            "Requirement already satisfied: certifi>=2017.4.17 in /usr/local/lib/python3.10/dist-packages (from requests->keras-tuner==1.4.5) (2023.11.17)\n",
            "Requirement already satisfied: markdown-it-py>=2.2.0 in /usr/local/lib/python3.10/dist-packages (from rich->keras-core->keras-tuner==1.4.5) (3.0.0)\n",
            "Requirement already satisfied: pygments<3.0.0,>=2.13.0 in /usr/local/lib/python3.10/dist-packages (from rich->keras-core->keras-tuner==1.4.5) (2.16.1)\n",
            "Requirement already satisfied: mdurl~=0.1 in /usr/local/lib/python3.10/dist-packages (from markdown-it-py>=2.2.0->rich->keras-core->keras-tuner==1.4.5) (0.1.2)\n",
            "Installing collected packages: namex, kt-legacy, keras-core, keras-tuner\n",
            "Successfully installed keras-core-0.1.7 keras-tuner-1.4.5 kt-legacy-1.0.5 namex-0.0.7\n"
          ]
        }
      ],
      "source": [
        "pip install keras-tuner==1.4.5"
      ]
    },
    {
      "cell_type": "code",
      "execution_count": 49,
      "id": "e20efcca-ef44-4783-922f-aa595db21fc8",
      "metadata": {
        "id": "e20efcca-ef44-4783-922f-aa595db21fc8"
      },
      "outputs": [],
      "source": [
        "# Import the required library:\n",
        "# Import Keras Tuner\n",
        "import keras_tuner as kt"
      ]
    },
    {
      "cell_type": "code",
      "execution_count": 50,
      "id": "90c46169-9ec9-4228-9b93-18409848942b",
      "metadata": {
        "id": "90c46169-9ec9-4228-9b93-18409848942b"
      },
      "outputs": [],
      "source": [
        "# Define the hypermodel function:\n",
        "\n",
        "# Function to build the model given hyperparameters\n",
        "def build_model_step1(hp):\n",
        "    model = tf.keras.Sequential()\n",
        "    # Dense layer where the number of units is a hyperparameter\n",
        "    model.add(tf.keras.layers.Dense(\n",
        "        units=hp.Int('units', min_value=64, max_value=512, step=64),\n",
        "        activation=hp.Choice('activation', values=['relu', 'tanh']),\n",
        "        input_shape=(X_train.shape[1],)\n",
        "    ))\n",
        "    # Dropout layer where the rate is a hyperparameter\n",
        "    model.add(tf.keras.layers.Dropout(\n",
        "        rate=hp.Float('dropout_rate', min_value=0.0, max_value=0.5, step=0.1)\n",
        "    ))\n",
        "    # Output layer with fixed settings\n",
        "    model.add(tf.keras.layers.Dense(3, activation='softmax'))\n",
        "    # Compile the model with default optimizer and loss function\n",
        "    model.compile(\n",
        "        optimizer=tf.keras.optimizers.Adam(),\n",
        "        loss='sparse_categorical_crossentropy',\n",
        "        metrics=['accuracy']\n",
        "    )\n",
        "    return model"
      ]
    },
    {
      "cell_type": "code",
      "execution_count": 51,
      "id": "f564479a-72ad-4d4b-a8ea-72292f9da4a2",
      "metadata": {
        "id": "f564479a-72ad-4d4b-a8ea-72292f9da4a2"
      },
      "outputs": [],
      "source": [
        "# Configure and run the hyperparameter search:\n",
        "\n",
        "# Initialize the random search tuner\n",
        "tuner_step1 = kt.RandomSearch(\n",
        "    build_model_step1,\n",
        "    objective='val_accuracy',\n",
        "    max_trials=20,\n",
        "    executions_per_trial=3,\n",
        "    directory='tuner_step1_directory',\n",
        "    project_name='step1_tuning'\n",
        ")"
      ]
    },
    {
      "cell_type": "code",
      "execution_count": 52,
      "id": "7aa8e280-c6d9-4532-9468-7f88402029fa",
      "metadata": {
        "id": "7aa8e280-c6d9-4532-9468-7f88402029fa",
        "outputId": "ee92cc26-2d77-454a-9429-2917cd47f1f1",
        "colab": {
          "base_uri": "https://localhost:8080/"
        }
      },
      "outputs": [
        {
          "output_type": "stream",
          "name": "stdout",
          "text": [
            "Trial 20 Complete [00h 00m 50s]\n",
            "val_accuracy: 0.8528428077697754\n",
            "\n",
            "Best val_accuracy So Far: 0.8639910618464152\n",
            "Total elapsed time: 00h 15m 23s\n"
          ]
        }
      ],
      "source": [
        "# Start the hyperparameter tuning\n",
        "\n",
        "# Execute the search over the specified epochs and validation data\n",
        "tuner_step1.search(X_train_dense,\n",
        "                   y_train,\n",
        "                   epochs=10,\n",
        "                   validation_data=(X_test_dense,\n",
        "                                    y_test))"
      ]
    },
    {
      "cell_type": "code",
      "execution_count": 53,
      "id": "cee12552-3825-4d35-ab16-a827692ccf01",
      "metadata": {
        "id": "cee12552-3825-4d35-ab16-a827692ccf01",
        "outputId": "73b2ad2e-149f-4416-bdd6-44603b80f108",
        "colab": {
          "base_uri": "https://localhost:8080/"
        }
      },
      "outputs": [
        {
          "output_type": "stream",
          "name": "stdout",
          "text": [
            "Results summary\n",
            "Results in tuner_step1_directory/step1_tuning\n",
            "Showing 10 best trials\n",
            "Objective(name=\"val_accuracy\", direction=\"max\")\n",
            "\n",
            "Trial 17 summary\n",
            "Hyperparameters:\n",
            "units: 320\n",
            "activation: relu\n",
            "dropout_rate: 0.4\n",
            "Score: 0.8639910618464152\n",
            "\n",
            "Trial 05 summary\n",
            "Hyperparameters:\n",
            "units: 320\n",
            "activation: relu\n",
            "dropout_rate: 0.2\n",
            "Score: 0.8628762364387512\n",
            "\n",
            "Trial 16 summary\n",
            "Hyperparameters:\n",
            "units: 384\n",
            "activation: relu\n",
            "dropout_rate: 0.4\n",
            "Score: 0.8595317602157593\n",
            "\n",
            "Trial 12 summary\n",
            "Hyperparameters:\n",
            "units: 512\n",
            "activation: tanh\n",
            "dropout_rate: 0.2\n",
            "Score: 0.8584169348080953\n",
            "\n",
            "Trial 00 summary\n",
            "Hyperparameters:\n",
            "units: 512\n",
            "activation: relu\n",
            "dropout_rate: 0.4\n",
            "Score: 0.8573021094004313\n",
            "\n",
            "Trial 03 summary\n",
            "Hyperparameters:\n",
            "units: 384\n",
            "activation: tanh\n",
            "dropout_rate: 0.2\n",
            "Score: 0.8573021094004313\n",
            "\n",
            "Trial 09 summary\n",
            "Hyperparameters:\n",
            "units: 384\n",
            "activation: relu\n",
            "dropout_rate: 0.1\n",
            "Score: 0.8573021094004313\n",
            "\n",
            "Trial 01 summary\n",
            "Hyperparameters:\n",
            "units: 192\n",
            "activation: relu\n",
            "dropout_rate: 0.4\n",
            "Score: 0.8561872839927673\n",
            "\n",
            "Trial 06 summary\n",
            "Hyperparameters:\n",
            "units: 192\n",
            "activation: relu\n",
            "dropout_rate: 0.2\n",
            "Score: 0.8561872839927673\n",
            "\n",
            "Trial 08 summary\n",
            "Hyperparameters:\n",
            "units: 384\n",
            "activation: relu\n",
            "dropout_rate: 0.2\n",
            "Score: 0.8561872839927673\n"
          ]
        }
      ],
      "source": [
        "# Review the search results :\n",
        "\n",
        "# Output the summary of the hyperparameter tuning results\n",
        "tuner_step1.results_summary()"
      ]
    },
    {
      "cell_type": "code",
      "execution_count": 54,
      "id": "b63acd24-b756-4ac0-87e7-173310255e92",
      "metadata": {
        "id": "b63acd24-b756-4ac0-87e7-173310255e92",
        "outputId": "6eaba231-ebc0-4905-d636-4b5879fbc951",
        "colab": {
          "base_uri": "https://localhost:8080/"
        }
      },
      "outputs": [
        {
          "output_type": "stream",
          "name": "stdout",
          "text": [
            "\n",
            "Units: 320\n",
            "Activation: relu\n",
            "Dropout Rate: 0.4\n",
            "\n"
          ]
        }
      ],
      "source": [
        "# Extract and print the best hyperparameters:\n",
        "\n",
        "# Get the best set of hyperparameters\n",
        "best_hps_step1 = tuner_step1.get_best_hyperparameters(num_trials=1)[0]\n",
        "\n",
        "# Print the best hyperparameters\n",
        "print(f\"\"\"\n",
        "Units: {best_hps_step1.get('units')}\n",
        "Activation: {best_hps_step1.get('activation')}\n",
        "Dropout Rate: {best_hps_step1.get('dropout_rate')}\n",
        "\"\"\")"
      ]
    },
    {
      "cell_type": "code",
      "execution_count": 54,
      "id": "95d66021-e2ee-4eed-ac1d-6a40d671c4a7",
      "metadata": {
        "id": "95d66021-e2ee-4eed-ac1d-6a40d671c4a7"
      },
      "outputs": [],
      "source": []
    },
    {
      "cell_type": "markdown",
      "id": "c41881fb-b41c-4886-a684-7548d3e64f4a",
      "metadata": {
        "id": "c41881fb-b41c-4886-a684-7548d3e64f4a"
      },
      "source": [
        "# Task 9: Refine Neural Network Model with Secondary Hyperparameter Tuning"
      ]
    },
    {
      "cell_type": "markdown",
      "id": "96c7e244-fefd-4c51-ae07-855ab1ea20d0",
      "metadata": {
        "id": "96c7e244-fefd-4c51-ae07-855ab1ea20d0"
      },
      "source": [
        "<div data-purpose=\"safely-set-inner-html:rich-text-viewer:html\" class=\"lab-rich-text-viewer--lab-html-content--22XsM rt-scaffolding\"><p>In this task, you will leverage the foundational work completed in the initial hyperparameter tuning step to further refine our Natural Language Processing (NLP) model. Your objective is to optimize the model's architecture and training configuration by introducing a second layer of hyperparameter tuning. This iterative process is designed to hone in on the best model configuration for sentiment analysis accuracy.</p><p><strong>Steps to Accomplish:</strong></p><ol><li><p><strong>Model Setup:</strong></p><ul><li><p>Utilize the <code><strong>build_model_step2</strong></code> function to construct a <code><strong>Sequential</strong></code> model.</p></li><li><p>Begin by adding a dense layer using the optimal hyperparameters (<code><strong>units</strong></code> and <code><strong>activation</strong></code>) identified from step 1 of tuning.</p></li><li><p>Incorporate a dropout layer to mitigate overfitting, again using the best dropout rate from the previous tuning step.</p></li></ul></li><li><p><strong>Hyperparameter Expansion:</strong></p><ul><li><p>Define a new hyperparameter within the dense layer to determine the ideal number of <code><strong>second_units</strong></code>. Use the provided range as your search space.</p></li><li><p>Introduce two new hyperparameters for the model: <code><strong>optimizer</strong></code> and <code><strong>learning_rate</strong></code>. You'll choose between <code><strong>adam</strong></code> and <code><strong>sgd</strong></code> for the optimizer, and among three different learning rates.</p></li></ul></li><li><p><strong>Conditional Logic Application:</strong></p><ul><li><p>Apply conditional logic to instantiate the selected optimizer with the appropriate learning rate.</p></li><li><p>Compile the model with the chosen hyperparameters, employing <code><strong>sparse_categorical_crossentropy</strong></code> as the loss function and tracking <code><strong>accuracy</strong></code> as the metric.</p></li></ul></li><li><p><strong>Tuner Initialization:</strong></p><ul><li><p>Initialize a second hyperparameter tuner (<code><strong>tuner_step2</strong></code>) using a <code><strong>RandomSearch</strong></code> strategy.</p></li><li><p>Configure this tuner with the specified search space, trial limitations, and directory setup for storing results.</p></li></ul></li><li><p><strong>Model Optimization:</strong></p><ul><li><p>Execute the hyperparameter search with the training and validation datasets provided, iterating through the specified number of epochs.</p></li><li><p>Upon completion, invoke the <code><strong>results_summary</strong></code> method to output a summary of the hyperparameter tuning results.</p><p><br></p></li></ul></li></ol></div>\n",
        "\n",
        "<div data-purpose=\"safely-set-inner-html:rich-text-viewer:html\" class=\"lab-rich-text-viewer--lab-html-content--22XsM rt-scaffolding\"><ol><li><p>Define the function to build the refined model:</p><div class=\"ud-component--base-components--code-block\"><div><pre class=\"prettyprint linenums prettyprinted\" role=\"presentation\" style=\"\"><ol class=\"linenums\"><li class=\"L0\"><span class=\"kwd\">def</span><span class=\"pln\"> build_model_step2</span><span class=\"pun\">(</span><span class=\"pln\">hp</span><span class=\"pun\">):</span></li><li class=\"L1\"><span class=\"pln\">    model </span><span class=\"pun\">=</span><span class=\"pln\"> tf</span><span class=\"pun\">.</span><span class=\"pln\">keras</span><span class=\"pun\">.</span><span class=\"typ\">Sequential</span><span class=\"pun\">()</span></li><li class=\"L2\"><span class=\"pln\">    </span><span class=\"com\"># Add the first layer with the best hyperparameters from step 1</span></li><li class=\"L3\"><span class=\"pln\">    model</span><span class=\"pun\">.</span><span class=\"pln\">add</span><span class=\"pun\">(</span><span class=\"pln\">tf</span><span class=\"pun\">.</span><span class=\"pln\">keras</span><span class=\"pun\">.</span><span class=\"pln\">layers</span><span class=\"pun\">.</span><span class=\"typ\">Dense</span><span class=\"pun\">(</span></li><li class=\"L4\"><span class=\"pln\">        units</span><span class=\"pun\">=</span><span class=\"pln\">tuner_step1</span><span class=\"pun\">.</span><span class=\"pln\">get_best_hyperparameters</span><span class=\"pun\">()[</span><span class=\"lit\">0</span><span class=\"pun\">].</span><span class=\"kwd\">get</span><span class=\"pun\">(</span><span class=\"str\">'units'</span><span class=\"pun\">),</span></li><li class=\"L5\"><span class=\"pln\">        activation</span><span class=\"pun\">=</span><span class=\"pln\">tuner_step1</span><span class=\"pun\">.</span><span class=\"pln\">get_best_hyperparameters</span><span class=\"pun\">()[</span><span class=\"lit\">0</span><span class=\"pun\">].</span><span class=\"kwd\">get</span><span class=\"pun\">(</span><span class=\"str\">'activation'</span><span class=\"pun\">),</span></li><li class=\"L6\"><span class=\"pln\">        input_shape</span><span class=\"pun\">=(</span><span class=\"pln\">X_train</span><span class=\"pun\">.</span><span class=\"pln\">shape</span><span class=\"pun\">[</span><span class=\"lit\">1</span><span class=\"pun\">],)</span></li><li class=\"L7\"><span class=\"pln\">    </span><span class=\"pun\">))</span></li><li class=\"L8\"><span class=\"pln\">    </span><span class=\"com\"># Add the dropout layer with the best hyperparameter from step 1</span></li><li class=\"L9\"><span class=\"pln\">    model</span><span class=\"pun\">.</span><span class=\"pln\">add</span><span class=\"pun\">(</span><span class=\"pln\">tf</span><span class=\"pun\">.</span><span class=\"pln\">keras</span><span class=\"pun\">.</span><span class=\"pln\">layers</span><span class=\"pun\">.</span><span class=\"typ\">Dropout</span><span class=\"pun\">(</span></li><li class=\"L0\"><span class=\"pln\">        rate</span><span class=\"pun\">=</span><span class=\"pln\">tuner_step1</span><span class=\"pun\">.</span><span class=\"pln\">get_best_hyperparameters</span><span class=\"pun\">()[</span><span class=\"lit\">0</span><span class=\"pun\">].</span><span class=\"kwd\">get</span><span class=\"pun\">(</span><span class=\"str\">'dropout_rate'</span><span class=\"pun\">)</span></li><li class=\"L1\"><span class=\"pln\">    </span><span class=\"pun\">))</span></li><li class=\"L2\"><span class=\"pln\">    </span><span class=\"com\"># Add a second dense layer where the number of units is a new hyperparameter to tune</span></li><li class=\"L3\"><span class=\"pln\">    model</span><span class=\"pun\">.</span><span class=\"pln\">add</span><span class=\"pun\">(</span><span class=\"pln\">tf</span><span class=\"pun\">.</span><span class=\"pln\">keras</span><span class=\"pun\">.</span><span class=\"pln\">layers</span><span class=\"pun\">.</span><span class=\"typ\">Dense</span><span class=\"pun\">(</span></li><li class=\"L4\"><span class=\"pln\">        units</span><span class=\"pun\">=</span><span class=\"pln\">hp</span><span class=\"pun\">.</span><span class=\"typ\">Int</span><span class=\"pun\">(</span><span class=\"str\">'second_units'</span><span class=\"pun\">,</span><span class=\"pln\"> min_value</span><span class=\"pun\">=</span><span class=\"lit\">32</span><span class=\"pun\">,</span><span class=\"pln\"> max_value</span><span class=\"pun\">=</span><span class=\"lit\">512</span><span class=\"pun\">,</span><span class=\"pln\"> step</span><span class=\"pun\">=</span><span class=\"lit\">32</span><span class=\"pun\">),</span></li><li class=\"L5\"><span class=\"pln\">        activation</span><span class=\"pun\">=</span><span class=\"str\">'softmax'</span></li><li class=\"L6\"><span class=\"pln\">    </span><span class=\"pun\">))</span></li><li class=\"L7\"><span class=\"pln\">    </span></li><li class=\"L8\"><span class=\"pln\">    </span><span class=\"com\"># Set optimizer and learning rate as new hyperparameters to tune</span></li><li class=\"L9\"><span class=\"pln\">    optimizer_selected </span><span class=\"pun\">=</span><span class=\"pln\"> hp</span><span class=\"pun\">.</span><span class=\"typ\">Choice</span><span class=\"pun\">(</span><span class=\"str\">'optimizer'</span><span class=\"pun\">,</span><span class=\"pln\"> values</span><span class=\"pun\">=[</span><span class=\"str\">'adam'</span><span class=\"pun\">,</span><span class=\"pln\"> </span><span class=\"str\">'sgd'</span><span class=\"pun\">])</span></li><li class=\"L0\"><span class=\"pln\">    learning_rate_selected </span><span class=\"pun\">=</span><span class=\"pln\"> hp</span><span class=\"pun\">.</span><span class=\"typ\">Choice</span><span class=\"pun\">(</span><span class=\"str\">'learning_rate'</span><span class=\"pun\">,</span><span class=\"pln\"> values</span><span class=\"pun\">=[</span><span class=\"lit\">1e-2</span><span class=\"pun\">,</span><span class=\"pln\"> </span><span class=\"lit\">1e-3</span><span class=\"pun\">,</span><span class=\"pln\"> </span><span class=\"lit\">1e-4</span><span class=\"pun\">])</span></li><li class=\"L1\"><span class=\"pln\">    </span></li><li class=\"L2\"><span class=\"pln\">    </span><span class=\"com\"># Conditional logic to instantiate the selected optimizer with the selected learning rate</span></li><li class=\"L3\"><span class=\"pln\">    </span><span class=\"kwd\">if</span><span class=\"pln\"> optimizer_selected </span><span class=\"pun\">==</span><span class=\"pln\"> </span><span class=\"str\">'adam'</span><span class=\"pun\">:</span></li><li class=\"L4\"><span class=\"pln\">        optimizer </span><span class=\"pun\">=</span><span class=\"pln\"> tf</span><span class=\"pun\">.</span><span class=\"pln\">keras</span><span class=\"pun\">.</span><span class=\"pln\">optimizers</span><span class=\"pun\">.</span><span class=\"typ\">Adam</span><span class=\"pun\">(</span><span class=\"pln\">learning_rate</span><span class=\"pun\">=</span><span class=\"pln\">learning_rate_selected</span><span class=\"pun\">)</span></li><li class=\"L5\"><span class=\"pln\">    </span><span class=\"kwd\">else</span><span class=\"pun\">:</span></li><li class=\"L6\"><span class=\"pln\">        optimizer </span><span class=\"pun\">=</span><span class=\"pln\"> tf</span><span class=\"pun\">.</span><span class=\"pln\">keras</span><span class=\"pun\">.</span><span class=\"pln\">optimizers</span><span class=\"pun\">.</span><span class=\"pln\">SGD</span><span class=\"pun\">(</span><span class=\"pln\">learning_rate</span><span class=\"pun\">=</span><span class=\"pln\">learning_rate_selected</span><span class=\"pun\">)</span></li><li class=\"L7\"><span class=\"pln\">    </span></li><li class=\"L8\"><span class=\"pln\">    </span><span class=\"com\"># Compile the model with the selected optimizer, loss, and metric</span></li><li class=\"L9\"><span class=\"pln\">    model</span><span class=\"pun\">.</span><span class=\"pln\">compile</span><span class=\"pun\">(</span></li><li class=\"L0\"><span class=\"pln\">        optimizer</span><span class=\"pun\">=</span><span class=\"pln\">optimizer</span><span class=\"pun\">,</span></li><li class=\"L1\"><span class=\"pln\">        loss</span><span class=\"pun\">=</span><span class=\"str\">'sparse_categorical_crossentropy'</span><span class=\"pun\">,</span></li><li class=\"L2\"><span class=\"pln\">        metrics</span><span class=\"pun\">=[</span><span class=\"str\">'accuracy'</span><span class=\"pun\">]</span></li><li class=\"L3\"><span class=\"pln\">    </span><span class=\"pun\">)</span></li><li class=\"L4\"><span class=\"pln\">    </span><span class=\"kwd\">return</span><span class=\"pln\"> model</span></li></ol></pre></div></div><p><br></p></li><li><p>Initialize and run the second hyperparameter search:</p><div class=\"ud-component--base-components--code-block\"><div><pre class=\"prettyprint linenums prettyprinted\" role=\"presentation\" style=\"\"><ol class=\"linenums\"><li class=\"L0\"><span class=\"com\"># Initialize the second tuner with a new search space</span></li><li class=\"L1\"><span class=\"pln\">tuner_step2 </span><span class=\"pun\">=</span><span class=\"pln\"> kt</span><span class=\"pun\">.</span><span class=\"typ\">RandomSearch</span><span class=\"pun\">(</span></li><li class=\"L2\"><span class=\"pln\">    build_model_step2</span><span class=\"pun\">,</span></li><li class=\"L3\"><span class=\"pln\">    objective</span><span class=\"pun\">=</span><span class=\"str\">'val_accuracy'</span><span class=\"pun\">,</span></li><li class=\"L4\"><span class=\"pln\">    max_trials</span><span class=\"pun\">=</span><span class=\"lit\">20</span><span class=\"pun\">,</span></li><li class=\"L5\"><span class=\"pln\">    executions_per_trial</span><span class=\"pun\">=</span><span class=\"lit\">3</span><span class=\"pun\">,</span></li><li class=\"L6\"><span class=\"pln\">    directory</span><span class=\"pun\">=</span><span class=\"str\">'tuner_step2_directory'</span><span class=\"pun\">,</span></li><li class=\"L7\"><span class=\"pln\">    project_name</span><span class=\"pun\">=</span><span class=\"str\">'step2_tuning'</span></li><li class=\"L8\"><span class=\"pun\">)</span></li><li class=\"L9\"><span class=\"pln\">&nbsp;</span></li><li class=\"L0\"><span class=\"com\"># Execute the search with the same training and validation data</span></li><li class=\"L1\"><span class=\"pln\">tuner_step2</span><span class=\"pun\">.</span><span class=\"pln\">search</span><span class=\"pun\">(</span><span class=\"pln\">X_train_dense</span><span class=\"pun\">,</span><span class=\"pln\"> y_train</span><span class=\"pun\">,</span><span class=\"pln\"> epochs</span><span class=\"pun\">=</span><span class=\"lit\">10</span><span class=\"pun\">,</span><span class=\"pln\"> validation_data</span><span class=\"pun\">=(</span><span class=\"pln\">X_test_dense</span><span class=\"pun\">,</span><span class=\"pln\"> y_test</span><span class=\"pun\">))</span></li></ol></pre></div></div><figure><img align=\"middle\" src=\"https://udemy-images.s3.amazonaws.com:443/redactor/raw/create_lab_editor/2023-11-03_15-16-42-69df901f3d609f83b6b7d31be98d178e.png\" style=\"display: none;\"><span class=\"ud-component--base-components--open-full-size-image\"><div class=\"open-full-size-image--wrapper--2kvh_\" data-purpose=\"open-full-size-image\"><img src=\"https://udemy-images.s3.amazonaws.com:443/redactor/raw/create_lab_editor/2023-11-03_15-16-42-69df901f3d609f83b6b7d31be98d178e.png\" alt=\"\" loading=\"eager\"><button type=\"button\" class=\"ud-btn ud-btn-large ud-btn-link ud-heading-md open-full-size-image--backdrop--20cbM\"><svg aria-label=\"Larger image\" role=\"img\" focusable=\"false\" class=\"ud-icon ud-icon-large ud-icon-color-neutral\"><use xlink:href=\"#icon-search\"></use></svg></button></div></span></figure></li><li><p>Review the search results from the second tuning step:</p><div class=\"ud-component--base-components--code-block\"><div><pre class=\"prettyprint linenums prettyprinted\" role=\"presentation\" style=\"\"><ol class=\"linenums\"><li class=\"L0\"><span class=\"com\"># Output the summary of the hyperparameter tuning results from step 2</span></li><li class=\"L1\"><span class=\"pln\">tuner_step2</span><span class=\"pun\">.</span><span class=\"pln\">results_summary</span><span class=\"pun\">()</span></li></ol></pre></div></div><figure><img align=\"middle\" src=\"https://udemy-images.s3.amazonaws.com:443/redactor/raw/create_lab_editor/2023-11-03_15-16-42-4eeabe8f6964b24bfcdc0c2b05be5203.png\" style=\"display: none;\"><span class=\"ud-component--base-components--open-full-size-image\"><div class=\"open-full-size-image--wrapper--2kvh_\" data-purpose=\"open-full-size-image\"><img src=\"https://udemy-images.s3.amazonaws.com:443/redactor/raw/create_lab_editor/2023-11-03_15-16-42-4eeabe8f6964b24bfcdc0c2b05be5203.png\" alt=\"\" loading=\"eager\"><button type=\"button\" class=\"ud-btn ud-btn-large ud-btn-link ud-heading-md open-full-size-image--backdrop--20cbM\"><svg aria-label=\"Larger image\" role=\"img\" focusable=\"false\" class=\"ud-icon ud-icon-large ud-icon-color-neutral\"><use xlink:href=\"#icon-search\"></use></svg></button></div></span></figure></li></ol></div>"
      ]
    },
    {
      "cell_type": "code",
      "execution_count": 54,
      "id": "587b5947-10b6-4f0b-9e9f-563db124b8d1",
      "metadata": {
        "id": "587b5947-10b6-4f0b-9e9f-563db124b8d1"
      },
      "outputs": [],
      "source": []
    },
    {
      "cell_type": "code",
      "execution_count": 1,
      "id": "3a66de52-b641-40d1-a7d2-b66a867cfad1",
      "metadata": {
        "id": "3a66de52-b641-40d1-a7d2-b66a867cfad1"
      },
      "outputs": [],
      "source": [
        "# Define the function to build the refined model:\n",
        "\n",
        "def build_model_step2(hp):\n",
        "    model = tf.keras.Sequential()\n",
        "    # Add the first layer with the best hyperparameters from step 1\n",
        "    model.add(tf.keras.layers.Dense(\n",
        "        units=tuner_step1.get_best_hyperparameters()[0].get('units'),\n",
        "        activation=tuner_step1.get_best_hyperparameters()[0].get('activation'),\n",
        "        input_shape=(X_train.shape[1],)\n",
        "    ))\n",
        "    # Add the dropout layer with the best hyperparameter from step 1\n",
        "    model.add(tf.keras.layers.Dropout(\n",
        "        rate=tuner_step1.get_best_hyperparameters()[0].get('dropout_rate')\n",
        "    ))\n",
        "    # Add a second dense layer where the number of units is a new hyperparameter to tune\n",
        "    model.add(tf.keras.layers.Dense(\n",
        "        units=hp.Int('second_units', min_value=32, max_value=512, step=32),\n",
        "        activation='softmax'\n",
        "    ))\n",
        "\n",
        "    # Set optimizer and learning rate as new hyperparameters to tune\n",
        "    optimizer_selected = hp.Choice('optimizer', values=['adam', 'sgd'])\n",
        "    learning_rate_selected = hp.Choice('learning_rate', values=[1e-2, 1e-3, 1e-4])\n",
        "\n",
        "    # Conditional logic to instantiate the selected optimizer with the selected learning rate\n",
        "    if optimizer_selected == 'adam':\n",
        "        optimizer = tf.keras.optimizers.Adam(learning_rate=learning_rate_selected)\n",
        "    else:\n",
        "        optimizer = tf.keras.optimizers.SGD(learning_rate=learning_rate_selected)\n",
        "\n",
        "    # Compile the model with the selected optimizer, loss, and metric\n",
        "    model.compile(\n",
        "        optimizer=optimizer,\n",
        "        loss='sparse_categorical_crossentropy',\n",
        "        metrics=['accuracy']\n",
        "    )\n",
        "    return model"
      ]
    },
    {
      "cell_type": "code",
      "execution_count": null,
      "id": "f2ee161c-c0fa-4c32-b4d7-c5067c9163fc",
      "metadata": {
        "id": "f2ee161c-c0fa-4c32-b4d7-c5067c9163fc",
        "outputId": "bbce00f6-a61d-4b4a-99b2-c37d62f98261",
        "colab": {
          "base_uri": "https://localhost:8080/"
        }
      },
      "outputs": [
        {
          "output_type": "stream",
          "name": "stdout",
          "text": [
            "Trial 15 Complete [00h 00m 30s]\n",
            "val_accuracy: 0.11036789168914159\n",
            "\n",
            "Best val_accuracy So Far: 0.8561872839927673\n",
            "Total elapsed time: 00h 09m 58s\n",
            "\n",
            "Search: Running Trial #16\n",
            "\n",
            "Value             |Best Value So Far |Hyperparameter\n",
            "224               |320               |second_units\n",
            "sgd               |adam              |optimizer\n",
            "0.01              |0.001             |learning_rate\n",
            "\n",
            "Epoch 1/10\n",
            "38/38 [==============================] - 2s 28ms/step - loss: 5.2955 - accuracy: 0.4635 - val_loss: 5.1652 - val_accuracy: 0.5485\n",
            "Epoch 2/10\n",
            "38/38 [==============================] - 1s 14ms/step - loss: 5.0339 - accuracy: 0.5583 - val_loss: 4.8812 - val_accuracy: 0.5485\n",
            "Epoch 3/10\n",
            "38/38 [==============================] - 1s 14ms/step - loss: 4.7218 - accuracy: 0.5583 - val_loss: 4.5401 - val_accuracy: 0.5485\n",
            "Epoch 4/10\n",
            "38/38 [==============================] - 1s 14ms/step - loss: 4.3428 - accuracy: 0.5583 - val_loss: 4.1115 - val_accuracy: 0.5485\n",
            "Epoch 5/10\n",
            "38/38 [==============================] - 1s 14ms/step - loss: 3.8545 - accuracy: 0.5583 - val_loss: 3.5458 - val_accuracy: 0.5485\n",
            "Epoch 6/10\n",
            "38/38 [==============================] - 1s 14ms/step - loss: 3.2005 - accuracy: 0.5583 - val_loss: 2.8117 - val_accuracy: 0.5485\n",
            "Epoch 7/10\n",
            "38/38 [==============================] - 1s 14ms/step - loss: 2.4229 - accuracy: 0.5583 - val_loss: 2.0172 - val_accuracy: 0.5485\n",
            "Epoch 8/10\n",
            "38/38 [==============================] - 1s 14ms/step - loss: 1.7298 - accuracy: 0.5583 - val_loss: 1.4607 - val_accuracy: 0.5485\n",
            "Epoch 9/10\n",
            "38/38 [==============================] - 1s 14ms/step - loss: 1.3226 - accuracy: 0.5583 - val_loss: 1.1819 - val_accuracy: 0.5485\n",
            "Epoch 10/10\n",
            "38/38 [==============================] - 1s 14ms/step - loss: 1.1296 - accuracy: 0.5583 - val_loss: 1.0528 - val_accuracy: 0.5485\n",
            "Epoch 1/10\n",
            "38/38 [==============================] - 1s 19ms/step - loss: 5.3016 - accuracy: 0.4099 - val_loss: 5.1688 - val_accuracy: 0.5485\n",
            "Epoch 2/10\n",
            "38/38 [==============================] - 1s 14ms/step - loss: 5.0319 - accuracy: 0.5608 - val_loss: 4.8759 - val_accuracy: 0.5485\n",
            "Epoch 3/10\n",
            "38/38 [==============================] - 1s 14ms/step - loss: 4.7130 - accuracy: 0.5583 - val_loss: 4.5237 - val_accuracy: 0.5485\n",
            "Epoch 4/10\n",
            "38/38 [==============================] - 1s 14ms/step - loss: 4.3185 - accuracy: 0.5583 - val_loss: 4.0771 - val_accuracy: 0.5485\n",
            "Epoch 5/10\n",
            "38/38 [==============================] - 1s 14ms/step - loss: 3.8038 - accuracy: 0.5583 - val_loss: 3.4863 - val_accuracy: 0.5485\n",
            "Epoch 6/10\n",
            "38/38 [==============================] - 1s 15ms/step - loss: 3.1304 - accuracy: 0.5583 - val_loss: 2.7284 - val_accuracy: 0.5485\n",
            "Epoch 7/10\n",
            "38/38 [==============================] - 1s 17ms/step - loss: 2.3337 - accuracy: 0.5583 - val_loss: 1.9510 - val_accuracy: 0.5485\n",
            "Epoch 8/10\n",
            "38/38 [==============================] - 1s 23ms/step - loss: 1.6758 - accuracy: 0.5583 - val_loss: 1.4328 - val_accuracy: 0.5485\n",
            "Epoch 9/10\n",
            "38/38 [==============================] - 1s 24ms/step - loss: 1.3098 - accuracy: 0.5583 - val_loss: 1.1772 - val_accuracy: 0.5485\n",
            "Epoch 10/10\n",
            "38/38 [==============================] - 1s 21ms/step - loss: 1.1326 - accuracy: 0.5583 - val_loss: 1.0567 - val_accuracy: 0.5485\n",
            "Epoch 1/10\n",
            "38/38 [==============================] - 1s 19ms/step - loss: 5.2925 - accuracy: 0.4518 - val_loss: 5.1589 - val_accuracy: 0.5485\n",
            "Epoch 2/10\n",
            "38/38 [==============================] - 1s 14ms/step - loss: 5.0206 - accuracy: 0.5583 - val_loss: 4.8629 - val_accuracy: 0.5485\n",
            "Epoch 3/10\n",
            "38/38 [==============================] - 1s 14ms/step - loss: 4.6929 - accuracy: 0.5583 - val_loss: 4.5019 - val_accuracy: 0.5485\n",
            "Epoch 4/10\n",
            "38/38 [==============================] - 1s 14ms/step - loss: 4.2890 - accuracy: 0.5583 - val_loss: 4.0438 - val_accuracy: 0.5485\n",
            "Epoch 5/10\n",
            "38/38 [==============================] - 1s 14ms/step - loss: 3.7667 - accuracy: 0.5583 - val_loss: 3.4374 - val_accuracy: 0.5485\n",
            "Epoch 6/10\n",
            "38/38 [==============================] - 1s 15ms/step - loss: 3.0697 - accuracy: 0.5583 - val_loss: 2.6637 - val_accuracy: 0.5485\n",
            "Epoch 7/10\n",
            "38/38 [==============================] - 1s 14ms/step - loss: 2.2761 - accuracy: 0.5583 - val_loss: 1.8928 - val_accuracy: 0.5485\n",
            "Epoch 8/10\n",
            "38/38 [==============================] - 1s 14ms/step - loss: 1.6408 - accuracy: 0.5583 - val_loss: 1.4033 - val_accuracy: 0.5485\n",
            "Epoch 9/10\n",
            "38/38 [==============================] - 1s 14ms/step - loss: 1.2897 - accuracy: 0.5583 - val_loss: 1.1616 - val_accuracy: 0.5485\n",
            "Epoch 10/10\n",
            "11/38 [=======>......................] - ETA: 0s - loss: 1.1620 - accuracy: 0.5653"
          ]
        }
      ],
      "source": [
        "# Initialize and run the second hyperparameter search:\n",
        "\n",
        "# Initialize the second tuner with a new search space\n",
        "tuner_step2 = kt.RandomSearch(\n",
        "    build_model_step2,\n",
        "    objective='val_accuracy',\n",
        "    max_trials=20,\n",
        "    executions_per_trial=3,\n",
        "    directory='tuner_step2_directory',\n",
        "    project_name='step2_tuning'\n",
        ")\n",
        "\n",
        "# Execute the search with the same training and validation data\n",
        "tuner_step2.search(X_train_dense, y_train, epochs=10, validation_data=(X_test_dense, y_test))"
      ]
    },
    {
      "cell_type": "code",
      "execution_count": null,
      "id": "3125b782-e969-4109-9ff4-62b3bb0a16a7",
      "metadata": {
        "id": "3125b782-e969-4109-9ff4-62b3bb0a16a7"
      },
      "outputs": [],
      "source": [
        "# Review the search results from the second tuning step:\n",
        "\n",
        "# Output the summary of the hyperparameter tuning results from step 2\n",
        "tuner_step2.results_summary()"
      ]
    },
    {
      "cell_type": "code",
      "execution_count": null,
      "id": "b851c605-3fee-4288-b55a-a9070aa1750c",
      "metadata": {
        "id": "b851c605-3fee-4288-b55a-a9070aa1750c"
      },
      "outputs": [],
      "source": []
    },
    {
      "cell_type": "markdown",
      "id": "e6e5946b-2e55-4d27-8f42-9b77d42c2197",
      "metadata": {
        "id": "e6e5946b-2e55-4d27-8f42-9b77d42c2197"
      },
      "source": [
        "# Task 10: Build and Save the Final Tuned Neural Network Model"
      ]
    },
    {
      "cell_type": "markdown",
      "id": "c579fde1-54a2-46b3-be85-7e5f6319a876",
      "metadata": {
        "id": "c579fde1-54a2-46b3-be85-7e5f6319a876"
      },
      "source": [
        "<div data-purpose=\"safely-set-inner-html:rich-text-viewer:html\" class=\"lab-rich-text-viewer--lab-html-content--22XsM rt-scaffolding\"><p>In this final task, you will build a final neural network model using the best hyperparameters obtained from your comprehensive two-step hyperparameter tuning process. Once the model is configured and trained, you will save it for future use, allowing for quick deployment or further analysis without the need to retrain.</p><p>Task Steps:</p><ul><li><p><strong>Construct the final model</strong> using the best hyperparameters identified through the Keras Tuner.</p></li><li><p><strong>Train the final model</strong> using the full training dataset.</p></li><li><p><strong>Evaluate the model's performance</strong> on the test dataset to confirm its accuracy.</p></li><li><p><strong>Save the final trained model </strong>to a file.</p><p><br></p></li></ul></div>\n",
        "\n",
        "<div data-purpose=\"safely-set-inner-html:rich-text-viewer:html\" class=\"lab-rich-text-viewer--lab-html-content--22XsM rt-scaffolding\"><ol><li><p>Define and build the final model:</p><div class=\"ud-component--base-components--code-block\"><div><pre class=\"prettyprint linenums prettyprinted\" role=\"presentation\" style=\"\"><ol class=\"linenums\"><li class=\"L0\"><span class=\"kwd\">def</span><span class=\"pln\"> build_final_model</span><span class=\"pun\">(</span><span class=\"pln\">best_hps_step1</span><span class=\"pun\">,</span><span class=\"pln\"> best_hps_step2</span><span class=\"pun\">):</span></li><li class=\"L1\"><span class=\"pln\">    model </span><span class=\"pun\">=</span><span class=\"pln\"> tf</span><span class=\"pun\">.</span><span class=\"pln\">keras</span><span class=\"pun\">.</span><span class=\"typ\">Sequential</span><span class=\"pun\">()</span></li><li class=\"L2\"><span class=\"pln\">    </span></li><li class=\"L3\"><span class=\"pln\">    </span><span class=\"com\"># First dense layer with best units and activation from step 1</span></li><li class=\"L4\"><span class=\"pln\">    model</span><span class=\"pun\">.</span><span class=\"pln\">add</span><span class=\"pun\">(</span><span class=\"pln\">tf</span><span class=\"pun\">.</span><span class=\"pln\">keras</span><span class=\"pun\">.</span><span class=\"pln\">layers</span><span class=\"pun\">.</span><span class=\"typ\">Dense</span><span class=\"pun\">(</span></li><li class=\"L5\"><span class=\"pln\">        units</span><span class=\"pun\">=</span><span class=\"pln\">best_hps_step1</span><span class=\"pun\">.</span><span class=\"kwd\">get</span><span class=\"pun\">(</span><span class=\"str\">'units'</span><span class=\"pun\">),</span></li><li class=\"L6\"><span class=\"pln\">        activation</span><span class=\"pun\">=</span><span class=\"pln\">best_hps_step1</span><span class=\"pun\">.</span><span class=\"kwd\">get</span><span class=\"pun\">(</span><span class=\"str\">'activation'</span><span class=\"pun\">),</span></li><li class=\"L7\"><span class=\"pln\">        input_shape</span><span class=\"pun\">=(</span><span class=\"pln\">X_train</span><span class=\"pun\">.</span><span class=\"pln\">shape</span><span class=\"pun\">[</span><span class=\"lit\">1</span><span class=\"pun\">],)</span></li><li class=\"L8\"><span class=\"pln\">    </span><span class=\"pun\">))</span></li><li class=\"L9\"><span class=\"pln\">    </span></li><li class=\"L0\"><span class=\"pln\">    </span><span class=\"com\"># Dropout layer with the best rate from step 1</span></li><li class=\"L1\"><span class=\"pln\">    model</span><span class=\"pun\">.</span><span class=\"pln\">add</span><span class=\"pun\">(</span><span class=\"pln\">tf</span><span class=\"pun\">.</span><span class=\"pln\">keras</span><span class=\"pun\">.</span><span class=\"pln\">layers</span><span class=\"pun\">.</span><span class=\"typ\">Dropout</span><span class=\"pun\">(</span><span class=\"pln\">best_hps_step1</span><span class=\"pun\">.</span><span class=\"kwd\">get</span><span class=\"pun\">(</span><span class=\"str\">'dropout_rate'</span><span class=\"pun\">)))</span></li><li class=\"L2\"><span class=\"pln\">    </span></li><li class=\"L3\"><span class=\"pln\">    </span><span class=\"com\"># Second dense layer with best units from step 2</span></li><li class=\"L4\"><span class=\"pln\">    model</span><span class=\"pun\">.</span><span class=\"pln\">add</span><span class=\"pun\">(</span><span class=\"pln\">tf</span><span class=\"pun\">.</span><span class=\"pln\">keras</span><span class=\"pun\">.</span><span class=\"pln\">layers</span><span class=\"pun\">.</span><span class=\"typ\">Dense</span><span class=\"pun\">(</span></li><li class=\"L5\"><span class=\"pln\">        units</span><span class=\"pun\">=</span><span class=\"pln\">best_hps_step2</span><span class=\"pun\">.</span><span class=\"kwd\">get</span><span class=\"pun\">(</span><span class=\"str\">'second_units'</span><span class=\"pun\">),</span></li><li class=\"L6\"><span class=\"pln\">        activation</span><span class=\"pun\">=</span><span class=\"str\">'softmax'</span></li><li class=\"L7\"><span class=\"pln\">    </span><span class=\"pun\">))</span></li><li class=\"L8\"><span class=\"pln\">    </span></li><li class=\"L9\"><span class=\"pln\">    </span><span class=\"com\"># Set the optimizer with the best type and learning rate from step 2</span></li><li class=\"L0\"><span class=\"pln\">    </span><span class=\"kwd\">if</span><span class=\"pln\"> best_hps_step2</span><span class=\"pun\">.</span><span class=\"kwd\">get</span><span class=\"pun\">(</span><span class=\"str\">'optimizer'</span><span class=\"pun\">)</span><span class=\"pln\"> </span><span class=\"pun\">==</span><span class=\"pln\"> </span><span class=\"str\">'adam'</span><span class=\"pun\">:</span></li><li class=\"L1\"><span class=\"pln\">        optimizer </span><span class=\"pun\">=</span><span class=\"pln\"> tf</span><span class=\"pun\">.</span><span class=\"pln\">keras</span><span class=\"pun\">.</span><span class=\"pln\">optimizers</span><span class=\"pun\">.</span><span class=\"typ\">Adam</span><span class=\"pun\">(</span><span class=\"pln\">learning_rate</span><span class=\"pun\">=</span><span class=\"pln\">best_hps_step2</span><span class=\"pun\">.</span><span class=\"kwd\">get</span><span class=\"pun\">(</span><span class=\"str\">'learning_rate'</span><span class=\"pun\">))</span></li><li class=\"L2\"><span class=\"pln\">    </span><span class=\"kwd\">else</span><span class=\"pun\">:</span></li><li class=\"L3\"><span class=\"pln\">        optimizer </span><span class=\"pun\">=</span><span class=\"pln\"> tf</span><span class=\"pun\">.</span><span class=\"pln\">keras</span><span class=\"pun\">.</span><span class=\"pln\">optimizers</span><span class=\"pun\">.</span><span class=\"pln\">SGD</span><span class=\"pun\">(</span><span class=\"pln\">learning_rate</span><span class=\"pun\">=</span><span class=\"pln\">best_hps_step2</span><span class=\"pun\">.</span><span class=\"kwd\">get</span><span class=\"pun\">(</span><span class=\"str\">'learning_rate'</span><span class=\"pun\">))</span></li><li class=\"L4\"><span class=\"pln\">    </span></li><li class=\"L5\"><span class=\"pln\">    </span><span class=\"com\"># Compile the model</span></li><li class=\"L6\"><span class=\"pln\">    model</span><span class=\"pun\">.</span><span class=\"pln\">compile</span><span class=\"pun\">(</span></li><li class=\"L7\"><span class=\"pln\">        optimizer</span><span class=\"pun\">=</span><span class=\"pln\">optimizer</span><span class=\"pun\">,</span></li><li class=\"L8\"><span class=\"pln\">        loss</span><span class=\"pun\">=</span><span class=\"str\">'sparse_categorical_crossentropy'</span><span class=\"pun\">,</span></li><li class=\"L9\"><span class=\"pln\">        metrics</span><span class=\"pun\">=[</span><span class=\"str\">'accuracy'</span><span class=\"pun\">]</span></li><li class=\"L0\"><span class=\"pln\">    </span><span class=\"pun\">)</span></li><li class=\"L1\"><span class=\"pln\">    </span></li><li class=\"L2\"><span class=\"pln\">    </span><span class=\"kwd\">return</span><span class=\"pln\"> model</span></li><li class=\"L3\"><span class=\"pln\">&nbsp;</span></li><li class=\"L4\"><span class=\"com\"># Retrieve the best hyperparameters from the first tuner</span></li><li class=\"L5\"><span class=\"pln\">best_hps_step1 </span><span class=\"pun\">=</span><span class=\"pln\"> tuner_step1</span><span class=\"pun\">.</span><span class=\"pln\">get_best_hyperparameters</span><span class=\"pun\">()[</span><span class=\"lit\">0</span><span class=\"pun\">]</span></li><li class=\"L6\"><span class=\"pln\">&nbsp;</span></li><li class=\"L7\"><span class=\"com\"># Retrieve the best hyperparameters from the second tuner</span></li><li class=\"L8\"><span class=\"pln\">best_hps_step2 </span><span class=\"pun\">=</span><span class=\"pln\"> tuner_step2</span><span class=\"pun\">.</span><span class=\"pln\">get_best_hyperparameters</span><span class=\"pun\">()[</span><span class=\"lit\">0</span><span class=\"pun\">]</span></li><li class=\"L9\"><span class=\"pln\">&nbsp;</span></li><li class=\"L0\"><span class=\"com\"># Build the final model using the best hyperparameters from both tuning steps</span></li><li class=\"L1\"><span class=\"pln\">final_model </span><span class=\"pun\">=</span><span class=\"pln\"> build_final_model</span><span class=\"pun\">(</span><span class=\"pln\">best_hps_step1</span><span class=\"pun\">,</span><span class=\"pln\"> best_hps_step2</span><span class=\"pun\">)</span></li></ol></pre></div></div><p><br></p></li><li><p>Train the final model:</p><div class=\"ud-component--base-components--code-block\"><div><pre class=\"prettyprint linenums prettyprinted\" role=\"presentation\" style=\"\"><ol class=\"linenums\"><li class=\"L0\"><span class=\"com\"># Train the final model with the training data</span></li><li class=\"L1\"><span class=\"pln\">history_final </span><span class=\"pun\">=</span><span class=\"pln\"> final_model</span><span class=\"pun\">.</span><span class=\"pln\">fit</span><span class=\"pun\">(</span></li><li class=\"L2\"><span class=\"pln\">    X_train_dense</span><span class=\"pun\">,</span></li><li class=\"L3\"><span class=\"pln\">    y_train</span><span class=\"pun\">,</span></li><li class=\"L4\"><span class=\"pln\">    epochs</span><span class=\"pun\">=</span><span class=\"lit\">10</span><span class=\"pun\">,</span><span class=\"pln\">  </span></li><li class=\"L5\"><span class=\"pln\">    batch_size</span><span class=\"pun\">=</span><span class=\"lit\">32</span><span class=\"pun\">,</span></li><li class=\"L6\"><span class=\"pln\">    validation_data</span><span class=\"pun\">=(</span><span class=\"pln\">X_test_dense</span><span class=\"pun\">,</span><span class=\"pln\"> y_test</span><span class=\"pun\">)</span></li><li class=\"L7\"><span class=\"pun\">)</span></li></ol></pre></div></div><figure><img align=\"middle\" src=\"https://udemy-images.s3.amazonaws.com:443/redactor/raw/create_lab_editor/2023-11-03_15-20-09-20282cedcb07d68d194d590df6254b1b.png\" style=\"display: none;\"><span class=\"ud-component--base-components--open-full-size-image\"><div class=\"open-full-size-image--wrapper--2kvh_\" data-purpose=\"open-full-size-image\"><img src=\"https://udemy-images.s3.amazonaws.com:443/redactor/raw/create_lab_editor/2023-11-03_15-20-09-20282cedcb07d68d194d590df6254b1b.png\" alt=\"\" loading=\"eager\"><button type=\"button\" class=\"ud-btn ud-btn-large ud-btn-link ud-heading-md open-full-size-image--backdrop--20cbM\"><svg aria-label=\"Larger image\" role=\"img\" focusable=\"false\" class=\"ud-icon ud-icon-large ud-icon-color-neutral\"><use xlink:href=\"#icon-search\"></use></svg></button></div></span></figure></li><li><p>Evaluate the final model's performance:</p><div class=\"ud-component--base-components--code-block\"><div><pre class=\"prettyprint linenums prettyprinted\" role=\"presentation\" style=\"\"><ol class=\"linenums\"><li class=\"L0\"><span class=\"com\"># Evaluate the final model on the test data</span></li><li class=\"L1\"><span class=\"pln\">final_loss</span><span class=\"pun\">,</span><span class=\"pln\"> final_accuracy </span><span class=\"pun\">=</span><span class=\"pln\"> final_model</span><span class=\"pun\">.</span><span class=\"pln\">evaluate</span><span class=\"pun\">(</span><span class=\"pln\">X_test_dense</span><span class=\"pun\">,</span><span class=\"pln\"> y_test</span><span class=\"pun\">)</span></li><li class=\"L2\"><span class=\"kwd\">print</span><span class=\"pun\">(</span><span class=\"pln\">f</span><span class=\"str\">'Final Model Loss: {final_loss}'</span><span class=\"pun\">)</span></li><li class=\"L3\"><span class=\"kwd\">print</span><span class=\"pun\">(</span><span class=\"pln\">f</span><span class=\"str\">'Final Model Accuracy: {final_accuracy}'</span><span class=\"pun\">)</span></li></ol></pre></div></div><figure><img align=\"middle\" src=\"https://udemy-images.s3.amazonaws.com:443/redactor/raw/create_lab_editor/2023-11-03_15-20-09-4b43578c6228d08325e73197cd954c05.png\" style=\"display: none;\"><span class=\"ud-component--base-components--open-full-size-image\"><div class=\"open-full-size-image--wrapper--2kvh_\" data-purpose=\"open-full-size-image\"><img src=\"https://udemy-images.s3.amazonaws.com:443/redactor/raw/create_lab_editor/2023-11-03_15-20-09-4b43578c6228d08325e73197cd954c05.png\" alt=\"\" loading=\"eager\"><button type=\"button\" class=\"ud-btn ud-btn-large ud-btn-link ud-heading-md open-full-size-image--backdrop--20cbM\"><svg aria-label=\"Larger image\" role=\"img\" focusable=\"false\" class=\"ud-icon ud-icon-large ud-icon-color-neutral\"><use xlink:href=\"#icon-search\"></use></svg></button></div></span></figure></li><li><p>Save the final model:</p><div class=\"ud-component--base-components--code-block\"><div><pre class=\"prettyprint linenums prettyprinted\" role=\"presentation\" style=\"\"><ol class=\"linenums\"><li class=\"L0\"><span class=\"com\"># Save the final model to a file</span></li><li class=\"L1\"><span class=\"pln\">final_model</span><span class=\"pun\">.</span><span class=\"pln\">save</span><span class=\"pun\">(</span><span class=\"str\">'final_model.h5'</span><span class=\"pun\">)</span></li><li class=\"L2\"><span class=\"kwd\">print</span><span class=\"pun\">(</span><span class=\"str\">\"Final model saved to 'final_model.h5'\"</span><span class=\"pun\">)</span></li></ol></pre></div></div><figure><img align=\"middle\" src=\"https://udemy-images.s3.amazonaws.com:443/redactor/raw/create_lab_editor/2023-11-03_15-20-09-b5a55547df4c779850479a59ac8b86db.png\" style=\"display: none;\"><span class=\"ud-component--base-components--open-full-size-image\"><div class=\"open-full-size-image--wrapper--2kvh_\" data-purpose=\"open-full-size-image\"><img src=\"https://udemy-images.s3.amazonaws.com:443/redactor/raw/create_lab_editor/2023-11-03_15-20-09-b5a55547df4c779850479a59ac8b86db.png\" alt=\"\" loading=\"eager\"><button type=\"button\" class=\"ud-btn ud-btn-large ud-btn-link ud-heading-md open-full-size-image--backdrop--20cbM\"><svg aria-label=\"Larger image\" role=\"img\" focusable=\"false\" class=\"ud-icon ud-icon-large ud-icon-color-neutral\"><use xlink:href=\"#icon-search\"></use></svg></button></div></span></figure></li></ol></div>"
      ]
    },
    {
      "cell_type": "code",
      "execution_count": null,
      "id": "7f342719-6967-474c-8d8d-3037ed67324b",
      "metadata": {
        "id": "7f342719-6967-474c-8d8d-3037ed67324b"
      },
      "outputs": [],
      "source": []
    },
    {
      "cell_type": "code",
      "execution_count": null,
      "id": "94f19069-d7c6-4ccd-bd10-86c9baa03e03",
      "metadata": {
        "id": "94f19069-d7c6-4ccd-bd10-86c9baa03e03"
      },
      "outputs": [],
      "source": [
        "# Define and build the final model:\n",
        "\n",
        "def build_final_model(best_hps_step1, best_hps_step2):\n",
        "    model = tf.keras.Sequential()\n",
        "\n",
        "    # First dense layer with best units and activation from step 1\n",
        "    model.add(tf.keras.layers.Dense(\n",
        "        units=best_hps_step1.get('units'),\n",
        "        activation=best_hps_step1.get('activation'),\n",
        "        input_shape=(X_train.shape[1],)\n",
        "    ))\n",
        "\n",
        "    # Dropout layer with the best rate from step 1\n",
        "    model.add(tf.keras.layers.Dropout(best_hps_step1.get('dropout_rate')))\n",
        "\n",
        "    # Second dense layer with best units from step 2\n",
        "    model.add(tf.keras.layers.Dense(\n",
        "        units=best_hps_step2.get('second_units'),\n",
        "        activation='softmax'\n",
        "    ))\n",
        "\n",
        "    # Set the optimizer with the best type and learning rate from step 2\n",
        "    if best_hps_step2.get('optimizer') == 'adam':\n",
        "        optimizer = tf.keras.optimizers.Adam(learning_rate=best_hps_step2.get('learning_rate'))\n",
        "    else:\n",
        "        optimizer = tf.keras.optimizers.SGD(learning_rate=best_hps_step2.get('learning_rate'))\n",
        "\n",
        "    # Compile the model\n",
        "    model.compile(\n",
        "        optimizer=optimizer,\n",
        "        loss='sparse_categorical_crossentropy',\n",
        "        metrics=['accuracy']\n",
        "    )\n",
        "\n",
        "    return model\n",
        "\n",
        "# Retrieve the best hyperparameters from the first tuner\n",
        "best_hps_step1 = tuner_step1.get_best_hyperparameters()[0]\n",
        "\n",
        "# Retrieve the best hyperparameters from the second tuner\n",
        "best_hps_step2 = tuner_step2.get_best_hyperparameters()[0]\n",
        "\n",
        "# Build the final model using the best hyperparameters from both tuning steps\n",
        "final_model = build_final_model(best_hps_step1, best_hps_step2)"
      ]
    },
    {
      "cell_type": "code",
      "execution_count": null,
      "id": "d15ff4c1-8a80-436b-b054-fe6ff5fe5c2e",
      "metadata": {
        "id": "d15ff4c1-8a80-436b-b054-fe6ff5fe5c2e"
      },
      "outputs": [],
      "source": [
        "# Train the final model:\n",
        "\n",
        "# Train the final model with the training data\n",
        "history_final = final_model.fit(\n",
        "    X_train_dense,\n",
        "    y_train,\n",
        "    epochs=10,\n",
        "    batch_size=32,\n",
        "    validation_data=(X_test_dense, y_test)\n",
        ")"
      ]
    },
    {
      "cell_type": "code",
      "execution_count": null,
      "id": "70394213-e950-4c6d-8780-5b2c905728a4",
      "metadata": {
        "id": "70394213-e950-4c6d-8780-5b2c905728a4"
      },
      "outputs": [],
      "source": [
        "# Evaluate the final model's performance:\n",
        "\n",
        "# Evaluate the final model on the test data\n",
        "final_loss, final_accuracy = final_model.evaluate(X_test_dense, y_test)\n",
        "print(f'Final Model Loss: {final_loss}')\n",
        "print(f'Final Model Accuracy: {final_accuracy}')"
      ]
    },
    {
      "cell_type": "code",
      "execution_count": null,
      "id": "40993594-4948-4da1-91b9-04168bf2a682",
      "metadata": {
        "id": "40993594-4948-4da1-91b9-04168bf2a682"
      },
      "outputs": [],
      "source": [
        "# Save the final model:\n",
        "\n",
        "# Save the final model to a file\n",
        "final_model.save('final_model.h5')\n",
        "print(\"Final model saved to 'final_model.h5'\")"
      ]
    },
    {
      "cell_type": "code",
      "execution_count": null,
      "id": "0dbf3a33-1fb0-447c-a90e-ced9122ddaa8",
      "metadata": {
        "id": "0dbf3a33-1fb0-447c-a90e-ced9122ddaa8"
      },
      "outputs": [],
      "source": []
    }
  ],
  "metadata": {
    "kernelspec": {
      "display_name": "Python 3 (ipykernel)",
      "language": "python",
      "name": "python3"
    },
    "language_info": {
      "codemirror_mode": {
        "name": "ipython",
        "version": 3
      },
      "file_extension": ".py",
      "mimetype": "text/x-python",
      "name": "python",
      "nbconvert_exporter": "python",
      "pygments_lexer": "ipython3",
      "version": "3.10.9"
    },
    "colab": {
      "provenance": []
    }
  },
  "nbformat": 4,
  "nbformat_minor": 5
}