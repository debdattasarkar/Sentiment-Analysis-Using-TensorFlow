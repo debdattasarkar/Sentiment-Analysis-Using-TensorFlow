{
 "cells": [
  {
   "cell_type": "markdown",
   "id": "994d6af3-4290-4ae5-b7a4-10c25a9f9943",
   "metadata": {
    "id": "994d6af3-4290-4ae5-b7a4-10c25a9f9943"
   },
   "source": [
    "# Task 1 : Create a DataFrame from a Text File with Sentence-Label Pairs"
   ]
  },
  {
   "cell_type": "markdown",
   "id": "38b1c426-3cfd-42a6-9da9-321a9d66b2c3",
   "metadata": {
    "id": "38b1c426-3cfd-42a6-9da9-321a9d66b2c3"
   },
   "source": [
    "<div class=\"task-panel-v2--description--15n8T\">\n",
    "    <div data-purpose=\"safely-set-inner-html:rich-text-viewer:html\"\n",
    "        class=\"lab-rich-text-viewer--lab-html-content--22XsM rt-scaffolding\">\n",
    "        <p>Construct a Pandas DataFrame from a text file that contains sentence-label pairs. Each line in the text file\n",
    "            follows the format <code><strong>sentence@label</strong></code>. This task involves:</p>\n",
    "        <ul>\n",
    "            <li>\n",
    "                <p>Reading data from 'Sentences_75Agree_sample.txt'.</p>\n",
    "            </li>\n",
    "            <li>\n",
    "                <p>Parsing each line to separate sentences from labels.</p>\n",
    "            </li>\n",
    "            <li>\n",
    "                <p>Creating a DataFrame with two columns: 'Sentence' and 'Label'.</p>\n",
    "                <p><br></p>\n",
    "            </li>\n",
    "        </ul>\n",
    "    </div>\n",
    "</div>"
   ]
  },
  {
   "cell_type": "code",
   "execution_count": 1,
   "id": "e819d824-252a-4df0-9612-c24190504a8e",
   "metadata": {
    "id": "e819d824-252a-4df0-9612-c24190504a8e"
   },
   "outputs": [],
   "source": [
    "# import pandas for data manipulation\n",
    "import pandas as pd"
   ]
  },
  {
   "cell_type": "code",
   "execution_count": 2,
   "id": "fd02a5d9-0ddc-462d-adf3-096d657811f3",
   "metadata": {
    "colab": {
     "base_uri": "https://localhost:8080/"
    },
    "id": "fd02a5d9-0ddc-462d-adf3-096d657811f3",
    "outputId": "0899ad2b-5b6c-44a7-c1d9-96c319953e1a"
   },
   "outputs": [
    {
     "data": {
      "text/plain": [
       "['According to Gran , the company has no plans to move all production to Russia , although that is where the company is growing .@neutral\\n',\n",
       " 'With the new production plant the company would increase its capacity to meet the expected increase in demand and would improve the use of raw materials and therefore increase the production profitability .@positive\\n',\n",
       " \"For the last quarter of 2010 , Componenta 's net sales doubled to EUR131m from EUR76m for the same period a year earlier , while it moved to a zero pre-tax profit from a pre-tax loss of EUR7m .@positive\\n\",\n",
       " 'In the third quarter of 2010 , net sales increased by 5.2 % to EUR 205.5 mn , and operating profit by 34.9 % to EUR 23.5 mn .@positive\\n',\n",
       " 'Operating profit rose to EUR 13.1 mn from EUR 8.7 mn in the corresponding period in 2007 representing 7.7 % of net sales .@positive\\n']"
      ]
     },
     "execution_count": 2,
     "metadata": {},
     "output_type": "execute_result"
    }
   ],
   "source": [
    "# Open the text file and read all lines\n",
    "with open('Sentences_75Agree_sample.txt', 'r', encoding='latin1') as file:\n",
    "    lines = file.readlines()\n",
    "lines[:5]\n",
    "\n",
    "# To close the file automatically without calling the close() method, you use the 'with' statement as here\n",
    "# '''\n",
    "# https://www.pythontutorial.net/python-basics/python-read-text-file/\n",
    "# The code in the previous examples works fine with ASCII text files. However, if you’re dealing with other languages such as Japanese, Chinese, and\n",
    "# Korean, the text file is not a simple ASCII text file. And it’s likely a UTF-8 file that uses more than just the standard ASCII text characters.\n",
    "\n",
    "# To open a UTF-8 text file, you need to pass the encoding='utf-8' to the open() function to instruct it to expect UTF-8 characters from the file.\n",
    "# '''"
   ]
  },
  {
   "cell_type": "code",
   "execution_count": 3,
   "id": "39c45138-3382-463c-81ad-236db565e977",
   "metadata": {
    "id": "39c45138-3382-463c-81ad-236db565e977"
   },
   "outputs": [],
   "source": [
    "# Split each linr at '@' to separate sentences and labels and strip whitespaces\n",
    "data = [line.strip().split('@') for line in lines]"
   ]
  },
  {
   "cell_type": "code",
   "execution_count": 4,
   "id": "2efe112d-c4de-44c8-9928-5f5eb9de1656",
   "metadata": {
    "colab": {
     "base_uri": "https://localhost:8080/"
    },
    "id": "2efe112d-c4de-44c8-9928-5f5eb9de1656",
    "outputId": "19d50eb6-3641-4317-e334-04d564592ae0"
   },
   "outputs": [
    {
     "data": {
      "text/plain": [
       "[['According to Gran , the company has no plans to move all production to Russia , although that is where the company is growing .',\n",
       "  'neutral'],\n",
       " ['With the new production plant the company would increase its capacity to meet the expected increase in demand and would improve the use of raw materials and therefore increase the production profitability .',\n",
       "  'positive'],\n",
       " [\"For the last quarter of 2010 , Componenta 's net sales doubled to EUR131m from EUR76m for the same period a year earlier , while it moved to a zero pre-tax profit from a pre-tax loss of EUR7m .\",\n",
       "  'positive']]"
      ]
     },
     "execution_count": 4,
     "metadata": {},
     "output_type": "execute_result"
    }
   ],
   "source": [
    "data[:3]"
   ]
  },
  {
   "cell_type": "code",
   "execution_count": 5,
   "id": "1432909e-a81d-421a-b794-9b3c584ed46b",
   "metadata": {
    "id": "1432909e-a81d-421a-b794-9b3c584ed46b"
   },
   "outputs": [],
   "source": [
    "df = pd.DataFrame(data, columns=['Sentence', 'Label'])"
   ]
  },
  {
   "cell_type": "code",
   "execution_count": 6,
   "id": "db040921-3674-4d04-9ef8-57563fa48864",
   "metadata": {
    "colab": {
     "base_uri": "https://localhost:8080/",
     "height": 206
    },
    "id": "db040921-3674-4d04-9ef8-57563fa48864",
    "outputId": "0dce79cd-5980-454c-948c-b05c61fd8420"
   },
   "outputs": [
    {
     "data": {
      "text/html": [
       "<div>\n",
       "<style scoped>\n",
       "    .dataframe tbody tr th:only-of-type {\n",
       "        vertical-align: middle;\n",
       "    }\n",
       "\n",
       "    .dataframe tbody tr th {\n",
       "        vertical-align: top;\n",
       "    }\n",
       "\n",
       "    .dataframe thead th {\n",
       "        text-align: right;\n",
       "    }\n",
       "</style>\n",
       "<table border=\"1\" class=\"dataframe\">\n",
       "  <thead>\n",
       "    <tr style=\"text-align: right;\">\n",
       "      <th></th>\n",
       "      <th>Sentence</th>\n",
       "      <th>Label</th>\n",
       "    </tr>\n",
       "  </thead>\n",
       "  <tbody>\n",
       "    <tr>\n",
       "      <th>0</th>\n",
       "      <td>According to Gran , the company has no plans t...</td>\n",
       "      <td>neutral</td>\n",
       "    </tr>\n",
       "    <tr>\n",
       "      <th>1</th>\n",
       "      <td>With the new production plant the company woul...</td>\n",
       "      <td>positive</td>\n",
       "    </tr>\n",
       "    <tr>\n",
       "      <th>2</th>\n",
       "      <td>For the last quarter of 2010 , Componenta 's n...</td>\n",
       "      <td>positive</td>\n",
       "    </tr>\n",
       "    <tr>\n",
       "      <th>3</th>\n",
       "      <td>In the third quarter of 2010 , net sales incre...</td>\n",
       "      <td>positive</td>\n",
       "    </tr>\n",
       "    <tr>\n",
       "      <th>4</th>\n",
       "      <td>Operating profit rose to EUR 13.1 mn from EUR ...</td>\n",
       "      <td>positive</td>\n",
       "    </tr>\n",
       "  </tbody>\n",
       "</table>\n",
       "</div>"
      ],
      "text/plain": [
       "                                            Sentence     Label\n",
       "0  According to Gran , the company has no plans t...   neutral\n",
       "1  With the new production plant the company woul...  positive\n",
       "2  For the last quarter of 2010 , Componenta 's n...  positive\n",
       "3  In the third quarter of 2010 , net sales incre...  positive\n",
       "4  Operating profit rose to EUR 13.1 mn from EUR ...  positive"
      ]
     },
     "execution_count": 6,
     "metadata": {},
     "output_type": "execute_result"
    }
   ],
   "source": [
    "df.head()"
   ]
  },
  {
   "cell_type": "code",
   "execution_count": null,
   "id": "29548b3a-72f8-4e86-befb-107c7bc8d5ae",
   "metadata": {
    "id": "29548b3a-72f8-4e86-befb-107c7bc8d5ae"
   },
   "outputs": [],
   "source": []
  },
  {
   "cell_type": "markdown",
   "id": "71c47d1c-5873-46a8-baf4-37d2e419300b",
   "metadata": {
    "id": "71c47d1c-5873-46a8-baf4-37d2e419300b"
   },
   "source": [
    "# Task 2: Visual Analysis of Label Distribution and Sentence Lengths in Text Data"
   ]
  },
  {
   "cell_type": "markdown",
   "id": "32ec75df-5330-404d-b76f-868047a42051",
   "metadata": {
    "id": "32ec75df-5330-404d-b76f-868047a42051"
   },
   "source": [
    "<div data-purpose=\"safely-set-inner-html:rich-text-viewer:html\" class=\"lab-rich-text-viewer--lab-html-content--22XsM rt-scaffolding\"><p>In this task, you will analyze a preloaded dataset containing sentences and their corresponding labels. You will visualize the frequency of each label to understand the distribution of categories within the data. Additionally, you will calculate and plot the distribution of sentence lengths to gain insights into the variability of sentence construction within the dataset.</p><p><br></p></div>"
   ]
  },
  {
   "cell_type": "code",
   "execution_count": 7,
   "id": "ade6f3cd-9bf7-4e44-b02b-c42ea375f6d6",
   "metadata": {
    "id": "ade6f3cd-9bf7-4e44-b02b-c42ea375f6d6"
   },
   "outputs": [],
   "source": [
    "# Pandas already imported and Matplotlib to be imported\n",
    "import matplotlib.pyplot as plt"
   ]
  },
  {
   "cell_type": "code",
   "execution_count": 8,
   "id": "d3e3ff9a-51eb-44f7-ad73-5bbebe03d904",
   "metadata": {
    "colab": {
     "base_uri": "https://localhost:8080/",
     "height": 206
    },
    "id": "d3e3ff9a-51eb-44f7-ad73-5bbebe03d904",
    "outputId": "831c8fd7-489e-42af-e18c-4024a54e2055"
   },
   "outputs": [
    {
     "data": {
      "text/html": [
       "<div>\n",
       "<style scoped>\n",
       "    .dataframe tbody tr th:only-of-type {\n",
       "        vertical-align: middle;\n",
       "    }\n",
       "\n",
       "    .dataframe tbody tr th {\n",
       "        vertical-align: top;\n",
       "    }\n",
       "\n",
       "    .dataframe thead th {\n",
       "        text-align: right;\n",
       "    }\n",
       "</style>\n",
       "<table border=\"1\" class=\"dataframe\">\n",
       "  <thead>\n",
       "    <tr style=\"text-align: right;\">\n",
       "      <th></th>\n",
       "      <th>Label</th>\n",
       "    </tr>\n",
       "  </thead>\n",
       "  <tbody>\n",
       "    <tr>\n",
       "      <th>0</th>\n",
       "      <td>neutral</td>\n",
       "    </tr>\n",
       "    <tr>\n",
       "      <th>1</th>\n",
       "      <td>positive</td>\n",
       "    </tr>\n",
       "    <tr>\n",
       "      <th>2</th>\n",
       "      <td>positive</td>\n",
       "    </tr>\n",
       "    <tr>\n",
       "      <th>3</th>\n",
       "      <td>positive</td>\n",
       "    </tr>\n",
       "    <tr>\n",
       "      <th>4</th>\n",
       "      <td>positive</td>\n",
       "    </tr>\n",
       "  </tbody>\n",
       "</table>\n",
       "</div>"
      ],
      "text/plain": [
       "      Label\n",
       "0   neutral\n",
       "1  positive\n",
       "2  positive\n",
       "3  positive\n",
       "4  positive"
      ]
     },
     "execution_count": 8,
     "metadata": {},
     "output_type": "execute_result"
    }
   ],
   "source": [
    "# Create Df for 'Label' column for Analysis and easy mannipulation\n",
    "labels_df = pd.DataFrame(df.Label, columns=['Label'])\n",
    "labels_df.head()"
   ]
  },
  {
   "cell_type": "code",
   "execution_count": 9,
   "id": "42814d2a-5d3b-4a4f-a92d-800be78ea71d",
   "metadata": {
    "colab": {
     "base_uri": "https://localhost:8080/",
     "height": 519
    },
    "id": "42814d2a-5d3b-4a4f-a92d-800be78ea71d",
    "outputId": "a3d26d54-e7a8-4990-9bb3-b663ce1721dd"
   },
   "outputs": [
    {
     "data": {
      "image/png": "[encoded data removed]",
      "text/plain": [
       "<Figure size 640x480 with 1 Axes>"
      ]
     },
     "metadata": {},
     "output_type": "display_data"
    }
   ],
   "source": [
    "# Use a bar chart to visualize how frequently each labe occurs in the dataset\n",
    "labels_df['Label'].value_counts().plot(kind='bar')\n",
    "plt.title('Distribution of Labels')\n",
    "plt.xlabel('Label')\n",
    "plt.ylabel('Count')\n",
    "plt.show()"
   ]
  },
  {
   "cell_type": "code",
   "execution_count": 10,
   "id": "2a76a95b-2b39-40a7-92e1-e997387ac72b",
   "metadata": {
    "colab": {
     "base_uri": "https://localhost:8080/"
    },
    "id": "2a76a95b-2b39-40a7-92e1-e997387ac72b",
    "outputId": "bd28ee30-ed24-49f0-dc72-352d378db629"
   },
   "outputs": [
    {
     "data": {
      "text/plain": [
       "[25, 33, 39, 29, 24]"
      ]
     },
     "execution_count": 10,
     "metadata": {},
     "output_type": "execute_result"
    }
   ],
   "source": [
    "# Determine the number of words in each sentence to analyze sentence length\n",
    "sentence_lengths = [len(sentence.split()) for sentence in df.Sentence]\n",
    "sentence_lengths[:5]"
   ]
  },
  {
   "cell_type": "code",
   "execution_count": 11,
   "id": "0dad84ca-6eef-4131-bf44-9a317af17e60",
   "metadata": {
    "colab": {
     "base_uri": "https://localhost:8080/",
     "height": 489
    },
    "id": "0dad84ca-6eef-4131-bf44-9a317af17e60",
    "outputId": "4c37a4e6-c2b3-4fb2-e1ce-867572b8244a"
   },
   "outputs": [
    {
     "data": {
      "text/plain": [
       "[]"
      ]
     },
     "execution_count": 11,
     "metadata": {},
     "output_type": "execute_result"
    },
    {
     "data": {
      "image/png": "[encoded data removed]",
      "text/plain": [
       "<Figure size 640x480 with 1 Axes>"
      ]
     },
     "metadata": {},
     "output_type": "display_data"
    }
   ],
   "source": [
    "# Plot a histogram to show the distribution of sentence lengths in dataset\n",
    "plt.hist(sentence_lengths, bins=30)\n",
    "plt.title('Distribution of Sentence Lengths')\n",
    "plt.xlabel('Sentence Length')\n",
    "plt.ylabel('Frequency')\n",
    "plt.plot()"
   ]
  },
  {
   "cell_type": "code",
   "execution_count": null,
   "id": "f646e4f1-3886-48ed-91a7-3fd677e2c73f",
   "metadata": {
    "id": "f646e4f1-3886-48ed-91a7-3fd677e2c73f"
   },
   "outputs": [],
   "source": []
  },
  {
   "cell_type": "markdown",
   "id": "1014641c-1c74-4561-8fb5-44f88f4fc7a3",
   "metadata": {
    "id": "1014641c-1c74-4561-8fb5-44f88f4fc7a3"
   },
   "source": [
    "# Task 3: Visualize Top 20 Most Frequent Words in Text Data"
   ]
  },
  {
   "cell_type": "markdown",
   "id": "f7e12919-5b1f-43fc-839d-861c5b8d02d9",
   "metadata": {
    "id": "f7e12919-5b1f-43fc-839d-861c5b8d02d9"
   },
   "source": [
    "<div data-purpose=\"safely-set-inner-html:rich-text-viewer:html\" class=\"lab-rich-text-viewer--lab-html-content--22XsM rt-scaffolding\"><p>This task involves processing text data to extract and visualize the most frequently occurring words. By tokenizing the sentences and counting the occurrences of each word, you will identify the top 20 most common words in the dataset. Then, you will create a bar plot to visualize these words and their frequencies to understand the common vocabulary within your text data.</p><p><br></p></div>"
   ]
  },
  {
   "cell_type": "code",
   "execution_count": 12,
   "id": "52bd9bcc-b987-47b8-938d-3b85fa82d6b2",
   "metadata": {
    "id": "52bd9bcc-b987-47b8-938d-3b85fa82d6b2"
   },
   "outputs": [],
   "source": [
    "# Import Counter for frequency analysis and seaborn for advanced plotting\n",
    "from collections import Counter\n",
    "import seaborn as sns"
   ]
  },
  {
   "cell_type": "code",
   "execution_count": 13,
   "id": "a5268a29-a761-43d6-b3a8-55492e38eacf",
   "metadata": {
    "colab": {
     "base_uri": "https://localhost:8080/"
    },
    "id": "a5268a29-a761-43d6-b3a8-55492e38eacf",
    "outputId": "4d72d204-adfb-463b-c27b-f0b10957d6f8"
   },
   "outputs": [
    {
     "data": {
      "text/plain": [
       "['According', 'to', 'Gran', ',', 'the', 'company', 'has', 'no', 'plans', 'to']"
      ]
     },
     "execution_count": 13,
     "metadata": {},
     "output_type": "execute_result"
    }
   ],
   "source": [
    "# Flatten the list of sentences into words\n",
    "words = [word for sentence in df.Sentence for word in sentence.split()]\n",
    "words[:10]"
   ]
  },
  {
   "cell_type": "code",
   "execution_count": 14,
   "id": "0cb8d9b9-69f0-4843-b8e1-451b4eb33cef",
   "metadata": {
    "colab": {
     "base_uri": "https://localhost:8080/"
    },
    "id": "0cb8d9b9-69f0-4843-b8e1-451b4eb33cef",
    "outputId": "a5879f56-7ef4-4076-b6b6-11b21ece8c94"
   },
   "outputs": [
    {
     "data": {
      "text/plain": [
       "[('.', 1463), (',', 1461), ('the', 1404), ('of', 1016), ('to', 901)]"
      ]
     },
     "execution_count": 14,
     "metadata": {},
     "output_type": "execute_result"
    }
   ],
   "source": [
    "# Utilize Counter to find top 20 most common words\n",
    "common_words = Counter(words).most_common(20)\n",
    "common_words[:5]"
   ]
  },
  {
   "cell_type": "code",
   "execution_count": 15,
   "id": "b3db991d-ac6a-4f3e-884e-f6af41fbac62",
   "metadata": {
    "colab": {
     "base_uri": "https://localhost:8080/",
     "height": 206
    },
    "id": "b3db991d-ac6a-4f3e-884e-f6af41fbac62",
    "outputId": "0f136752-34b7-4831-a3a3-3373b244b868"
   },
   "outputs": [
    {
     "data": {
      "text/html": [
       "<div>\n",
       "<style scoped>\n",
       "    .dataframe tbody tr th:only-of-type {\n",
       "        vertical-align: middle;\n",
       "    }\n",
       "\n",
       "    .dataframe tbody tr th {\n",
       "        vertical-align: top;\n",
       "    }\n",
       "\n",
       "    .dataframe thead th {\n",
       "        text-align: right;\n",
       "    }\n",
       "</style>\n",
       "<table border=\"1\" class=\"dataframe\">\n",
       "  <thead>\n",
       "    <tr style=\"text-align: right;\">\n",
       "      <th></th>\n",
       "      <th>Word</th>\n",
       "      <th>Frequency</th>\n",
       "    </tr>\n",
       "  </thead>\n",
       "  <tbody>\n",
       "    <tr>\n",
       "      <th>0</th>\n",
       "      <td>.</td>\n",
       "      <td>1463</td>\n",
       "    </tr>\n",
       "    <tr>\n",
       "      <th>1</th>\n",
       "      <td>,</td>\n",
       "      <td>1461</td>\n",
       "    </tr>\n",
       "    <tr>\n",
       "      <th>2</th>\n",
       "      <td>the</td>\n",
       "      <td>1404</td>\n",
       "    </tr>\n",
       "    <tr>\n",
       "      <th>3</th>\n",
       "      <td>of</td>\n",
       "      <td>1016</td>\n",
       "    </tr>\n",
       "    <tr>\n",
       "      <th>4</th>\n",
       "      <td>to</td>\n",
       "      <td>901</td>\n",
       "    </tr>\n",
       "  </tbody>\n",
       "</table>\n",
       "</div>"
      ],
      "text/plain": [
       "  Word  Frequency\n",
       "0    .       1463\n",
       "1    ,       1461\n",
       "2  the       1404\n",
       "3   of       1016\n",
       "4   to        901"
      ]
     },
     "execution_count": 15,
     "metadata": {},
     "output_type": "execute_result"
    }
   ],
   "source": [
    "# Create a Dataframe from the most common words for easy plotting with seaborn\n",
    "common_words_df = pd.DataFrame(common_words, columns=['Word', 'Frequency'])\n",
    "common_words_df.head()"
   ]
  },
  {
   "cell_type": "code",
   "execution_count": 16,
   "id": "3daea589-262c-4aed-86d1-25e89975c3ea",
   "metadata": {
    "colab": {
     "base_uri": "https://localhost:8080/",
     "height": 489
    },
    "id": "3daea589-262c-4aed-86d1-25e89975c3ea",
    "outputId": "dfd0432e-953a-4e74-9577-1bc205316aa3"
   },
   "outputs": [
    {
     "data": {
      "text/plain": [
       "[]"
      ]
     },
     "execution_count": 16,
     "metadata": {},
     "output_type": "execute_result"
    },
    {
     "data": {
      "image/png": "[encoded data removed]",
      "text/plain": [
       "<Figure size 640x480 with 1 Axes>"
      ]
     },
     "metadata": {},
     "output_type": "display_data"
    }
   ],
   "source": [
    "# Use Seaborn's barplot to create horizontal bar plot\n",
    "sns.barplot(data=common_words_df, x='Frequency', y='Word')\n",
    "plt.title('Most Coomon Words')\n",
    "plt.plot()"
   ]
  },
  {
   "cell_type": "markdown",
   "id": "bb34be5b-ce9f-4cd2-bae1-a0b50ae29455",
   "metadata": {
    "id": "bb34be5b-ce9f-4cd2-bae1-a0b50ae29455"
   },
   "source": [
    "# Task 4: Analyze and Visualize Most Frequent Bi-grams in Text Data"
   ]
  },
  {
   "cell_type": "markdown",
   "id": "8e6be0a5-0894-4834-9945-618de991f6a8",
   "metadata": {
    "id": "8e6be0a5-0894-4834-9945-618de991f6a8"
   },
   "source": [
    "<div data-purpose=\"safely-set-inner-html:rich-text-viewer:html\" class=\"lab-rich-text-viewer--lab-html-content--22XsM rt-scaffolding\"><p>In this task, you will extract bi-grams from a corpus of sentences to discover common phrases or pairs of words. Using the CountVectorizer from the scikit-learn library, you will calculate the frequency of each bi-gram in the dataset. Then, you will sort these bi-grams by their frequency and visualize the top 20 most frequent bi-grams.</p><p><br></p></div>"
   ]
  },
  {
   "cell_type": "code",
   "execution_count": 17,
   "id": "2910cf40-979c-49dd-bf1b-32b6a91e88f1",
   "metadata": {
    "id": "2910cf40-979c-49dd-bf1b-32b6a91e88f1"
   },
   "outputs": [],
   "source": [
    "# '''\n",
    "# In the Bigram Language Model, we find bigrams, which are two words coming together in the corpus(the entire collection of words/sentences).\n",
    "\n",
    "# For example: In the sentence, Edpresso is awesome, and user-friendly the bigrams are :\n",
    "\n",
    "# “Edpresso is”\n",
    "# “is awesome”\n",
    "# “and user”\n",
    "# “user friendly”\n",
    "# '''"
   ]
  },
  {
   "cell_type": "code",
   "execution_count": 18,
   "id": "b2a6f5a8-2f65-48f0-bb04-eba7eaaf767c",
   "metadata": {
    "id": "b2a6f5a8-2f65-48f0-bb04-eba7eaaf767c"
   },
   "outputs": [],
   "source": [
    "# Import CountVectorizer for text feature extraction and Seaborn for plotting\n",
    "from sklearn.feature_extraction.text import CountVectorizer"
   ]
  },
  {
   "cell_type": "code",
   "execution_count": 19,
   "id": "872a805f-1074-4e24-b075-2ca566398061",
   "metadata": {
    "colab": {
     "base_uri": "https://localhost:8080/",
     "height": 75
    },
    "id": "872a805f-1074-4e24-b075-2ca566398061",
    "outputId": "6966b214-23e1-49e5-bd2e-c1a5fa47c130"
   },
   "outputs": [
    {
     "data": {
      "text/html": [
       "<style>#sk-container-id-1 {color: black;background-color: white;}#sk-container-id-1 pre{padding: 0;}#sk-container-id-1 div.sk-toggleable {background-color: white;}#sk-container-id-1 label.sk-toggleable__label {cursor: pointer;display: block;width: 100%;margin-bottom: 0;padding: 0.3em;box-sizing: border-box;text-align: center;}#sk-container-id-1 label.sk-toggleable__label-arrow:before {content: \"▸\";float: left;margin-right: 0.25em;color: #696969;}#sk-container-id-1 label.sk-toggleable__label-arrow:hover:before {color: black;}#sk-container-id-1 div.sk-estimator:hover label.sk-toggleable__label-arrow:before {color: black;}#sk-container-id-1 div.sk-toggleable__content {max-height: 0;max-width: 0;overflow: hidden;text-align: left;background-color: #f0f8ff;}#sk-container-id-1 div.sk-toggleable__content pre {margin: 0.2em;color: black;border-radius: 0.25em;background-color: #f0f8ff;}#sk-container-id-1 input.sk-toggleable__control:checked~div.sk-toggleable__content {max-height: 200px;max-width: 100%;overflow: auto;}#sk-container-id-1 input.sk-toggleable__control:checked~label.sk-toggleable__label-arrow:before {content: \"▾\";}#sk-container-id-1 div.sk-estimator input.sk-toggleable__control:checked~label.sk-toggleable__label {background-color: #d4ebff;}#sk-container-id-1 div.sk-label input.sk-toggleable__control:checked~label.sk-toggleable__label {background-color: #d4ebff;}#sk-container-id-1 input.sk-hidden--visually {border: 0;clip: rect(1px 1px 1px 1px);clip: rect(1px, 1px, 1px, 1px);height: 1px;margin: -1px;overflow: hidden;padding: 0;position: absolute;width: 1px;}#sk-container-id-1 div.sk-estimator {font-family: monospace;background-color: #f0f8ff;border: 1px dotted black;border-radius: 0.25em;box-sizing: border-box;margin-bottom: 0.5em;}#sk-container-id-1 div.sk-estimator:hover {background-color: #d4ebff;}#sk-container-id-1 div.sk-parallel-item::after {content: \"\";width: 100%;border-bottom: 1px solid gray;flex-grow: 1;}#sk-container-id-1 div.sk-label:hover label.sk-toggleable__label {background-color: #d4ebff;}#sk-container-id-1 div.sk-serial::before {content: \"\";position: absolute;border-left: 1px solid gray;box-sizing: border-box;top: 0;bottom: 0;left: 50%;z-index: 0;}#sk-container-id-1 div.sk-serial {display: flex;flex-direction: column;align-items: center;background-color: white;padding-right: 0.2em;padding-left: 0.2em;position: relative;}#sk-container-id-1 div.sk-item {position: relative;z-index: 1;}#sk-container-id-1 div.sk-parallel {display: flex;align-items: stretch;justify-content: center;background-color: white;position: relative;}#sk-container-id-1 div.sk-item::before, #sk-container-id-1 div.sk-parallel-item::before {content: \"\";position: absolute;border-left: 1px solid gray;box-sizing: border-box;top: 0;bottom: 0;left: 50%;z-index: -1;}#sk-container-id-1 div.sk-parallel-item {display: flex;flex-direction: column;z-index: 1;position: relative;background-color: white;}#sk-container-id-1 div.sk-parallel-item:first-child::after {align-self: flex-end;width: 50%;}#sk-container-id-1 div.sk-parallel-item:last-child::after {align-self: flex-start;width: 50%;}#sk-container-id-1 div.sk-parallel-item:only-child::after {width: 0;}#sk-container-id-1 div.sk-dashed-wrapped {border: 1px dashed gray;margin: 0 0.4em 0.5em 0.4em;box-sizing: border-box;padding-bottom: 0.4em;background-color: white;}#sk-container-id-1 div.sk-label label {font-family: monospace;font-weight: bold;display: inline-block;line-height: 1.2em;}#sk-container-id-1 div.sk-label-container {text-align: center;}#sk-container-id-1 div.sk-container {/* jupyter's `normalize.less` sets `[hidden] { display: none; }` but bootstrap.min.css set `[hidden] { display: none !important; }` so we also need the `!important` here to be able to override the default hidden behavior on the sphinx rendered scikit-learn.org. See: https://github.com/scikit-learn/scikit-learn/issues/21755 */display: inline-block !important;position: relative;}#sk-container-id-1 div.sk-text-repr-fallback {display: none;}</style><div id=\"sk-container-id-1\" class=\"sk-top-container\"><div class=\"sk-text-repr-fallback\"><pre>CountVectorizer(ngram_range=(2, 2))</pre><b>In a Jupyter environment, please rerun this cell to show the HTML representation or trust the notebook. <br />On GitHub, the HTML representation is unable to render, please try loading this page with nbviewer.org.</b></div><div class=\"sk-container\" hidden><div class=\"sk-item\"><div class=\"sk-estimator sk-toggleable\"><input class=\"sk-toggleable__control sk-hidden--visually\" id=\"sk-estimator-id-1\" type=\"checkbox\" checked><label for=\"sk-estimator-id-1\" class=\"sk-toggleable__label sk-toggleable__label-arrow\">CountVectorizer</label><div class=\"sk-toggleable__content\"><pre>CountVectorizer(ngram_range=(2, 2))</pre></div></div></div></div></div>"
      ],
      "text/plain": [
       "CountVectorizer(ngram_range=(2, 2))"
      ]
     },
     "execution_count": 19,
     "metadata": {},
     "output_type": "execute_result"
    }
   ],
   "source": [
    "# Set up CountVectorizer to consider bi0grams only\n",
    "vectorizer = CountVectorizer(ngram_range=(2,2))\n",
    "vectorizer"
   ]
  },
  {
   "cell_type": "code",
   "execution_count": 20,
   "id": "a9d75c2b-d9ee-4401-9483-13063b6ef50c",
   "metadata": {
    "colab": {
     "base_uri": "https://localhost:8080/"
    },
    "id": "a9d75c2b-d9ee-4401-9483-13063b6ef50c",
    "outputId": "22ca95f1-34ef-47ab-c993-7870b761c7f1"
   },
   "outputs": [
    {
     "data": {
      "text/plain": [
       "<1492x17758 sparse matrix of type '<class 'numpy.int64'>'\n",
       "\twith 28938 stored elements in Compressed Sparse Row format>"
      ]
     },
     "execution_count": 20,
     "metadata": {},
     "output_type": "execute_result"
    }
   ],
   "source": [
    "# Apply the vectorizer to the sentences to get the bi-gram counts\n",
    "ngram_counts = vectorizer.fit_transform(df.Sentence)\n",
    "ngram_counts"
   ]
  },
  {
   "cell_type": "code",
   "execution_count": 21,
   "id": "8c4ce73b-febc-449d-b25a-d49e5b194c65",
   "metadata": {
    "colab": {
     "base_uri": "https://localhost:8080/"
    },
    "id": "8c4ce73b-febc-449d-b25a-d49e5b194c65",
    "outputId": "6e40b0fe-e14a-4d3b-f9b7-7636388eaaaf"
   },
   "outputs": [
    {
     "data": {
      "text/plain": [
       "[('according to', 30),\n",
       " ('to gran', 1),\n",
       " ('gran the', 1),\n",
       " ('the company', 165),\n",
       " ('company has', 12)]"
      ]
     },
     "execution_count": 21,
     "metadata": {},
     "output_type": "execute_result"
    }
   ],
   "source": [
    "# Aggregate counts and get feature names (bi-grams)\n",
    "ngram_sum = ngram_counts.sum(axis=0)\n",
    "ngram_list = [(ngram, ngram_sum[0, idx]) for ngram, idx in vectorizer.vocabulary_.items()]\n",
    "ngram_list[:5]"
   ]
  },
  {
   "cell_type": "code",
   "execution_count": 22,
   "id": "18ccc95a-9af6-4c4a-a3fb-5e00ba4e9139",
   "metadata": {
    "id": "18ccc95a-9af6-4c4a-a3fb-5e00ba4e9139"
   },
   "outputs": [],
   "source": [
    "# Sort the bi-grams by their frequency count in descending order\n",
    "common_ngrams = sorted(ngram_list, key=lambda x: x[1], reverse=True)[:20]"
   ]
  },
  {
   "cell_type": "code",
   "execution_count": 23,
   "id": "1c9a552a-7b31-4ca5-ae94-2346845de77f",
   "metadata": {
    "colab": {
     "base_uri": "https://localhost:8080/",
     "height": 206
    },
    "id": "1c9a552a-7b31-4ca5-ae94-2346845de77f",
    "outputId": "25b28b35-7216-445a-ccbb-a0885b6a7bea"
   },
   "outputs": [
    {
     "data": {
      "text/html": [
       "<div>\n",
       "<style scoped>\n",
       "    .dataframe tbody tr th:only-of-type {\n",
       "        vertical-align: middle;\n",
       "    }\n",
       "\n",
       "    .dataframe tbody tr th {\n",
       "        vertical-align: top;\n",
       "    }\n",
       "\n",
       "    .dataframe thead th {\n",
       "        text-align: right;\n",
       "    }\n",
       "</style>\n",
       "<table border=\"1\" class=\"dataframe\">\n",
       "  <thead>\n",
       "    <tr style=\"text-align: right;\">\n",
       "      <th></th>\n",
       "      <th>N-gram</th>\n",
       "      <th>Frequency</th>\n",
       "    </tr>\n",
       "  </thead>\n",
       "  <tbody>\n",
       "    <tr>\n",
       "      <th>0</th>\n",
       "      <td>in the</td>\n",
       "      <td>264</td>\n",
       "    </tr>\n",
       "    <tr>\n",
       "      <th>1</th>\n",
       "      <td>of the</td>\n",
       "      <td>186</td>\n",
       "    </tr>\n",
       "    <tr>\n",
       "      <th>2</th>\n",
       "      <td>for the</td>\n",
       "      <td>175</td>\n",
       "    </tr>\n",
       "    <tr>\n",
       "      <th>3</th>\n",
       "      <td>the company</td>\n",
       "      <td>165</td>\n",
       "    </tr>\n",
       "    <tr>\n",
       "      <th>4</th>\n",
       "      <td>net sales</td>\n",
       "      <td>143</td>\n",
       "    </tr>\n",
       "  </tbody>\n",
       "</table>\n",
       "</div>"
      ],
      "text/plain": [
       "        N-gram  Frequency\n",
       "0       in the        264\n",
       "1       of the        186\n",
       "2      for the        175\n",
       "3  the company        165\n",
       "4    net sales        143"
      ]
     },
     "execution_count": 23,
     "metadata": {},
     "output_type": "execute_result"
    }
   ],
   "source": [
    "# Create a DataFrame for the most common bi-grams to facilitate visualization\n",
    "common_ngrams_df = pd.DataFrame(common_ngrams, columns=['N-gram', 'Frequency'])\n",
    "common_ngrams_df.head()"
   ]
  },
  {
   "cell_type": "code",
   "execution_count": 24,
   "id": "dd8cac85-3d3b-4c74-88b4-0b36c3d16e89",
   "metadata": {
    "colab": {
     "base_uri": "https://localhost:8080/",
     "height": 472
    },
    "id": "dd8cac85-3d3b-4c74-88b4-0b36c3d16e89",
    "outputId": "b2fca850-16c0-48d4-84b8-ff9102799add"
   },
   "outputs": [
    {
     "data": {
      "image/png": "[encoded data removed]",
      "text/plain": [
       "<Figure size 640x480 with 1 Axes>"
      ]
     },
     "metadata": {},
     "output_type": "display_data"
    }
   ],
   "source": [
    "# Use seaborn to create a bar plot for the bi-gram frequencies\n",
    "sns.barplot(data=common_ngrams_df, x='Frequency', y='N-gram')\n",
    "plt.title('Most Common Bi-grams')  # Adding a title to the plot\n",
    "plt.show()                          # Display the visualization"
   ]
  },
  {
   "cell_type": "code",
   "execution_count": null,
   "id": "830b8ddf-6e75-44f9-ab12-b94d938d892e",
   "metadata": {
    "id": "830b8ddf-6e75-44f9-ab12-b94d938d892e"
   },
   "outputs": [],
   "source": []
  },
  {
   "cell_type": "markdown",
   "id": "bfa60779-7e8a-4f9a-8d9b-8a2b2621d7a0",
   "metadata": {
    "id": "bfa60779-7e8a-4f9a-8d9b-8a2b2621d7a0"
   },
   "source": [
    "# Task 5: Analyze Sentiment Distribution Using Positive and Negative Word Counts"
   ]
  },
  {
   "cell_type": "markdown",
   "id": "ca034870-ed81-487f-915b-4fbd86703e85",
   "metadata": {
    "id": "ca034870-ed81-487f-915b-4fbd86703e85"
   },
   "source": [
    "<div data-purpose=\"safely-set-inner-html:rich-text-viewer:html\" class=\"lab-rich-text-viewer--lab-html-content--22XsM rt-scaffolding\"><p>In this task, you will conduct a simple sentiment analysis by tallying the occurrences of predefined positive and negative sentiment words in a collection of sentences. The goal is to obtain a rough estimate of the sentiment distribution within the text data. To complete the task:</p><ul><li><p>Create two lists: one containing words that are typically associated with 6 positive sentiments (e.g., good, great, positive), and another with 6 words associated with negative sentiments&nbsp; (e.g., bad, poor, down).</p></li><li><p>Calculate the frequency of Sentiment Words</p></li><li><p>Plot the Counts of Sentiment Words</p><p><br></p></li></ul></div>"
   ]
  },
  {
   "cell_type": "code",
   "execution_count": 25,
   "id": "0bdfa217-c1fc-4d52-84ba-2b4f5b9530a0",
   "metadata": {
    "id": "0bdfa217-c1fc-4d52-84ba-2b4f5b9530a0"
   },
   "outputs": [],
   "source": [
    "# Create lists of words associated with positive and negative sentiments\n",
    "positive_words = ['good', 'great', 'positive', 'profit', 'up', 'increase']\n",
    "negative_words = ['bad', 'poor', 'negative', 'loss', 'down', 'decrease']"
   ]
  },
  {
   "cell_type": "code",
   "execution_count": 26,
   "id": "0dd86b9c-69cc-4174-b963-9a567802f17d",
   "metadata": {
    "id": "0dd86b9c-69cc-4174-b963-9a567802f17d"
   },
   "outputs": [],
   "source": [
    "# Calculate the frequency of positive and negative words in the dataset\n",
    "positive_counts = sum([sentence.lower().count(word) for sentence in df['Sentence'] for word in positive_words])\n",
    "negative_counts = sum([sentence.lower().count(word) for sentence in df['Sentence'] for word in negative_words])"
   ]
  },
  {
   "cell_type": "code",
   "execution_count": 27,
   "id": "e8846137-e049-4c3c-b079-1245becd53d6",
   "metadata": {
    "colab": {
     "base_uri": "https://localhost:8080/",
     "height": 452
    },
    "id": "e8846137-e049-4c3c-b079-1245becd53d6",
    "outputId": "4da2876c-9480-4433-8188-3d323c7469df"
   },
   "outputs": [
    {
     "data": {
      "image/png": "[encoded data removed]",
      "text/plain": [
       "<Figure size 640x480 with 1 Axes>"
      ]
     },
     "metadata": {},
     "output_type": "display_data"
    }
   ],
   "source": [
    "# Use seaborn to create a bar plot showing the counts of positive and negative sentiment words\n",
    "sns.barplot(x=['Positive Words', 'Negative Words'], y=[positive_counts, negative_counts])\n",
    "plt.title('Occurrence of Sentiment Words')  # Set the title of the plot\n",
    "plt.ylabel('Count')                          # Set the y-axis label\n",
    "plt.show()                                   # Display the plot"
   ]
  },
  {
   "cell_type": "code",
   "execution_count": null,
   "id": "dca13444-22f8-45ed-b08a-21964419e938",
   "metadata": {
    "id": "dca13444-22f8-45ed-b08a-21964419e938"
   },
   "outputs": [],
   "source": []
  },
  {
   "cell_type": "markdown",
   "id": "1676e9ec-9122-4b58-b12d-a931b4af6a3d",
   "metadata": {
    "id": "1676e9ec-9122-4b58-b12d-a931b4af6a3d"
   },
   "source": [
    "# Task 6: Text Data Preprocessing for Sentiment Analysis Model"
   ]
  },
  {
   "cell_type": "markdown",
   "id": "61149cb8-7198-47dd-b721-b78aa7d70238",
   "metadata": {
    "id": "61149cb8-7198-47dd-b721-b78aa7d70238"
   },
   "source": [
    "<div data-purpose=\"safely-set-inner-html:rich-text-viewer:html\" class=\"lab-rich-text-viewer--lab-html-content--22XsM rt-scaffolding\"><p>Your task is to clean and transform sentences from a dataset so that they can be used by a machine learning model. Specifically, you need to:</p><ul><li><p>Clean the sentences in the dataset.</p></li><li><p>Convert the cleaned sentences into a format suitable for machine learning (TF-IDF).</p></li><li><p>Change text labels into numbers.</p></li><li><p>Split the data into training and testing sets, with a&nbsp; test size of 20% and a random state set to 1502.</p></li><li><p>Make sure the data is in the right format for the machine learning model to process.</p><p><br></p></li></ul></div>"
   ]
  },
  {
   "cell_type": "code",
   "execution_count": null,
   "id": "7b06f65b-e499-4f52-a450-3db5468d2055",
   "metadata": {
    "id": "7b06f65b-e499-4f52-a450-3db5468d2055"
   },
   "outputs": [],
   "source": []
  },
  {
   "cell_type": "code",
   "execution_count": 28,
   "id": "851be2c9-f40f-48eb-b1f5-fc6466ec3792",
   "metadata": {
    "id": "851be2c9-f40f-48eb-b1f5-fc6466ec3792"
   },
   "outputs": [],
   "source": [
    "# Start by defining a function to clean the text data, aiming to standardize it for analysis.\n",
    "import re\n",
    "\n",
    "# Function to clean text data\n",
    "def clean_text(text):\n",
    "    text = re.sub(r\"[^\\w\\s]\", '', text)  # Remove punctuation\n",
    "    text = text.lower()  # Convert to lowercase\n",
    "    text = re.sub(r\"\\s+\", ' ', text)  # Collapse multiple spaces to one\n",
    "    return text.strip()  # Remove leading and trailing spaces"
   ]
  },
  {
   "cell_type": "code",
   "execution_count": 29,
   "id": "39e6fae5-6778-494e-837c-a42761c7b9b3",
   "metadata": {
    "colab": {
     "base_uri": "https://localhost:8080/"
    },
    "id": "39e6fae5-6778-494e-837c-a42761c7b9b3",
    "outputId": "3801c6b0-8b2f-4f0d-f9f9-12dddab469e3"
   },
   "outputs": [
    {
     "data": {
      "text/plain": [
       "0    According to Gran , the company has no plans t...\n",
       "1    With the new production plant the company woul...\n",
       "2    For the last quarter of 2010 , Componenta 's n...\n",
       "3    In the third quarter of 2010 , net sales incre...\n",
       "4    Operating profit rose to EUR 13.1 mn from EUR ...\n",
       "Name: Sentence, dtype: object"
      ]
     },
     "execution_count": 29,
     "metadata": {},
     "output_type": "execute_result"
    }
   ],
   "source": [
    "df['Sentence'].head()"
   ]
  },
  {
   "cell_type": "code",
   "execution_count": 30,
   "id": "fe6305f2-964d-486f-9d35-b886709ed5ad",
   "metadata": {
    "colab": {
     "base_uri": "https://localhost:8080/",
     "height": 206
    },
    "id": "fe6305f2-964d-486f-9d35-b886709ed5ad",
    "outputId": "fa4ef92d-1971-497a-c53d-527b4c789a01"
   },
   "outputs": [
    {
     "data": {
      "text/html": [
       "<div>\n",
       "<style scoped>\n",
       "    .dataframe tbody tr th:only-of-type {\n",
       "        vertical-align: middle;\n",
       "    }\n",
       "\n",
       "    .dataframe tbody tr th {\n",
       "        vertical-align: top;\n",
       "    }\n",
       "\n",
       "    .dataframe thead th {\n",
       "        text-align: right;\n",
       "    }\n",
       "</style>\n",
       "<table border=\"1\" class=\"dataframe\">\n",
       "  <thead>\n",
       "    <tr style=\"text-align: right;\">\n",
       "      <th></th>\n",
       "      <th>Sentence</th>\n",
       "      <th>Label</th>\n",
       "      <th>Cleaned_Sentence</th>\n",
       "    </tr>\n",
       "  </thead>\n",
       "  <tbody>\n",
       "    <tr>\n",
       "      <th>0</th>\n",
       "      <td>According to Gran , the company has no plans t...</td>\n",
       "      <td>neutral</td>\n",
       "      <td>according to gran the company has no plans to ...</td>\n",
       "    </tr>\n",
       "    <tr>\n",
       "      <th>1</th>\n",
       "      <td>With the new production plant the company woul...</td>\n",
       "      <td>positive</td>\n",
       "      <td>with the new production plant the company woul...</td>\n",
       "    </tr>\n",
       "    <tr>\n",
       "      <th>2</th>\n",
       "      <td>For the last quarter of 2010 , Componenta 's n...</td>\n",
       "      <td>positive</td>\n",
       "      <td>for the last quarter of 2010 componenta s net ...</td>\n",
       "    </tr>\n",
       "    <tr>\n",
       "      <th>3</th>\n",
       "      <td>In the third quarter of 2010 , net sales incre...</td>\n",
       "      <td>positive</td>\n",
       "      <td>in the third quarter of 2010 net sales increas...</td>\n",
       "    </tr>\n",
       "    <tr>\n",
       "      <th>4</th>\n",
       "      <td>Operating profit rose to EUR 13.1 mn from EUR ...</td>\n",
       "      <td>positive</td>\n",
       "      <td>operating profit rose to eur 131 mn from eur 8...</td>\n",
       "    </tr>\n",
       "  </tbody>\n",
       "</table>\n",
       "</div>"
      ],
      "text/plain": [
       "                                            Sentence     Label  \\\n",
       "0  According to Gran , the company has no plans t...   neutral   \n",
       "1  With the new production plant the company woul...  positive   \n",
       "2  For the last quarter of 2010 , Componenta 's n...  positive   \n",
       "3  In the third quarter of 2010 , net sales incre...  positive   \n",
       "4  Operating profit rose to EUR 13.1 mn from EUR ...  positive   \n",
       "\n",
       "                                    Cleaned_Sentence  \n",
       "0  according to gran the company has no plans to ...  \n",
       "1  with the new production plant the company woul...  \n",
       "2  for the last quarter of 2010 componenta s net ...  \n",
       "3  in the third quarter of 2010 net sales increas...  \n",
       "4  operating profit rose to eur 131 mn from eur 8...  "
      ]
     },
     "execution_count": 30,
     "metadata": {},
     "output_type": "execute_result"
    }
   ],
   "source": [
    "# Apply the text cleaning function to each sentence in your DataFrame.\n",
    "# Clean sentences in the DataFrame\n",
    "df['Cleaned_Sentence'] = df['Sentence'].apply(clean_text)\n",
    "df.head()"
   ]
  },
  {
   "cell_type": "code",
   "execution_count": 31,
   "id": "d5198146-b35a-46b0-82e9-2892ed35871d",
   "metadata": {
    "colab": {
     "base_uri": "https://localhost:8080/"
    },
    "id": "d5198146-b35a-46b0-82e9-2892ed35871d",
    "outputId": "54d7335b-b1aa-49ed-958d-dd5506ecd0a8"
   },
   "outputs": [
    {
     "data": {
      "text/plain": [
       "<1492x5543 sparse matrix of type '<class 'numpy.float64'>'\n",
       "\twith 27277 stored elements in Compressed Sparse Row format>"
      ]
     },
     "execution_count": 31,
     "metadata": {},
     "output_type": "execute_result"
    }
   ],
   "source": [
    "# Use TF-IDF Vectorizer to transform cleaned sentences into numerical vectors.\n",
    "from sklearn.feature_extraction.text import TfidfVectorizer\n",
    "\n",
    "# Initialize and apply TF-IDF Vectorizer\n",
    "vectorizer = TfidfVectorizer()\n",
    "X = vectorizer.fit_transform(df['Cleaned_Sentence'])\n",
    "X"
   ]
  },
  {
   "cell_type": "code",
   "execution_count": 32,
   "id": "5009dede-a245-4189-ba96-5dd0b479cf0b",
   "metadata": {
    "colab": {
     "base_uri": "https://localhost:8080/"
    },
    "id": "5009dede-a245-4189-ba96-5dd0b479cf0b",
    "outputId": "53bbe56b-6b9e-48b3-8c56-7c33458bdb7c"
   },
   "outputs": [
    {
     "data": {
      "text/plain": [
       "array([1, 2, 2, ..., 2, 2, 2])"
      ]
     },
     "execution_count": 32,
     "metadata": {},
     "output_type": "execute_result"
    }
   ],
   "source": [
    "# Encode the textual labels to numeric form using the LabelEncoder.\n",
    "from sklearn.preprocessing import LabelEncoder\n",
    "\n",
    "# Encode labels to integers\n",
    "encoder = LabelEncoder()\n",
    "y = encoder.fit_transform(df['Label'])\n",
    "y"
   ]
  },
  {
   "cell_type": "code",
   "execution_count": 33,
   "id": "2cc579eb-c01d-4511-9814-17c147620a64",
   "metadata": {
    "colab": {
     "base_uri": "https://localhost:8080/"
    },
    "id": "2cc579eb-c01d-4511-9814-17c147620a64",
    "outputId": "70a46f44-d3f4-4476-c786-56a46e2f06e3"
   },
   "outputs": [
    {
     "data": {
      "text/plain": [
       "<1193x5543 sparse matrix of type '<class 'numpy.float64'>'\n",
       "\twith 21874 stored elements in Compressed Sparse Row format>"
      ]
     },
     "execution_count": 33,
     "metadata": {},
     "output_type": "execute_result"
    }
   ],
   "source": [
    "# Split your data into a training set and a testing set with an 80-20 split.\n",
    "from sklearn.model_selection import train_test_split\n",
    "\n",
    "# Split the dataset into training and test sets\n",
    "X_train, X_test, y_train, y_test = train_test_split(X,\n",
    "                                                    y,\n",
    "                                                    test_size=0.2,\n",
    "                                                    random_state=1502)\n",
    "X_train"
   ]
  },
  {
   "cell_type": "code",
   "execution_count": 34,
   "id": "a62cbef0-ca95-4975-a066-8b9802f7c59c",
   "metadata": {
    "colab": {
     "base_uri": "https://localhost:8080/"
    },
    "id": "a62cbef0-ca95-4975-a066-8b9802f7c59c",
    "outputId": "a0f9a2aa-6527-4367-e36c-964579f29a62"
   },
   "outputs": [
    {
     "data": {
      "text/plain": [
       "matrix([[0., 0., 0., ..., 0., 0., 0.],\n",
       "        [0., 0., 0., ..., 0., 0., 0.],\n",
       "        [0., 0., 0., ..., 0., 0., 0.],\n",
       "        ...,\n",
       "        [0., 0., 0., ..., 0., 0., 0.],\n",
       "        [0., 0., 0., ..., 0., 0., 0.],\n",
       "        [0., 0., 0., ..., 0., 0., 0.]])"
      ]
     },
     "execution_count": 34,
     "metadata": {},
     "output_type": "execute_result"
    }
   ],
   "source": [
    "# Convert the sparse matrix from vectorization into a dense matrix for model compatibility.\n",
    "# Convert sparse matrices to dense for the model input\n",
    "X_train_dense = X_train.todense()\n",
    "X_test_dense = X_test.todense()\n",
    "X_train_dense"
   ]
  },
  {
   "cell_type": "code",
   "execution_count": null,
   "id": "8c78f29c-08c4-4c10-a77f-cb5b9d9a8f66",
   "metadata": {
    "id": "8c78f29c-08c4-4c10-a77f-cb5b9d9a8f66"
   },
   "outputs": [],
   "source": []
  },
  {
   "cell_type": "markdown",
   "id": "2c2724d8-8a9c-4a48-a8c0-b0b60d658c0c",
   "metadata": {
    "id": "2c2724d8-8a9c-4a48-a8c0-b0b60d658c0c"
   },
   "source": [
    "# Task 7: Develop and Visualize a TensorFlow Model for Multi-Class Classification"
   ]
  },
  {
   "cell_type": "markdown",
   "id": "82285e7c-2407-4819-b108-411cbc8b4a5e",
   "metadata": {
    "id": "82285e7c-2407-4819-b108-411cbc8b4a5e"
   },
   "source": [
    "<div data-purpose=\"safely-set-inner-html:rich-text-viewer:html\" class=\"lab-rich-text-viewer--lab-html-content--22XsM rt-scaffolding\"><p>In this task, you will build a multi-class classification neural network model using TensorFlow and visualize its performance. You are expected to construct a Sequential model with parameters such as the number of neurons, activation functions, and output units aligned with the dataset's characteristics. You will then compile, train, and evaluate the model, followed by plotting the accuracy and loss for both training and validation data.</p><p>The specific parameters and steps for this task include:</p><ul><li><p>Construct a<strong> Sequential model </strong>with the following layers:</p></li></ul><ol><li><p>Dense layer with 64 neurons and ReLU activation.</p></li><li><p>Dropout layer with a 50% drop rate.</p></li><li><p>Dense output layer with 3 neurons (one for each class: Positive, Neutral, Negative) using the softmax activation function.</p></li></ol><ul><li><p>Compile the model using the Adam optimizer, sparse categorical cross-entropy loss, and accuracy as the metric.</p></li><li><p>Summarize the model architecture using the <code><strong>model.summary()</strong></code> method.</p></li><li><p>Train the model for 10 epochs with a batch size of 32, including validation data.</p></li><li><p>Evaluate the model's performance on the test data and print out the loss and accuracy.</p></li><li><p>Plot the training and validation accuracy, as well as the loss over epochs.</p><p><br></p></li></ul></div>"
   ]
  },
  {
   "cell_type": "code",
   "execution_count": 35,
   "id": "83206d9d-5d8c-45ca-ae3a-707b2d2f1169",
   "metadata": {
    "id": "83206d9d-5d8c-45ca-ae3a-707b2d2f1169"
   },
   "outputs": [],
   "source": [
    "# Initialize the TensorFlow Sequential model:\n",
    "# Import TensorFlow\n",
    "import tensorflow as tf\n",
    "\n",
    "# Define the Sequential model with specified layers\n",
    "model = tf.keras.Sequential([\n",
    "    tf.keras.layers.Dense(64, activation='relu', input_shape=(X_train.shape[1],)),  # 64-neuron layer\n",
    "    tf.keras.layers.Dropout(0.5),  # Dropout for regularization\n",
    "    tf.keras.layers.Dense(3, activation='softmax')  # Output layer for 3 classes\n",
    "])"
   ]
  },
  {
   "cell_type": "code",
   "execution_count": 36,
   "id": "82ec2a2e-0bee-4ae5-88b9-f9d9272c4667",
   "metadata": {
    "id": "82ec2a2e-0bee-4ae5-88b9-f9d9272c4667"
   },
   "outputs": [],
   "source": [
    "# Compile the Sequential model:\n",
    "# Compile the model with an optimizer, loss function, and evaluation metric\n",
    "model.compile(optimizer='adam',\n",
    "              loss='sparse_categorical_crossentropy',\n",
    "              metrics=['accuracy'])"
   ]
  },
  {
   "cell_type": "code",
   "execution_count": 37,
   "id": "839e686f-1745-48e3-a741-1781846a8ee2",
   "metadata": {
    "colab": {
     "base_uri": "https://localhost:8080/"
    },
    "id": "839e686f-1745-48e3-a741-1781846a8ee2",
    "outputId": "a0f73d92-74b8-4e0b-b45a-7d3be7e64dd5"
   },
   "outputs": [
    {
     "name": "stdout",
     "output_type": "stream",
     "text": [
      "Model: \"sequential\"\n",
      "_________________________________________________________________\n",
      " Layer (type)                Output Shape              Param #   \n",
      "=================================================================\n",
      " dense (Dense)               (None, 64)                354816    \n",
      "                                                                 \n",
      " dropout (Dropout)           (None, 64)                0         \n",
      "                                                                 \n",
      " dense_1 (Dense)             (None, 3)                 195       \n",
      "                                                                 \n",
      "=================================================================\n",
      "Total params: 355,011\n",
      "Trainable params: 355,011\n",
      "Non-trainable params: 0\n",
      "_________________________________________________________________\n"
     ]
    }
   ],
   "source": [
    "# Display the model's architecture:\n",
    "# Output the model summary to understand its structure\n",
    "model.summary()"
   ]
  },
  {
   "cell_type": "code",
   "execution_count": 38,
   "id": "9e8ba6a3-a4d2-4303-ab13-bce14e5e9610",
   "metadata": {
    "colab": {
     "base_uri": "https://localhost:8080/"
    },
    "id": "9e8ba6a3-a4d2-4303-ab13-bce14e5e9610",
    "outputId": "7a39feb2-c3e3-4c1b-bbc3-2c3b34c0c56b"
   },
   "outputs": [
    {
     "name": "stdout",
     "output_type": "stream",
     "text": [
      "Epoch 1/10\n"
     ]
    },
    {
     "name": "stderr",
     "output_type": "stream",
     "text": [
      "2024-02-04 12:10:53.577697: W tensorflow/tsl/platform/profile_utils/cpu_utils.cc:128] Failed to get CPU frequency: 0 Hz\n"
     ]
    },
    {
     "name": "stdout",
     "output_type": "stream",
     "text": [
      "38/38 [==============================] - 0s 3ms/step - loss: 1.0148 - accuracy: 0.5759 - val_loss: 0.9192 - val_accuracy: 0.5518\n",
      "Epoch 2/10\n",
      "38/38 [==============================] - 0s 2ms/step - loss: 0.8136 - accuracy: 0.6354 - val_loss: 0.7673 - val_accuracy: 0.5920\n",
      "Epoch 3/10\n",
      "38/38 [==============================] - 0s 2ms/step - loss: 0.6593 - accuracy: 0.7930 - val_loss: 0.6680 - val_accuracy: 0.7993\n",
      "Epoch 4/10\n",
      "38/38 [==============================] - 0s 1ms/step - loss: 0.5266 - accuracy: 0.8801 - val_loss: 0.5948 - val_accuracy: 0.8227\n",
      "Epoch 5/10\n",
      "38/38 [==============================] - 0s 1ms/step - loss: 0.4184 - accuracy: 0.9128 - val_loss: 0.5399 - val_accuracy: 0.8328\n",
      "Epoch 6/10\n",
      "38/38 [==============================] - 0s 1ms/step - loss: 0.3328 - accuracy: 0.9380 - val_loss: 0.5035 - val_accuracy: 0.8428\n",
      "Epoch 7/10\n",
      "38/38 [==============================] - 0s 1ms/step - loss: 0.2662 - accuracy: 0.9464 - val_loss: 0.4749 - val_accuracy: 0.8361\n",
      "Epoch 8/10\n",
      "38/38 [==============================] - 0s 2ms/step - loss: 0.2148 - accuracy: 0.9556 - val_loss: 0.4541 - val_accuracy: 0.8361\n",
      "Epoch 9/10\n",
      "38/38 [==============================] - 0s 2ms/step - loss: 0.1745 - accuracy: 0.9640 - val_loss: 0.4398 - val_accuracy: 0.8462\n",
      "Epoch 10/10\n",
      "38/38 [==============================] - 0s 1ms/step - loss: 0.1457 - accuracy: 0.9673 - val_loss: 0.4264 - val_accuracy: 0.8395\n"
     ]
    }
   ],
   "source": [
    "# Train the model with the dataset:\n",
    "# Fit the model to the training data, validating against the test data\n",
    "history = model.fit(X_train_dense, y_train,\n",
    "                    epochs=10,\n",
    "                    batch_size=32,\n",
    "                    validation_data=(X_test_dense, y_test))"
   ]
  },
  {
   "cell_type": "code",
   "execution_count": 39,
   "id": "2efbff7f-73f0-43c0-b49b-3ad6b1f9caa1",
   "metadata": {
    "colab": {
     "base_uri": "https://localhost:8080/"
    },
    "id": "2efbff7f-73f0-43c0-b49b-3ad6b1f9caa1",
    "outputId": "0d862d06-140f-4f7b-c5a5-2ae84ed44274"
   },
   "outputs": [
    {
     "name": "stdout",
     "output_type": "stream",
     "text": [
      "10/10 [==============================] - 0s 770us/step - loss: 0.4264 - accuracy: 0.8395\n",
      "Loss: 0.42643842101097107\n",
      "Accuracy: 0.8394649028778076\n"
     ]
    }
   ],
   "source": [
    "# Evaluate the trained model's performance:\n",
    "# Evaluate the model on test dataset\n",
    "loss, accuracy = model.evaluate(X_test_dense, y_test)\n",
    "# Print loss and accuracy\n",
    "print(f'Loss: {loss}')\n",
    "print(f'Accuracy: {accuracy}')"
   ]
  },
  {
   "cell_type": "code",
   "execution_count": 40,
   "id": "0a0e5739-40ca-464f-b163-6a524292a7d4",
   "metadata": {
    "colab": {
     "base_uri": "https://localhost:8080/",
     "height": 607
    },
    "id": "0a0e5739-40ca-464f-b163-6a524292a7d4",
    "outputId": "36911946-0809-4db1-c327-f2eeb372d5fc"
   },
   "outputs": [
    {
     "data": {
      "image/png": "[encoded data removed]",
      "text/plain": [
       "<Figure size 1200x600 with 2 Axes>"
      ]
     },
     "metadata": {},
     "output_type": "display_data"
    }
   ],
   "source": [
    "# Visualize the training and validation metrics:\n",
    "# Import matplotlib for plotting\n",
    "import matplotlib.pyplot as plt\n",
    "\n",
    "# Set up the plotting environment\n",
    "plt.figure(figsize=(12,6))\n",
    "\n",
    "# Plot accuracy\n",
    "plt.subplot(1,2,1)\n",
    "plt.plot(history.history['accuracy'])\n",
    "plt.plot(history.history['val_accuracy'])\n",
    "plt.title('Model Accuracy')\n",
    "plt.ylabel('Accuracy')\n",
    "plt.xlabel('Epoch')\n",
    "plt.legend(['Train', 'Test'], loc='upper left')\n",
    "\n",
    "# Plot loss\n",
    "plt.subplot(1,2,2)\n",
    "plt.plot(history.history['loss'])\n",
    "plt.plot(history.history['val_loss'])\n",
    "plt.title('Model Loss')\n",
    "plt.ylabel('Loss')\n",
    "plt.xlabel('Epoch')\n",
    "plt.legend(['Train', 'Test'], loc='upper left')\n",
    "\n",
    "# Adjust the layout and display the plots\n",
    "plt.tight_layout()\n",
    "plt.show()"
   ]
  },
  {
   "cell_type": "code",
   "execution_count": null,
   "id": "5f74a475-6f3c-4492-a591-af35211a10d0",
   "metadata": {
    "id": "5f74a475-6f3c-4492-a591-af35211a10d0"
   },
   "outputs": [],
   "source": []
  },
  {
   "cell_type": "markdown",
   "id": "809e26eb-9f5e-43ce-af4c-fa860bfb6a1b",
   "metadata": {
    "id": "809e26eb-9f5e-43ce-af4c-fa860bfb6a1b"
   },
   "source": [
    "# Task 8: Optimize Neural Network Hyperparameters Using Keras Tuner"
   ]
  },
  {
   "cell_type": "markdown",
   "id": "ed0e5887-81d0-4fd3-a976-e17c1626e15d",
   "metadata": {
    "id": "ed0e5887-81d0-4fd3-a976-e17c1626e15d"
   },
   "source": [
    "<div data-purpose=\"safely-set-inner-html:rich-text-viewer:html\" class=\"lab-rich-text-viewer--lab-html-content--22XsM rt-scaffolding\"><p>This task involves using Keras Tuner to find the optimal hyperparameters for a multi-class classification neural network model. You will set up a hypermodel function that defines the model architecture and the hyperparameter space to explore. The tuner will then run multiple trials to determine the best combination of neurons in the dense layer, activation function, and dropout rate to achieve the highest validation accuracy.</p><p>The task parameters are:</p><ul><li><p>The number of units in the dense layer ranging from 64 to 512 with a step size of 64.</p></li><li><p>Activation function choices between 'relu' and 'tanh'.</p></li><li><p>Dropout rate from 0.0 to 0.5 with a step size of 0.1.</p></li><li><p>A maximum of 20 trials, with each trial executed 3 times to average out the performance variability.</p></li><li><p><br></p></li></ul></div>\n"
   ]
  },
  {
   "cell_type": "code",
   "execution_count": 41,
   "id": "92c7bd61-d64b-437b-9eb8-0373268e1012",
   "metadata": {
    "colab": {
     "base_uri": "https://localhost:8080/"
    },
    "id": "92c7bd61-d64b-437b-9eb8-0373268e1012",
    "outputId": "9d8514d9-0fbb-4515-cc57-e19230c7eabc"
   },
   "outputs": [
    {
     "name": "stdout",
     "output_type": "stream",
     "text": [
      "Requirement already satisfied: keras-tuner==1.4.5 in /Users/debdatta/anaconda3/lib/python3.10/site-packages (1.4.5)\n",
      "Requirement already satisfied: requests in /Users/debdatta/anaconda3/lib/python3.10/site-packages (from keras-tuner==1.4.5) (2.28.1)\n",
      "Requirement already satisfied: keras-core in /Users/debdatta/anaconda3/lib/python3.10/site-packages (from keras-tuner==1.4.5) (0.1.7)\n",
      "Requirement already satisfied: packaging in /Users/debdatta/anaconda3/lib/python3.10/site-packages (from keras-tuner==1.4.5) (22.0)\n",
      "Requirement already satisfied: kt-legacy in /Users/debdatta/anaconda3/lib/python3.10/site-packages (from keras-tuner==1.4.5) (1.0.5)\n",
      "Requirement already satisfied: dm-tree in /Users/debdatta/anaconda3/lib/python3.10/site-packages (from keras-core->keras-tuner==1.4.5) (0.1.8)\n",
      "Requirement already satisfied: namex in /Users/debdatta/anaconda3/lib/python3.10/site-packages (from keras-core->keras-tuner==1.4.5) (0.0.7)\n",
      "Requirement already satisfied: absl-py in /Users/debdatta/anaconda3/lib/python3.10/site-packages (from keras-core->keras-tuner==1.4.5) (2.1.0)\n",
      "Requirement already satisfied: numpy in /Users/debdatta/anaconda3/lib/python3.10/site-packages (from keras-core->keras-tuner==1.4.5) (1.23.5)\n",
      "Requirement already satisfied: h5py in /Users/debdatta/anaconda3/lib/python3.10/site-packages (from keras-core->keras-tuner==1.4.5) (3.7.0)\n",
      "Requirement already satisfied: rich in /Users/debdatta/anaconda3/lib/python3.10/site-packages (from keras-core->keras-tuner==1.4.5) (13.7.0)\n",
      "Requirement already satisfied: urllib3<1.27,>=1.21.1 in /Users/debdatta/anaconda3/lib/python3.10/site-packages (from requests->keras-tuner==1.4.5) (1.26.14)\n",
      "Requirement already satisfied: charset-normalizer<3,>=2 in /Users/debdatta/anaconda3/lib/python3.10/site-packages (from requests->keras-tuner==1.4.5) (2.0.4)\n",
      "Requirement already satisfied: certifi>=2017.4.17 in /Users/debdatta/anaconda3/lib/python3.10/site-packages (from requests->keras-tuner==1.4.5) (2023.11.17)\n",
      "Requirement already satisfied: idna<4,>=2.5 in /Users/debdatta/anaconda3/lib/python3.10/site-packages (from requests->keras-tuner==1.4.5) (3.4)\n",
      "Requirement already satisfied: markdown-it-py>=2.2.0 in /Users/debdatta/anaconda3/lib/python3.10/site-packages (from rich->keras-core->keras-tuner==1.4.5) (3.0.0)\n",
      "Requirement already satisfied: pygments<3.0.0,>=2.13.0 in /Users/debdatta/anaconda3/lib/python3.10/site-packages (from rich->keras-core->keras-tuner==1.4.5) (2.17.2)\n",
      "Requirement already satisfied: mdurl~=0.1 in /Users/debdatta/anaconda3/lib/python3.10/site-packages (from markdown-it-py>=2.2.0->rich->keras-core->keras-tuner==1.4.5) (0.1.2)\n",
      "Note: you may need to restart the kernel to use updated packages.\n"
     ]
    }
   ],
   "source": [
    "pip install keras-tuner==1.4.5"
   ]
  },
  {
   "cell_type": "code",
   "execution_count": 42,
   "id": "e20efcca-ef44-4783-922f-aa595db21fc8",
   "metadata": {
    "id": "e20efcca-ef44-4783-922f-aa595db21fc8"
   },
   "outputs": [
    {
     "name": "stdout",
     "output_type": "stream",
     "text": [
      "Using TensorFlow backend\n"
     ]
    }
   ],
   "source": [
    "# Import the required library:\n",
    "# Import Keras Tuner\n",
    "import keras_tuner as kt"
   ]
  },
  {
   "cell_type": "code",
   "execution_count": 43,
   "id": "90c46169-9ec9-4228-9b93-18409848942b",
   "metadata": {
    "id": "90c46169-9ec9-4228-9b93-18409848942b"
   },
   "outputs": [],
   "source": [
    "# Define the hypermodel function:\n",
    "\n",
    "# Function to build the model given hyperparameters\n",
    "def build_model_step1(hp):\n",
    "    model = tf.keras.Sequential()\n",
    "    # Dense layer where the number of units is a hyperparameter\n",
    "    model.add(tf.keras.layers.Dense(\n",
    "        units=hp.Int('units', min_value=64, max_value=512, step=64),\n",
    "        activation=hp.Choice('activation', values=['relu', 'tanh']),\n",
    "        input_shape=(X_train.shape[1],)\n",
    "    ))\n",
    "    # Dropout layer where the rate is a hyperparameter\n",
    "    model.add(tf.keras.layers.Dropout(\n",
    "        rate=hp.Float('dropout_rate', min_value=0.0, max_value=0.5, step=0.1)\n",
    "    ))\n",
    "    # Output layer with fixed settings\n",
    "    model.add(tf.keras.layers.Dense(3, activation='softmax'))\n",
    "    # Compile the model with default optimizer and loss function\n",
    "    model.compile(\n",
    "        optimizer=tf.keras.optimizers.Adam(),\n",
    "        loss='sparse_categorical_crossentropy',\n",
    "        metrics=['accuracy']\n",
    "    )\n",
    "    return model"
   ]
  },
  {
   "cell_type": "code",
   "execution_count": 44,
   "id": "f564479a-72ad-4d4b-a8ea-72292f9da4a2",
   "metadata": {
    "id": "f564479a-72ad-4d4b-a8ea-72292f9da4a2"
   },
   "outputs": [
    {
     "name": "stderr",
     "output_type": "stream",
     "text": [
      "WARNING:absl:At this time, the v2.11+ optimizer `tf.keras.optimizers.Adam` runs slowly on M1/M2 Macs, please use the legacy Keras optimizer instead, located at `tf.keras.optimizers.legacy.Adam`.\n",
      "WARNING:absl:There is a known slowdown when using v2.11+ Keras optimizers on M1/M2 Macs. Falling back to the legacy Keras optimizer, i.e., `tf.keras.optimizers.legacy.Adam`.\n"
     ]
    }
   ],
   "source": [
    "# Configure and run the hyperparameter search:\n",
    "\n",
    "# Initialize the random search tuner\n",
    "tuner_step1 = kt.RandomSearch(\n",
    "    build_model_step1,\n",
    "    objective='val_accuracy',\n",
    "    max_trials=20,\n",
    "    executions_per_trial=3,\n",
    "    directory='tuner_step1_directory',\n",
    "    project_name='step1_tuning'\n",
    ")"
   ]
  },
  {
   "cell_type": "code",
   "execution_count": 45,
   "id": "7aa8e280-c6d9-4532-9468-7f88402029fa",
   "metadata": {
    "colab": {
     "base_uri": "https://localhost:8080/"
    },
    "id": "7aa8e280-c6d9-4532-9468-7f88402029fa",
    "outputId": "ee92cc26-2d77-454a-9429-2917cd47f1f1"
   },
   "outputs": [
    {
     "name": "stdout",
     "output_type": "stream",
     "text": [
      "Trial 20 Complete [00h 00m 05s]\n",
      "val_accuracy: 0.8539576331774393\n",
      "\n",
      "Best val_accuracy So Far: 0.8595317602157593\n",
      "Total elapsed time: 00h 01m 39s\n"
     ]
    }
   ],
   "source": [
    "# Start the hyperparameter tuning\n",
    "\n",
    "# Execute the search over the specified epochs and validation data\n",
    "tuner_step1.search(X_train_dense,\n",
    "                   y_train,\n",
    "                   epochs=10,\n",
    "                   validation_data=(X_test_dense,\n",
    "                                    y_test))"
   ]
  },
  {
   "cell_type": "code",
   "execution_count": 46,
   "id": "cee12552-3825-4d35-ab16-a827692ccf01",
   "metadata": {
    "colab": {
     "base_uri": "https://localhost:8080/"
    },
    "id": "cee12552-3825-4d35-ab16-a827692ccf01",
    "outputId": "73b2ad2e-149f-4416-bdd6-44603b80f108"
   },
   "outputs": [
    {
     "name": "stdout",
     "output_type": "stream",
     "text": [
      "Results summary\n",
      "Results in tuner_step1_directory/step1_tuning\n",
      "Showing 10 best trials\n",
      "Objective(name=\"val_accuracy\", direction=\"max\")\n",
      "\n",
      "Trial 04 summary\n",
      "Hyperparameters:\n",
      "units: 384\n",
      "activation: relu\n",
      "dropout_rate: 0.2\n",
      "Score: 0.8595317602157593\n",
      "\n",
      "Trial 06 summary\n",
      "Hyperparameters:\n",
      "units: 384\n",
      "activation: relu\n",
      "dropout_rate: 0.1\n",
      "Score: 0.8595317602157593\n",
      "\n",
      "Trial 03 summary\n",
      "Hyperparameters:\n",
      "units: 320\n",
      "activation: relu\n",
      "dropout_rate: 0.0\n",
      "Score: 0.8584169348080953\n",
      "\n",
      "Trial 14 summary\n",
      "Hyperparameters:\n",
      "units: 384\n",
      "activation: relu\n",
      "dropout_rate: 0.30000000000000004\n",
      "Score: 0.8584169348080953\n",
      "\n",
      "Trial 00 summary\n",
      "Hyperparameters:\n",
      "units: 512\n",
      "activation: relu\n",
      "dropout_rate: 0.1\n",
      "Score: 0.8561872839927673\n",
      "\n",
      "Trial 10 summary\n",
      "Hyperparameters:\n",
      "units: 448\n",
      "activation: relu\n",
      "dropout_rate: 0.1\n",
      "Score: 0.8561872839927673\n",
      "\n",
      "Trial 13 summary\n",
      "Hyperparameters:\n",
      "units: 320\n",
      "activation: tanh\n",
      "dropout_rate: 0.30000000000000004\n",
      "Score: 0.8550724585851034\n",
      "\n",
      "Trial 12 summary\n",
      "Hyperparameters:\n",
      "units: 64\n",
      "activation: tanh\n",
      "dropout_rate: 0.2\n",
      "Score: 0.8539576331774393\n",
      "\n",
      "Trial 19 summary\n",
      "Hyperparameters:\n",
      "units: 256\n",
      "activation: relu\n",
      "dropout_rate: 0.1\n",
      "Score: 0.8539576331774393\n",
      "\n",
      "Trial 08 summary\n",
      "Hyperparameters:\n",
      "units: 512\n",
      "activation: tanh\n",
      "dropout_rate: 0.1\n",
      "Score: 0.8528428077697754\n"
     ]
    }
   ],
   "source": [
    "# Review the search results :\n",
    "\n",
    "# Output the summary of the hyperparameter tuning results\n",
    "tuner_step1.results_summary()"
   ]
  },
  {
   "cell_type": "code",
   "execution_count": 47,
   "id": "b63acd24-b756-4ac0-87e7-173310255e92",
   "metadata": {
    "colab": {
     "base_uri": "https://localhost:8080/"
    },
    "id": "b63acd24-b756-4ac0-87e7-173310255e92",
    "outputId": "6eaba231-ebc0-4905-d636-4b5879fbc951"
   },
   "outputs": [
    {
     "name": "stdout",
     "output_type": "stream",
     "text": [
      "\n",
      "Units: 384\n",
      "Activation: relu\n",
      "Dropout Rate: 0.2\n",
      "\n"
     ]
    }
   ],
   "source": [
    "# Extract and print the best hyperparameters:\n",
    "\n",
    "# Get the best set of hyperparameters\n",
    "best_hps_step1 = tuner_step1.get_best_hyperparameters(num_trials=1)[0]\n",
    "\n",
    "# Print the best hyperparameters\n",
    "print(f\"\"\"\n",
    "Units: {best_hps_step1.get('units')}\n",
    "Activation: {best_hps_step1.get('activation')}\n",
    "Dropout Rate: {best_hps_step1.get('dropout_rate')}\n",
    "\"\"\")"
   ]
  },
  {
   "cell_type": "code",
   "execution_count": null,
   "id": "95d66021-e2ee-4eed-ac1d-6a40d671c4a7",
   "metadata": {
    "id": "95d66021-e2ee-4eed-ac1d-6a40d671c4a7"
   },
   "outputs": [],
   "source": []
  },
  {
   "cell_type": "markdown",
   "id": "c41881fb-b41c-4886-a684-7548d3e64f4a",
   "metadata": {
    "id": "c41881fb-b41c-4886-a684-7548d3e64f4a"
   },
   "source": [
    "# Task 9: Refine Neural Network Model with Secondary Hyperparameter Tuning"
   ]
  },
  {
   "cell_type": "markdown",
   "id": "96c7e244-fefd-4c51-ae07-855ab1ea20d0",
   "metadata": {
    "id": "96c7e244-fefd-4c51-ae07-855ab1ea20d0"
   },
   "source": [
    "<div data-purpose=\"safely-set-inner-html:rich-text-viewer:html\" class=\"lab-rich-text-viewer--lab-html-content--22XsM rt-scaffolding\"><p>In this task, you will leverage the foundational work completed in the initial hyperparameter tuning step to further refine our Natural Language Processing (NLP) model. Your objective is to optimize the model's architecture and training configuration by introducing a second layer of hyperparameter tuning. This iterative process is designed to hone in on the best model configuration for sentiment analysis accuracy.</p><p><strong>Steps to Accomplish:</strong></p><ol><li><p><strong>Model Setup:</strong></p><ul><li><p>Utilize the <code><strong>build_model_step2</strong></code> function to construct a <code><strong>Sequential</strong></code> model.</p></li><li><p>Begin by adding a dense layer using the optimal hyperparameters (<code><strong>units</strong></code> and <code><strong>activation</strong></code>) identified from step 1 of tuning.</p></li><li><p>Incorporate a dropout layer to mitigate overfitting, again using the best dropout rate from the previous tuning step.</p></li></ul></li><li><p><strong>Hyperparameter Expansion:</strong></p><ul><li><p>Define a new hyperparameter within the dense layer to determine the ideal number of <code><strong>second_units</strong></code>. Use the provided range as your search space.</p></li><li><p>Introduce two new hyperparameters for the model: <code><strong>optimizer</strong></code> and <code><strong>learning_rate</strong></code>. You'll choose between <code><strong>adam</strong></code> and <code><strong>sgd</strong></code> for the optimizer, and among three different learning rates.</p></li></ul></li><li><p><strong>Conditional Logic Application:</strong></p><ul><li><p>Apply conditional logic to instantiate the selected optimizer with the appropriate learning rate.</p></li><li><p>Compile the model with the chosen hyperparameters, employing <code><strong>sparse_categorical_crossentropy</strong></code> as the loss function and tracking <code><strong>accuracy</strong></code> as the metric.</p></li></ul></li><li><p><strong>Tuner Initialization:</strong></p><ul><li><p>Initialize a second hyperparameter tuner (<code><strong>tuner_step2</strong></code>) using a <code><strong>RandomSearch</strong></code> strategy.</p></li><li><p>Configure this tuner with the specified search space, trial limitations, and directory setup for storing results.</p></li></ul></li><li><p><strong>Model Optimization:</strong></p><ul><li><p>Execute the hyperparameter search with the training and validation datasets provided, iterating through the specified number of epochs.</p></li><li><p>Upon completion, invoke the <code><strong>results_summary</strong></code> method to output a summary of the hyperparameter tuning results.</p><p><br></p></li></ul></li></ol></div>"
   ]
  },
  {
   "cell_type": "code",
   "execution_count": 48,
   "id": "3a66de52-b641-40d1-a7d2-b66a867cfad1",
   "metadata": {
    "id": "3a66de52-b641-40d1-a7d2-b66a867cfad1"
   },
   "outputs": [],
   "source": [
    "# Define the function to build the refined model:\n",
    "\n",
    "def build_model_step2(hp):\n",
    "    model = tf.keras.Sequential()\n",
    "    # Add the first layer with the best hyperparameters from step 1\n",
    "    model.add(tf.keras.layers.Dense(\n",
    "        units=tuner_step1.get_best_hyperparameters()[0].get('units'),\n",
    "        activation=tuner_step1.get_best_hyperparameters()[0].get('activation'),\n",
    "        input_shape=(X_train.shape[1],)\n",
    "    ))\n",
    "    # Add the dropout layer with the best hyperparameter from step 1\n",
    "    model.add(tf.keras.layers.Dropout(\n",
    "        rate=tuner_step1.get_best_hyperparameters()[0].get('dropout_rate')\n",
    "    ))\n",
    "    # Add a second dense layer where the number of units is a new hyperparameter to tune\n",
    "    model.add(tf.keras.layers.Dense(\n",
    "        units=hp.Int('second_units', min_value=32, max_value=512, step=32),\n",
    "        activation='softmax'\n",
    "    ))\n",
    "\n",
    "    # Set optimizer and learning rate as new hyperparameters to tune\n",
    "    optimizer_selected = hp.Choice('optimizer', values=['adam', 'sgd'])\n",
    "    learning_rate_selected = hp.Choice('learning_rate', values=[1e-2, 1e-3, 1e-4])\n",
    "\n",
    "    # Conditional logic to instantiate the selected optimizer with the selected learning rate\n",
    "    if optimizer_selected == 'adam':\n",
    "        optimizer = tf.keras.optimizers.Adam(learning_rate=learning_rate_selected)\n",
    "    else:\n",
    "        optimizer = tf.keras.optimizers.SGD(learning_rate=learning_rate_selected)\n",
    "\n",
    "    # Compile the model with the selected optimizer, loss, and metric\n",
    "    model.compile(\n",
    "        optimizer=optimizer,\n",
    "        loss='sparse_categorical_crossentropy',\n",
    "        metrics=['accuracy']\n",
    "    )\n",
    "    return model"
   ]
  },
  {
   "cell_type": "code",
   "execution_count": 49,
   "id": "f2ee161c-c0fa-4c32-b4d7-c5067c9163fc",
   "metadata": {
    "colab": {
     "base_uri": "https://localhost:8080/"
    },
    "id": "f2ee161c-c0fa-4c32-b4d7-c5067c9163fc",
    "outputId": "bbce00f6-a61d-4b4a-99b2-c37d62f98261"
   },
   "outputs": [
    {
     "name": "stdout",
     "output_type": "stream",
     "text": [
      "Trial 20 Complete [00h 00m 07s]\n",
      "val_accuracy: 0.8584169348080953\n",
      "\n",
      "Best val_accuracy So Far: 0.8595317602157593\n",
      "Total elapsed time: 00h 02m 09s\n"
     ]
    }
   ],
   "source": [
    "# Initialize and run the second hyperparameter search:\n",
    "\n",
    "# Initialize the second tuner with a new search space\n",
    "tuner_step2 = kt.RandomSearch(\n",
    "    build_model_step2,\n",
    "    objective='val_accuracy',\n",
    "    max_trials=20,\n",
    "    executions_per_trial=3,\n",
    "    directory='tuner_step2_directory',\n",
    "    project_name='step2_tuning'\n",
    ")\n",
    "\n",
    "# Execute the search with the same training and validation data\n",
    "tuner_step2.search(X_train_dense, y_train, epochs=10, validation_data=(X_test_dense, y_test))"
   ]
  },
  {
   "cell_type": "code",
   "execution_count": 50,
   "id": "3125b782-e969-4109-9ff4-62b3bb0a16a7",
   "metadata": {
    "id": "3125b782-e969-4109-9ff4-62b3bb0a16a7"
   },
   "outputs": [
    {
     "name": "stdout",
     "output_type": "stream",
     "text": [
      "Results summary\n",
      "Results in tuner_step2_directory/step2_tuning\n",
      "Showing 10 best trials\n",
      "Objective(name=\"val_accuracy\", direction=\"max\")\n",
      "\n",
      "Trial 08 summary\n",
      "Hyperparameters:\n",
      "second_units: 448\n",
      "optimizer: adam\n",
      "learning_rate: 0.001\n",
      "Score: 0.8595317602157593\n",
      "\n",
      "Trial 19 summary\n",
      "Hyperparameters:\n",
      "second_units: 160\n",
      "optimizer: adam\n",
      "learning_rate: 0.001\n",
      "Score: 0.8584169348080953\n",
      "\n",
      "Trial 14 summary\n",
      "Hyperparameters:\n",
      "second_units: 96\n",
      "optimizer: adam\n",
      "learning_rate: 0.001\n",
      "Score: 0.8539576331774393\n",
      "\n",
      "Trial 03 summary\n",
      "Hyperparameters:\n",
      "second_units: 320\n",
      "optimizer: adam\n",
      "learning_rate: 0.001\n",
      "Score: 0.8506131569544474\n",
      "\n",
      "Trial 05 summary\n",
      "Hyperparameters:\n",
      "second_units: 224\n",
      "optimizer: adam\n",
      "learning_rate: 0.01\n",
      "Score: 0.8494983315467834\n",
      "\n",
      "Trial 01 summary\n",
      "Hyperparameters:\n",
      "second_units: 352\n",
      "optimizer: adam\n",
      "learning_rate: 0.01\n",
      "Score: 0.8483835061391195\n",
      "\n",
      "Trial 09 summary\n",
      "Hyperparameters:\n",
      "second_units: 192\n",
      "optimizer: adam\n",
      "learning_rate: 0.01\n",
      "Score: 0.8472686608632406\n",
      "\n",
      "Trial 12 summary\n",
      "Hyperparameters:\n",
      "second_units: 448\n",
      "optimizer: adam\n",
      "learning_rate: 0.01\n",
      "Score: 0.8439242045084635\n",
      "\n",
      "Trial 04 summary\n",
      "Hyperparameters:\n",
      "second_units: 384\n",
      "optimizer: adam\n",
      "learning_rate: 0.01\n",
      "Score: 0.8439241846402487\n",
      "\n",
      "Trial 15 summary\n",
      "Hyperparameters:\n",
      "second_units: 256\n",
      "optimizer: adam\n",
      "learning_rate: 0.01\n",
      "Score: 0.8416945338249207\n"
     ]
    }
   ],
   "source": [
    "# Review the search results from the second tuning step:\n",
    "\n",
    "# Output the summary of the hyperparameter tuning results from step 2\n",
    "tuner_step2.results_summary()"
   ]
  },
  {
   "cell_type": "code",
   "execution_count": null,
   "id": "b851c605-3fee-4288-b55a-a9070aa1750c",
   "metadata": {
    "id": "b851c605-3fee-4288-b55a-a9070aa1750c"
   },
   "outputs": [],
   "source": []
  },
  {
   "cell_type": "markdown",
   "id": "e6e5946b-2e55-4d27-8f42-9b77d42c2197",
   "metadata": {
    "id": "e6e5946b-2e55-4d27-8f42-9b77d42c2197"
   },
   "source": [
    "# Task 10: Build and Save the Final Tuned Neural Network Model"
   ]
  },
  {
   "cell_type": "markdown",
   "id": "c579fde1-54a2-46b3-be85-7e5f6319a876",
   "metadata": {
    "id": "c579fde1-54a2-46b3-be85-7e5f6319a876"
   },
   "source": [
    "<div data-purpose=\"safely-set-inner-html:rich-text-viewer:html\" class=\"lab-rich-text-viewer--lab-html-content--22XsM rt-scaffolding\"><p>In this final task, you will build a final neural network model using the best hyperparameters obtained from your comprehensive two-step hyperparameter tuning process. Once the model is configured and trained, you will save it for future use, allowing for quick deployment or further analysis without the need to retrain.</p><p>Task Steps:</p><ul><li><p><strong>Construct the final model</strong> using the best hyperparameters identified through the Keras Tuner.</p></li><li><p><strong>Train the final model</strong> using the full training dataset.</p></li><li><p><strong>Evaluate the model's performance</strong> on the test dataset to confirm its accuracy.</p></li><li><p><strong>Save the final trained model </strong>to a file.</p><p><br></p></li></ul></div>"
   ]
  },
  {
   "cell_type": "code",
   "execution_count": 51,
   "id": "94f19069-d7c6-4ccd-bd10-86c9baa03e03",
   "metadata": {
    "id": "94f19069-d7c6-4ccd-bd10-86c9baa03e03"
   },
   "outputs": [
    {
     "name": "stderr",
     "output_type": "stream",
     "text": [
      "WARNING:absl:At this time, the v2.11+ optimizer `tf.keras.optimizers.Adam` runs slowly on M1/M2 Macs, please use the legacy Keras optimizer instead, located at `tf.keras.optimizers.legacy.Adam`.\n",
      "WARNING:absl:There is a known slowdown when using v2.11+ Keras optimizers on M1/M2 Macs. Falling back to the legacy Keras optimizer, i.e., `tf.keras.optimizers.legacy.Adam`.\n"
     ]
    }
   ],
   "source": [
    "# Define and build the final model:\n",
    "\n",
    "def build_final_model(best_hps_step1, best_hps_step2):\n",
    "    model = tf.keras.Sequential()\n",
    "\n",
    "    # First dense layer with best units and activation from step 1\n",
    "    model.add(tf.keras.layers.Dense(\n",
    "        units=best_hps_step1.get('units'),\n",
    "        activation=best_hps_step1.get('activation'),\n",
    "        input_shape=(X_train.shape[1],)\n",
    "    ))\n",
    "\n",
    "    # Dropout layer with the best rate from step 1\n",
    "    model.add(tf.keras.layers.Dropout(best_hps_step1.get('dropout_rate')))\n",
    "\n",
    "    # Second dense layer with best units from step 2\n",
    "    model.add(tf.keras.layers.Dense(\n",
    "        units=best_hps_step2.get('second_units'),\n",
    "        activation='softmax'\n",
    "    ))\n",
    "\n",
    "    # Set the optimizer with the best type and learning rate from step 2\n",
    "    if best_hps_step2.get('optimizer') == 'adam':\n",
    "        optimizer = tf.keras.optimizers.Adam(learning_rate=best_hps_step2.get('learning_rate'))\n",
    "    else:\n",
    "        optimizer = tf.keras.optimizers.SGD(learning_rate=best_hps_step2.get('learning_rate'))\n",
    "\n",
    "    # Compile the model\n",
    "    model.compile(\n",
    "        optimizer=optimizer,\n",
    "        loss='sparse_categorical_crossentropy',\n",
    "        metrics=['accuracy']\n",
    "    )\n",
    "\n",
    "    return model\n",
    "\n",
    "# Retrieve the best hyperparameters from the first tuner\n",
    "best_hps_step1 = tuner_step1.get_best_hyperparameters()[0]\n",
    "\n",
    "# Retrieve the best hyperparameters from the second tuner\n",
    "best_hps_step2 = tuner_step2.get_best_hyperparameters()[0]\n",
    "\n",
    "# Build the final model using the best hyperparameters from both tuning steps\n",
    "final_model = build_final_model(best_hps_step1, best_hps_step2)"
   ]
  },
  {
   "cell_type": "code",
   "execution_count": 52,
   "id": "d15ff4c1-8a80-436b-b054-fe6ff5fe5c2e",
   "metadata": {
    "id": "d15ff4c1-8a80-436b-b054-fe6ff5fe5c2e"
   },
   "outputs": [
    {
     "name": "stdout",
     "output_type": "stream",
     "text": [
      "Epoch 1/10\n",
      "38/38 [==============================] - 0s 7ms/step - loss: 5.3166 - accuracy: 0.5574 - val_loss: 3.6633 - val_accuracy: 0.5485\n",
      "Epoch 2/10\n",
      "38/38 [==============================] - 0s 5ms/step - loss: 1.5511 - accuracy: 0.6521 - val_loss: 0.7730 - val_accuracy: 0.7324\n",
      "Epoch 3/10\n",
      "38/38 [==============================] - 0s 5ms/step - loss: 0.5837 - accuracy: 0.8676 - val_loss: 0.6335 - val_accuracy: 0.7726\n",
      "Epoch 4/10\n",
      "38/38 [==============================] - 0s 6ms/step - loss: 0.3951 - accuracy: 0.9279 - val_loss: 0.5411 - val_accuracy: 0.8261\n",
      "Epoch 5/10\n",
      "38/38 [==============================] - 0s 6ms/step - loss: 0.2572 - accuracy: 0.9514 - val_loss: 0.4823 - val_accuracy: 0.8428\n",
      "Epoch 6/10\n",
      "38/38 [==============================] - 0s 5ms/step - loss: 0.1673 - accuracy: 0.9690 - val_loss: 0.4545 - val_accuracy: 0.8462\n",
      "Epoch 7/10\n",
      "38/38 [==============================] - 0s 5ms/step - loss: 0.1112 - accuracy: 0.9799 - val_loss: 0.4304 - val_accuracy: 0.8462\n",
      "Epoch 8/10\n",
      "38/38 [==============================] - 0s 6ms/step - loss: 0.0728 - accuracy: 0.9866 - val_loss: 0.4208 - val_accuracy: 0.8528\n",
      "Epoch 9/10\n",
      "38/38 [==============================] - 0s 5ms/step - loss: 0.0477 - accuracy: 0.9966 - val_loss: 0.4133 - val_accuracy: 0.8395\n",
      "Epoch 10/10\n",
      "38/38 [==============================] - 0s 5ms/step - loss: 0.0326 - accuracy: 0.9992 - val_loss: 0.4124 - val_accuracy: 0.8495\n"
     ]
    }
   ],
   "source": [
    "# Train the final model:\n",
    "\n",
    "# Train the final model with the training data\n",
    "history_final = final_model.fit(\n",
    "    X_train_dense,\n",
    "    y_train,\n",
    "    epochs=10,\n",
    "    batch_size=32,\n",
    "    validation_data=(X_test_dense, y_test)\n",
    ")"
   ]
  },
  {
   "cell_type": "code",
   "execution_count": 53,
   "id": "70394213-e950-4c6d-8780-5b2c905728a4",
   "metadata": {
    "id": "70394213-e950-4c6d-8780-5b2c905728a4"
   },
   "outputs": [
    {
     "name": "stdout",
     "output_type": "stream",
     "text": [
      "10/10 [==============================] - 0s 2ms/step - loss: 0.4124 - accuracy: 0.8495\n",
      "Final Model Loss: 0.4123738706111908\n",
      "Final Model Accuracy: 0.8494983315467834\n"
     ]
    }
   ],
   "source": [
    "# Evaluate the final model's performance:\n",
    "\n",
    "# Evaluate the final model on the test data\n",
    "final_loss, final_accuracy = final_model.evaluate(X_test_dense, y_test)\n",
    "print(f'Final Model Loss: {final_loss}')\n",
    "print(f'Final Model Accuracy: {final_accuracy}')"
   ]
  },
  {
   "cell_type": "code",
   "execution_count": 54,
   "id": "40993594-4948-4da1-91b9-04168bf2a682",
   "metadata": {
    "id": "40993594-4948-4da1-91b9-04168bf2a682"
   },
   "outputs": [
    {
     "name": "stdout",
     "output_type": "stream",
     "text": [
      "Final model saved to 'final_model.h5'\n"
     ]
    }
   ],
   "source": [
    "# Save the final model:\n",
    "\n",
    "# Save the final model to a file\n",
    "final_model.save('final_model.h5')\n",
    "print(\"Final model saved to 'final_model.h5'\")"
   ]
  },
  {
   "cell_type": "code",
   "execution_count": null,
   "id": "0dbf3a33-1fb0-447c-a90e-ced9122ddaa8",
   "metadata": {
    "id": "0dbf3a33-1fb0-447c-a90e-ced9122ddaa8"
   },
   "outputs": [],
   "source": []
  }
 ],
 "metadata": {
  "colab": {
   "provenance": []
  },
  "kernelspec": {
   "display_name": "Python 3 (ipykernel)",
   "language": "python",
   "name": "python3"
  },
  "language_info": {
   "codemirror_mode": {
    "name": "ipython",
    "version": 3
   },
   "file_extension": ".py",
   "mimetype": "text/x-python",
   "name": "python",
   "nbconvert_exporter": "python",
   "pygments_lexer": "ipython3",
   "version": "3.10.9"
  }
 },
 "nbformat": 4,
 "nbformat_minor": 5
}
